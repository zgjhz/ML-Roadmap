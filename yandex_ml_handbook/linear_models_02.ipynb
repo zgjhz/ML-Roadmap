{
  "cells": [
    {
      "cell_type": "markdown",
      "metadata": {
        "id": "1s2GHGJ1K1uh"
      },
      "source": [
        "## Лабораторная работа \"Линейные модели\""
      ]
    },
    {
      "cell_type": "markdown",
      "metadata": {
        "id": "Wy-GsKMLK1uk"
      },
      "source": [
        "Некоторые задачи в этом ноутбуке надо будет сдавать в [контест](https://new.contest.yandex.ru/60377/start). Когда сдаете туда код, не забудьте сверху прописать все нужные импорты."
      ]
    },
    {
      "cell_type": "markdown",
      "metadata": {
        "id": "Tjm0ejHfK1ul"
      },
      "source": [
        "Мы рассчитываем, что перед тем, как садиться за этот ноутбук, вы прочитали часть про регрессию главы \"Линейные модели\" хендбука по ML."
      ]
    },
    {
      "cell_type": "markdown",
      "metadata": {
        "id": "XeK9RFdNK1ul"
      },
      "source": [
        "Начнём с загрузки необходимых библиотек и функций.\n",
        "\n",
        "Параметр `seed` будет использоваться далее для инициализации генератора случайных чисел из библиотеки `numpy`."
      ]
    },
    {
      "cell_type": "code",
      "execution_count": 2,
      "metadata": {
        "id": "ckp6TITPK1ul",
        "pycharm": {
          "name": "#%%\n"
        }
      },
      "outputs": [],
      "source": [
        "import numpy as np\n",
        "import pandas as pd\n",
        "import seaborn as sns\n",
        "import matplotlib.pyplot as plt\n",
        "from typing import Optional, List\n",
        "from sklearn.model_selection import train_test_split\n",
        "\n",
        "import sklearn.base\n",
        "\n",
        "seed = 24"
      ]
    },
    {
      "cell_type": "markdown",
      "metadata": {
        "id": "gUoWdYEMK1um"
      },
      "source": [
        "В этом ноутбуке мы будем практиковаться на датасете [\"The Ames Iowa Housing Data\"](https://www.openml.org/d/41211). Здесь собраны описания и цены жилья в городе Эймс, штат Айова. Мы будем решать задачу предсказания цены (`Sale_Price`) по всем остальным признакам.\n",
        "\n",
        "И начнём мы, конечно, с того, что внимательно посмотрим на датасет: какие там есть объекты и какие признаки."
      ]
    },
    {
      "cell_type": "code",
      "execution_count": 3,
      "metadata": {
        "id": "wB9CDwb6K1un",
        "pycharm": {
          "name": "#%%\n"
        }
      },
      "outputs": [],
      "source": [
        "## Uncomment the line below to download data and install necessary packages\n",
        "## Maybe won't work on Windows :(\n",
        "\n",
        "# !pip install numpy pandas sklearn matplotlib\n",
        "# !curl https://api.openml.org/data/get_csv/20649135/file2ed11cebe25.arff > data.csv\n",
        "\n",
        "from scipy.io.arff import loadarff\n",
        "raw_data = loadarff('data_02/ames-housing.arff')\n",
        "data = pd.DataFrame(raw_data[0])"
      ]
    },
    {
      "cell_type": "code",
      "execution_count": 4,
      "metadata": {
        "id": "-hZmDQonK1un",
        "pycharm": {
          "name": "#%%\n"
        }
      },
      "outputs": [
        {
          "data": {
            "text/html": [
              "<div>\n",
              "<style scoped>\n",
              "    .dataframe tbody tr th:only-of-type {\n",
              "        vertical-align: middle;\n",
              "    }\n",
              "\n",
              "    .dataframe tbody tr th {\n",
              "        vertical-align: top;\n",
              "    }\n",
              "\n",
              "    .dataframe thead th {\n",
              "        text-align: right;\n",
              "    }\n",
              "</style>\n",
              "<table border=\"1\" class=\"dataframe\">\n",
              "  <thead>\n",
              "    <tr style=\"text-align: right;\">\n",
              "      <th></th>\n",
              "      <th>MS_SubClass</th>\n",
              "      <th>MS_Zoning</th>\n",
              "      <th>Lot_Frontage</th>\n",
              "      <th>Lot_Area</th>\n",
              "      <th>Street</th>\n",
              "      <th>Alley</th>\n",
              "      <th>Lot_Shape</th>\n",
              "      <th>Land_Contour</th>\n",
              "      <th>Utilities</th>\n",
              "      <th>Lot_Config</th>\n",
              "      <th>...</th>\n",
              "      <th>Fence</th>\n",
              "      <th>Misc_Feature</th>\n",
              "      <th>Misc_Val</th>\n",
              "      <th>Mo_Sold</th>\n",
              "      <th>Year_Sold</th>\n",
              "      <th>Sale_Type</th>\n",
              "      <th>Sale_Condition</th>\n",
              "      <th>Sale_Price</th>\n",
              "      <th>Longitude</th>\n",
              "      <th>Latitude</th>\n",
              "    </tr>\n",
              "  </thead>\n",
              "  <tbody>\n",
              "    <tr>\n",
              "      <th>197</th>\n",
              "      <td>b'One_and_Half_Story_Finished_All_Ages'</td>\n",
              "      <td>b'Residential_Medium_Density'</td>\n",
              "      <td>50.0</td>\n",
              "      <td>6000.0</td>\n",
              "      <td>b'Pave'</td>\n",
              "      <td>b'No_Alley_Access'</td>\n",
              "      <td>b'Regular'</td>\n",
              "      <td>b'Lvl'</td>\n",
              "      <td>b'AllPub'</td>\n",
              "      <td>b'Inside'</td>\n",
              "      <td>...</td>\n",
              "      <td>b'No_Fence'</td>\n",
              "      <td>b'None'</td>\n",
              "      <td>0.0</td>\n",
              "      <td>3.0</td>\n",
              "      <td>2010.0</td>\n",
              "      <td>b'WD '</td>\n",
              "      <td>b'Normal'</td>\n",
              "      <td>139900.0</td>\n",
              "      <td>-93.622448</td>\n",
              "      <td>42.033631</td>\n",
              "    </tr>\n",
              "    <tr>\n",
              "      <th>2232</th>\n",
              "      <td>b'One_and_Half_Story_Finished_All_Ages'</td>\n",
              "      <td>b'Residential_Medium_Density'</td>\n",
              "      <td>50.0</td>\n",
              "      <td>7000.0</td>\n",
              "      <td>b'Pave'</td>\n",
              "      <td>b'No_Alley_Access'</td>\n",
              "      <td>b'Regular'</td>\n",
              "      <td>b'Lvl'</td>\n",
              "      <td>b'AllPub'</td>\n",
              "      <td>b'Corner'</td>\n",
              "      <td>...</td>\n",
              "      <td>b'Minimum_Privacy'</td>\n",
              "      <td>b'None'</td>\n",
              "      <td>0.0</td>\n",
              "      <td>5.0</td>\n",
              "      <td>2007.0</td>\n",
              "      <td>b'WD '</td>\n",
              "      <td>b'Normal'</td>\n",
              "      <td>141000.0</td>\n",
              "      <td>-93.629500</td>\n",
              "      <td>42.022474</td>\n",
              "    </tr>\n",
              "    <tr>\n",
              "      <th>1272</th>\n",
              "      <td>b'One_Story_1946_and_Newer_All_Styles'</td>\n",
              "      <td>b'Residential_Low_Density'</td>\n",
              "      <td>70.0</td>\n",
              "      <td>7931.0</td>\n",
              "      <td>b'Pave'</td>\n",
              "      <td>b'No_Alley_Access'</td>\n",
              "      <td>b'Regular'</td>\n",
              "      <td>b'Lvl'</td>\n",
              "      <td>b'AllPub'</td>\n",
              "      <td>b'Inside'</td>\n",
              "      <td>...</td>\n",
              "      <td>b'No_Fence'</td>\n",
              "      <td>b'None'</td>\n",
              "      <td>0.0</td>\n",
              "      <td>6.0</td>\n",
              "      <td>2008.0</td>\n",
              "      <td>b'WD '</td>\n",
              "      <td>b'Normal'</td>\n",
              "      <td>155000.0</td>\n",
              "      <td>-93.606788</td>\n",
              "      <td>42.037291</td>\n",
              "    </tr>\n",
              "    <tr>\n",
              "      <th>1006</th>\n",
              "      <td>b'Two_Story_1946_and_Newer'</td>\n",
              "      <td>b'Residential_Low_Density'</td>\n",
              "      <td>0.0</td>\n",
              "      <td>10832.0</td>\n",
              "      <td>b'Pave'</td>\n",
              "      <td>b'No_Alley_Access'</td>\n",
              "      <td>b'Slightly_Irregular'</td>\n",
              "      <td>b'Lvl'</td>\n",
              "      <td>b'AllPub'</td>\n",
              "      <td>b'Corner'</td>\n",
              "      <td>...</td>\n",
              "      <td>b'No_Fence'</td>\n",
              "      <td>b'Shed'</td>\n",
              "      <td>500.0</td>\n",
              "      <td>10.0</td>\n",
              "      <td>2008.0</td>\n",
              "      <td>b'WD '</td>\n",
              "      <td>b'Normal'</td>\n",
              "      <td>194500.0</td>\n",
              "      <td>-93.636798</td>\n",
              "      <td>42.058445</td>\n",
              "    </tr>\n",
              "    <tr>\n",
              "      <th>852</th>\n",
              "      <td>b'One_Story_1946_and_Newer_All_Styles'</td>\n",
              "      <td>b'Residential_Low_Density'</td>\n",
              "      <td>60.0</td>\n",
              "      <td>8430.0</td>\n",
              "      <td>b'Pave'</td>\n",
              "      <td>b'No_Alley_Access'</td>\n",
              "      <td>b'Regular'</td>\n",
              "      <td>b'HLS'</td>\n",
              "      <td>b'AllPub'</td>\n",
              "      <td>b'Inside'</td>\n",
              "      <td>...</td>\n",
              "      <td>b'No_Fence'</td>\n",
              "      <td>b'None'</td>\n",
              "      <td>0.0</td>\n",
              "      <td>8.0</td>\n",
              "      <td>2009.0</td>\n",
              "      <td>b'WD '</td>\n",
              "      <td>b'Normal'</td>\n",
              "      <td>124000.0</td>\n",
              "      <td>-93.686916</td>\n",
              "      <td>42.021384</td>\n",
              "    </tr>\n",
              "    <tr>\n",
              "      <th>1231</th>\n",
              "      <td>b'One_Story_1946_and_Newer_All_Styles'</td>\n",
              "      <td>b'Residential_Low_Density'</td>\n",
              "      <td>80.0</td>\n",
              "      <td>8400.0</td>\n",
              "      <td>b'Pave'</td>\n",
              "      <td>b'No_Alley_Access'</td>\n",
              "      <td>b'Regular'</td>\n",
              "      <td>b'Lvl'</td>\n",
              "      <td>b'AllPub'</td>\n",
              "      <td>b'Inside'</td>\n",
              "      <td>...</td>\n",
              "      <td>b'Good_Privacy'</td>\n",
              "      <td>b'None'</td>\n",
              "      <td>0.0</td>\n",
              "      <td>7.0</td>\n",
              "      <td>2008.0</td>\n",
              "      <td>b'COD'</td>\n",
              "      <td>b'Abnorml'</td>\n",
              "      <td>174000.0</td>\n",
              "      <td>-93.616992</td>\n",
              "      <td>42.047080</td>\n",
              "    </tr>\n",
              "    <tr>\n",
              "      <th>237</th>\n",
              "      <td>b'One_Story_1946_and_Newer_All_Styles'</td>\n",
              "      <td>b'Residential_Low_Density'</td>\n",
              "      <td>68.0</td>\n",
              "      <td>9571.0</td>\n",
              "      <td>b'Pave'</td>\n",
              "      <td>b'No_Alley_Access'</td>\n",
              "      <td>b'Regular'</td>\n",
              "      <td>b'Lvl'</td>\n",
              "      <td>b'AllPub'</td>\n",
              "      <td>b'Inside'</td>\n",
              "      <td>...</td>\n",
              "      <td>b'No_Fence'</td>\n",
              "      <td>b'None'</td>\n",
              "      <td>0.0</td>\n",
              "      <td>6.0</td>\n",
              "      <td>2010.0</td>\n",
              "      <td>b'WD '</td>\n",
              "      <td>b'Normal'</td>\n",
              "      <td>129000.0</td>\n",
              "      <td>-93.667708</td>\n",
              "      <td>42.024208</td>\n",
              "    </tr>\n",
              "    <tr>\n",
              "      <th>2118</th>\n",
              "      <td>b'One_Story_1946_and_Newer_All_Styles'</td>\n",
              "      <td>b'Residential_Low_Density'</td>\n",
              "      <td>155.0</td>\n",
              "      <td>20064.0</td>\n",
              "      <td>b'Pave'</td>\n",
              "      <td>b'No_Alley_Access'</td>\n",
              "      <td>b'Slightly_Irregular'</td>\n",
              "      <td>b'Low'</td>\n",
              "      <td>b'AllPub'</td>\n",
              "      <td>b'Inside'</td>\n",
              "      <td>...</td>\n",
              "      <td>b'No_Fence'</td>\n",
              "      <td>b'None'</td>\n",
              "      <td>0.0</td>\n",
              "      <td>5.0</td>\n",
              "      <td>2007.0</td>\n",
              "      <td>b'WD '</td>\n",
              "      <td>b'Normal'</td>\n",
              "      <td>279000.0</td>\n",
              "      <td>-93.683612</td>\n",
              "      <td>42.024305</td>\n",
              "    </tr>\n",
              "    <tr>\n",
              "      <th>529</th>\n",
              "      <td>b'Two_Story_1946_and_Newer'</td>\n",
              "      <td>b'Floating_Village_Residential'</td>\n",
              "      <td>75.0</td>\n",
              "      <td>9375.0</td>\n",
              "      <td>b'Pave'</td>\n",
              "      <td>b'No_Alley_Access'</td>\n",
              "      <td>b'Regular'</td>\n",
              "      <td>b'Lvl'</td>\n",
              "      <td>b'AllPub'</td>\n",
              "      <td>b'Inside'</td>\n",
              "      <td>...</td>\n",
              "      <td>b'No_Fence'</td>\n",
              "      <td>b'None'</td>\n",
              "      <td>0.0</td>\n",
              "      <td>11.0</td>\n",
              "      <td>2009.0</td>\n",
              "      <td>b'WD '</td>\n",
              "      <td>b'Normal'</td>\n",
              "      <td>263000.0</td>\n",
              "      <td>-93.641746</td>\n",
              "      <td>42.051414</td>\n",
              "    </tr>\n",
              "    <tr>\n",
              "      <th>2810</th>\n",
              "      <td>b'One_Story_1946_and_Newer_All_Styles'</td>\n",
              "      <td>b'Residential_Low_Density'</td>\n",
              "      <td>84.0</td>\n",
              "      <td>10084.0</td>\n",
              "      <td>b'Pave'</td>\n",
              "      <td>b'No_Alley_Access'</td>\n",
              "      <td>b'Regular'</td>\n",
              "      <td>b'Lvl'</td>\n",
              "      <td>b'AllPub'</td>\n",
              "      <td>b'Inside'</td>\n",
              "      <td>...</td>\n",
              "      <td>b'No_Fence'</td>\n",
              "      <td>b'None'</td>\n",
              "      <td>0.0</td>\n",
              "      <td>7.0</td>\n",
              "      <td>2006.0</td>\n",
              "      <td>b'New'</td>\n",
              "      <td>b'Partial'</td>\n",
              "      <td>212900.0</td>\n",
              "      <td>-93.684116</td>\n",
              "      <td>42.016004</td>\n",
              "    </tr>\n",
              "    <tr>\n",
              "      <th>1698</th>\n",
              "      <td>b'One_Story_1946_and_Newer_All_Styles'</td>\n",
              "      <td>b'Residential_Low_Density'</td>\n",
              "      <td>98.0</td>\n",
              "      <td>11428.0</td>\n",
              "      <td>b'Pave'</td>\n",
              "      <td>b'No_Alley_Access'</td>\n",
              "      <td>b'Slightly_Irregular'</td>\n",
              "      <td>b'Lvl'</td>\n",
              "      <td>b'AllPub'</td>\n",
              "      <td>b'Inside'</td>\n",
              "      <td>...</td>\n",
              "      <td>b'No_Fence'</td>\n",
              "      <td>b'None'</td>\n",
              "      <td>0.0</td>\n",
              "      <td>5.0</td>\n",
              "      <td>2007.0</td>\n",
              "      <td>b'WD '</td>\n",
              "      <td>b'Normal'</td>\n",
              "      <td>250000.0</td>\n",
              "      <td>-93.653310</td>\n",
              "      <td>42.061504</td>\n",
              "    </tr>\n",
              "    <tr>\n",
              "      <th>1899</th>\n",
              "      <td>b'One_Story_1946_and_Newer_All_Styles'</td>\n",
              "      <td>b'Residential_Low_Density'</td>\n",
              "      <td>57.0</td>\n",
              "      <td>8280.0</td>\n",
              "      <td>b'Pave'</td>\n",
              "      <td>b'No_Alley_Access'</td>\n",
              "      <td>b'Slightly_Irregular'</td>\n",
              "      <td>b'Lvl'</td>\n",
              "      <td>b'AllPub'</td>\n",
              "      <td>b'Inside'</td>\n",
              "      <td>...</td>\n",
              "      <td>b'Good_Privacy'</td>\n",
              "      <td>b'None'</td>\n",
              "      <td>0.0</td>\n",
              "      <td>11.0</td>\n",
              "      <td>2007.0</td>\n",
              "      <td>b'WD '</td>\n",
              "      <td>b'Normal'</td>\n",
              "      <td>124000.0</td>\n",
              "      <td>-93.622804</td>\n",
              "      <td>42.039212</td>\n",
              "    </tr>\n",
              "    <tr>\n",
              "      <th>2450</th>\n",
              "      <td>b'Two_Story_1946_and_Newer'</td>\n",
              "      <td>b'Residential_Low_Density'</td>\n",
              "      <td>114.0</td>\n",
              "      <td>17242.0</td>\n",
              "      <td>b'Pave'</td>\n",
              "      <td>b'No_Alley_Access'</td>\n",
              "      <td>b'Slightly_Irregular'</td>\n",
              "      <td>b'Lvl'</td>\n",
              "      <td>b'AllPub'</td>\n",
              "      <td>b'Inside'</td>\n",
              "      <td>...</td>\n",
              "      <td>b'No_Fence'</td>\n",
              "      <td>b'None'</td>\n",
              "      <td>0.0</td>\n",
              "      <td>5.0</td>\n",
              "      <td>2006.0</td>\n",
              "      <td>b'WD '</td>\n",
              "      <td>b'Normal'</td>\n",
              "      <td>584500.0</td>\n",
              "      <td>-93.655997</td>\n",
              "      <td>42.049423</td>\n",
              "    </tr>\n",
              "    <tr>\n",
              "      <th>2565</th>\n",
              "      <td>b'Duplex_All_Styles_and_Ages'</td>\n",
              "      <td>b'Residential_Low_Density'</td>\n",
              "      <td>0.0</td>\n",
              "      <td>8917.0</td>\n",
              "      <td>b'Pave'</td>\n",
              "      <td>b'No_Alley_Access'</td>\n",
              "      <td>b'Slightly_Irregular'</td>\n",
              "      <td>b'Lvl'</td>\n",
              "      <td>b'AllPub'</td>\n",
              "      <td>b'Inside'</td>\n",
              "      <td>...</td>\n",
              "      <td>b'No_Fence'</td>\n",
              "      <td>b'None'</td>\n",
              "      <td>0.0</td>\n",
              "      <td>10.0</td>\n",
              "      <td>2006.0</td>\n",
              "      <td>b'WD '</td>\n",
              "      <td>b'Normal'</td>\n",
              "      <td>119000.0</td>\n",
              "      <td>-93.619673</td>\n",
              "      <td>42.049300</td>\n",
              "    </tr>\n",
              "    <tr>\n",
              "      <th>425</th>\n",
              "      <td>b'One_Story_1946_and_Newer_All_Styles'</td>\n",
              "      <td>b'Residential_Low_Density'</td>\n",
              "      <td>110.0</td>\n",
              "      <td>14230.0</td>\n",
              "      <td>b'Pave'</td>\n",
              "      <td>b'No_Alley_Access'</td>\n",
              "      <td>b'Regular'</td>\n",
              "      <td>b'Lvl'</td>\n",
              "      <td>b'AllPub'</td>\n",
              "      <td>b'Corner'</td>\n",
              "      <td>...</td>\n",
              "      <td>b'No_Fence'</td>\n",
              "      <td>b'None'</td>\n",
              "      <td>0.0</td>\n",
              "      <td>7.0</td>\n",
              "      <td>2009.0</td>\n",
              "      <td>b'WD '</td>\n",
              "      <td>b'Normal'</td>\n",
              "      <td>256300.0</td>\n",
              "      <td>-93.654241</td>\n",
              "      <td>42.062991</td>\n",
              "    </tr>\n",
              "    <tr>\n",
              "      <th>2115</th>\n",
              "      <td>b'One_and_Half_Story_Finished_All_Ages'</td>\n",
              "      <td>b'Residential_Low_Density'</td>\n",
              "      <td>0.0</td>\n",
              "      <td>159000.0</td>\n",
              "      <td>b'Pave'</td>\n",
              "      <td>b'No_Alley_Access'</td>\n",
              "      <td>b'Moderately_Irregular'</td>\n",
              "      <td>b'Low'</td>\n",
              "      <td>b'AllPub'</td>\n",
              "      <td>b'CulDSac'</td>\n",
              "      <td>...</td>\n",
              "      <td>b'No_Fence'</td>\n",
              "      <td>b'Shed'</td>\n",
              "      <td>500.0</td>\n",
              "      <td>6.0</td>\n",
              "      <td>2007.0</td>\n",
              "      <td>b'WD '</td>\n",
              "      <td>b'Normal'</td>\n",
              "      <td>277000.0</td>\n",
              "      <td>-93.682439</td>\n",
              "      <td>42.027956</td>\n",
              "    </tr>\n",
              "    <tr>\n",
              "      <th>2320</th>\n",
              "      <td>b'Two_Story_1946_and_Newer'</td>\n",
              "      <td>b'Residential_Low_Density'</td>\n",
              "      <td>42.0</td>\n",
              "      <td>13751.0</td>\n",
              "      <td>b'Pave'</td>\n",
              "      <td>b'No_Alley_Access'</td>\n",
              "      <td>b'Slightly_Irregular'</td>\n",
              "      <td>b'HLS'</td>\n",
              "      <td>b'AllPub'</td>\n",
              "      <td>b'CulDSac'</td>\n",
              "      <td>...</td>\n",
              "      <td>b'No_Fence'</td>\n",
              "      <td>b'None'</td>\n",
              "      <td>0.0</td>\n",
              "      <td>5.0</td>\n",
              "      <td>2006.0</td>\n",
              "      <td>b'New'</td>\n",
              "      <td>b'Partial'</td>\n",
              "      <td>309000.0</td>\n",
              "      <td>-93.635798</td>\n",
              "      <td>42.062891</td>\n",
              "    </tr>\n",
              "    <tr>\n",
              "      <th>2208</th>\n",
              "      <td>b'One_Story_1945_and_Older'</td>\n",
              "      <td>b'Residential_Low_Density'</td>\n",
              "      <td>50.0</td>\n",
              "      <td>6305.0</td>\n",
              "      <td>b'Pave'</td>\n",
              "      <td>b'No_Alley_Access'</td>\n",
              "      <td>b'Regular'</td>\n",
              "      <td>b'Bnk'</td>\n",
              "      <td>b'AllPub'</td>\n",
              "      <td>b'Inside'</td>\n",
              "      <td>...</td>\n",
              "      <td>b'Minimum_Privacy'</td>\n",
              "      <td>b'None'</td>\n",
              "      <td>0.0</td>\n",
              "      <td>6.0</td>\n",
              "      <td>2007.0</td>\n",
              "      <td>b'WD '</td>\n",
              "      <td>b'Normal'</td>\n",
              "      <td>119750.0</td>\n",
              "      <td>-93.646416</td>\n",
              "      <td>42.016067</td>\n",
              "    </tr>\n",
              "    <tr>\n",
              "      <th>1751</th>\n",
              "      <td>b'Split_or_Multilevel'</td>\n",
              "      <td>b'Residential_Low_Density'</td>\n",
              "      <td>0.0</td>\n",
              "      <td>11950.0</td>\n",
              "      <td>b'Pave'</td>\n",
              "      <td>b'No_Alley_Access'</td>\n",
              "      <td>b'Slightly_Irregular'</td>\n",
              "      <td>b'Lvl'</td>\n",
              "      <td>b'AllPub'</td>\n",
              "      <td>b'Corner'</td>\n",
              "      <td>...</td>\n",
              "      <td>b'No_Fence'</td>\n",
              "      <td>b'None'</td>\n",
              "      <td>0.0</td>\n",
              "      <td>10.0</td>\n",
              "      <td>2007.0</td>\n",
              "      <td>b'WD '</td>\n",
              "      <td>b'Normal'</td>\n",
              "      <td>165500.0</td>\n",
              "      <td>-93.639977</td>\n",
              "      <td>42.061392</td>\n",
              "    </tr>\n",
              "    <tr>\n",
              "      <th>999</th>\n",
              "      <td>b'One_Story_PUD_1946_and_Newer'</td>\n",
              "      <td>b'Residential_Low_Density'</td>\n",
              "      <td>41.0</td>\n",
              "      <td>4923.0</td>\n",
              "      <td>b'Pave'</td>\n",
              "      <td>b'No_Alley_Access'</td>\n",
              "      <td>b'Regular'</td>\n",
              "      <td>b'Lvl'</td>\n",
              "      <td>b'AllPub'</td>\n",
              "      <td>b'Inside'</td>\n",
              "      <td>...</td>\n",
              "      <td>b'No_Fence'</td>\n",
              "      <td>b'None'</td>\n",
              "      <td>0.0</td>\n",
              "      <td>8.0</td>\n",
              "      <td>2008.0</td>\n",
              "      <td>b'WD '</td>\n",
              "      <td>b'Normal'</td>\n",
              "      <td>286000.0</td>\n",
              "      <td>-93.633876</td>\n",
              "      <td>42.062976</td>\n",
              "    </tr>\n",
              "  </tbody>\n",
              "</table>\n",
              "<p>20 rows × 81 columns</p>\n",
              "</div>"
            ],
            "text/plain": [
              "                                  MS_SubClass  \\\n",
              "197   b'One_and_Half_Story_Finished_All_Ages'   \n",
              "2232  b'One_and_Half_Story_Finished_All_Ages'   \n",
              "1272   b'One_Story_1946_and_Newer_All_Styles'   \n",
              "1006              b'Two_Story_1946_and_Newer'   \n",
              "852    b'One_Story_1946_and_Newer_All_Styles'   \n",
              "1231   b'One_Story_1946_and_Newer_All_Styles'   \n",
              "237    b'One_Story_1946_and_Newer_All_Styles'   \n",
              "2118   b'One_Story_1946_and_Newer_All_Styles'   \n",
              "529               b'Two_Story_1946_and_Newer'   \n",
              "2810   b'One_Story_1946_and_Newer_All_Styles'   \n",
              "1698   b'One_Story_1946_and_Newer_All_Styles'   \n",
              "1899   b'One_Story_1946_and_Newer_All_Styles'   \n",
              "2450              b'Two_Story_1946_and_Newer'   \n",
              "2565            b'Duplex_All_Styles_and_Ages'   \n",
              "425    b'One_Story_1946_and_Newer_All_Styles'   \n",
              "2115  b'One_and_Half_Story_Finished_All_Ages'   \n",
              "2320              b'Two_Story_1946_and_Newer'   \n",
              "2208              b'One_Story_1945_and_Older'   \n",
              "1751                   b'Split_or_Multilevel'   \n",
              "999           b'One_Story_PUD_1946_and_Newer'   \n",
              "\n",
              "                            MS_Zoning  Lot_Frontage  Lot_Area   Street  \\\n",
              "197     b'Residential_Medium_Density'          50.0    6000.0  b'Pave'   \n",
              "2232    b'Residential_Medium_Density'          50.0    7000.0  b'Pave'   \n",
              "1272       b'Residential_Low_Density'          70.0    7931.0  b'Pave'   \n",
              "1006       b'Residential_Low_Density'           0.0   10832.0  b'Pave'   \n",
              "852        b'Residential_Low_Density'          60.0    8430.0  b'Pave'   \n",
              "1231       b'Residential_Low_Density'          80.0    8400.0  b'Pave'   \n",
              "237        b'Residential_Low_Density'          68.0    9571.0  b'Pave'   \n",
              "2118       b'Residential_Low_Density'         155.0   20064.0  b'Pave'   \n",
              "529   b'Floating_Village_Residential'          75.0    9375.0  b'Pave'   \n",
              "2810       b'Residential_Low_Density'          84.0   10084.0  b'Pave'   \n",
              "1698       b'Residential_Low_Density'          98.0   11428.0  b'Pave'   \n",
              "1899       b'Residential_Low_Density'          57.0    8280.0  b'Pave'   \n",
              "2450       b'Residential_Low_Density'         114.0   17242.0  b'Pave'   \n",
              "2565       b'Residential_Low_Density'           0.0    8917.0  b'Pave'   \n",
              "425        b'Residential_Low_Density'         110.0   14230.0  b'Pave'   \n",
              "2115       b'Residential_Low_Density'           0.0  159000.0  b'Pave'   \n",
              "2320       b'Residential_Low_Density'          42.0   13751.0  b'Pave'   \n",
              "2208       b'Residential_Low_Density'          50.0    6305.0  b'Pave'   \n",
              "1751       b'Residential_Low_Density'           0.0   11950.0  b'Pave'   \n",
              "999        b'Residential_Low_Density'          41.0    4923.0  b'Pave'   \n",
              "\n",
              "                   Alley                Lot_Shape Land_Contour  Utilities  \\\n",
              "197   b'No_Alley_Access'               b'Regular'       b'Lvl'  b'AllPub'   \n",
              "2232  b'No_Alley_Access'               b'Regular'       b'Lvl'  b'AllPub'   \n",
              "1272  b'No_Alley_Access'               b'Regular'       b'Lvl'  b'AllPub'   \n",
              "1006  b'No_Alley_Access'    b'Slightly_Irregular'       b'Lvl'  b'AllPub'   \n",
              "852   b'No_Alley_Access'               b'Regular'       b'HLS'  b'AllPub'   \n",
              "1231  b'No_Alley_Access'               b'Regular'       b'Lvl'  b'AllPub'   \n",
              "237   b'No_Alley_Access'               b'Regular'       b'Lvl'  b'AllPub'   \n",
              "2118  b'No_Alley_Access'    b'Slightly_Irregular'       b'Low'  b'AllPub'   \n",
              "529   b'No_Alley_Access'               b'Regular'       b'Lvl'  b'AllPub'   \n",
              "2810  b'No_Alley_Access'               b'Regular'       b'Lvl'  b'AllPub'   \n",
              "1698  b'No_Alley_Access'    b'Slightly_Irregular'       b'Lvl'  b'AllPub'   \n",
              "1899  b'No_Alley_Access'    b'Slightly_Irregular'       b'Lvl'  b'AllPub'   \n",
              "2450  b'No_Alley_Access'    b'Slightly_Irregular'       b'Lvl'  b'AllPub'   \n",
              "2565  b'No_Alley_Access'    b'Slightly_Irregular'       b'Lvl'  b'AllPub'   \n",
              "425   b'No_Alley_Access'               b'Regular'       b'Lvl'  b'AllPub'   \n",
              "2115  b'No_Alley_Access'  b'Moderately_Irregular'       b'Low'  b'AllPub'   \n",
              "2320  b'No_Alley_Access'    b'Slightly_Irregular'       b'HLS'  b'AllPub'   \n",
              "2208  b'No_Alley_Access'               b'Regular'       b'Bnk'  b'AllPub'   \n",
              "1751  b'No_Alley_Access'    b'Slightly_Irregular'       b'Lvl'  b'AllPub'   \n",
              "999   b'No_Alley_Access'               b'Regular'       b'Lvl'  b'AllPub'   \n",
              "\n",
              "      Lot_Config  ...               Fence Misc_Feature Misc_Val Mo_Sold  \\\n",
              "197    b'Inside'  ...         b'No_Fence'      b'None'      0.0     3.0   \n",
              "2232   b'Corner'  ...  b'Minimum_Privacy'      b'None'      0.0     5.0   \n",
              "1272   b'Inside'  ...         b'No_Fence'      b'None'      0.0     6.0   \n",
              "1006   b'Corner'  ...         b'No_Fence'      b'Shed'    500.0    10.0   \n",
              "852    b'Inside'  ...         b'No_Fence'      b'None'      0.0     8.0   \n",
              "1231   b'Inside'  ...     b'Good_Privacy'      b'None'      0.0     7.0   \n",
              "237    b'Inside'  ...         b'No_Fence'      b'None'      0.0     6.0   \n",
              "2118   b'Inside'  ...         b'No_Fence'      b'None'      0.0     5.0   \n",
              "529    b'Inside'  ...         b'No_Fence'      b'None'      0.0    11.0   \n",
              "2810   b'Inside'  ...         b'No_Fence'      b'None'      0.0     7.0   \n",
              "1698   b'Inside'  ...         b'No_Fence'      b'None'      0.0     5.0   \n",
              "1899   b'Inside'  ...     b'Good_Privacy'      b'None'      0.0    11.0   \n",
              "2450   b'Inside'  ...         b'No_Fence'      b'None'      0.0     5.0   \n",
              "2565   b'Inside'  ...         b'No_Fence'      b'None'      0.0    10.0   \n",
              "425    b'Corner'  ...         b'No_Fence'      b'None'      0.0     7.0   \n",
              "2115  b'CulDSac'  ...         b'No_Fence'      b'Shed'    500.0     6.0   \n",
              "2320  b'CulDSac'  ...         b'No_Fence'      b'None'      0.0     5.0   \n",
              "2208   b'Inside'  ...  b'Minimum_Privacy'      b'None'      0.0     6.0   \n",
              "1751   b'Corner'  ...         b'No_Fence'      b'None'      0.0    10.0   \n",
              "999    b'Inside'  ...         b'No_Fence'      b'None'      0.0     8.0   \n",
              "\n",
              "     Year_Sold Sale_Type Sale_Condition Sale_Price  Longitude   Latitude  \n",
              "197     2010.0    b'WD '      b'Normal'   139900.0 -93.622448  42.033631  \n",
              "2232    2007.0    b'WD '      b'Normal'   141000.0 -93.629500  42.022474  \n",
              "1272    2008.0    b'WD '      b'Normal'   155000.0 -93.606788  42.037291  \n",
              "1006    2008.0    b'WD '      b'Normal'   194500.0 -93.636798  42.058445  \n",
              "852     2009.0    b'WD '      b'Normal'   124000.0 -93.686916  42.021384  \n",
              "1231    2008.0    b'COD'     b'Abnorml'   174000.0 -93.616992  42.047080  \n",
              "237     2010.0    b'WD '      b'Normal'   129000.0 -93.667708  42.024208  \n",
              "2118    2007.0    b'WD '      b'Normal'   279000.0 -93.683612  42.024305  \n",
              "529     2009.0    b'WD '      b'Normal'   263000.0 -93.641746  42.051414  \n",
              "2810    2006.0    b'New'     b'Partial'   212900.0 -93.684116  42.016004  \n",
              "1698    2007.0    b'WD '      b'Normal'   250000.0 -93.653310  42.061504  \n",
              "1899    2007.0    b'WD '      b'Normal'   124000.0 -93.622804  42.039212  \n",
              "2450    2006.0    b'WD '      b'Normal'   584500.0 -93.655997  42.049423  \n",
              "2565    2006.0    b'WD '      b'Normal'   119000.0 -93.619673  42.049300  \n",
              "425     2009.0    b'WD '      b'Normal'   256300.0 -93.654241  42.062991  \n",
              "2115    2007.0    b'WD '      b'Normal'   277000.0 -93.682439  42.027956  \n",
              "2320    2006.0    b'New'     b'Partial'   309000.0 -93.635798  42.062891  \n",
              "2208    2007.0    b'WD '      b'Normal'   119750.0 -93.646416  42.016067  \n",
              "1751    2007.0    b'WD '      b'Normal'   165500.0 -93.639977  42.061392  \n",
              "999     2008.0    b'WD '      b'Normal'   286000.0 -93.633876  42.062976  \n",
              "\n",
              "[20 rows x 81 columns]"
            ]
          },
          "execution_count": 4,
          "metadata": {},
          "output_type": "execute_result"
        }
      ],
      "source": [
        "data.sample(20)"
      ]
    },
    {
      "cell_type": "code",
      "execution_count": 5,
      "metadata": {
        "id": "KP3ImCtGK1uo",
        "pycharm": {
          "name": "#%%\n"
        }
      },
      "outputs": [
        {
          "name": "stdout",
          "output_type": "stream",
          "text": [
            "<class 'pandas.core.frame.DataFrame'>\n",
            "RangeIndex: 2930 entries, 0 to 2929\n",
            "Data columns (total 81 columns):\n",
            " #   Column              Non-Null Count  Dtype  \n",
            "---  ------              --------------  -----  \n",
            " 0   MS_SubClass         2930 non-null   object \n",
            " 1   MS_Zoning           2930 non-null   object \n",
            " 2   Lot_Frontage        2930 non-null   float64\n",
            " 3   Lot_Area            2930 non-null   float64\n",
            " 4   Street              2930 non-null   object \n",
            " 5   Alley               2930 non-null   object \n",
            " 6   Lot_Shape           2930 non-null   object \n",
            " 7   Land_Contour        2930 non-null   object \n",
            " 8   Utilities           2930 non-null   object \n",
            " 9   Lot_Config          2930 non-null   object \n",
            " 10  Land_Slope          2930 non-null   object \n",
            " 11  Neighborhood        2930 non-null   object \n",
            " 12  Condition_1         2930 non-null   object \n",
            " 13  Condition_2         2930 non-null   object \n",
            " 14  Bldg_Type           2930 non-null   object \n",
            " 15  House_Style         2930 non-null   object \n",
            " 16  Overall_Qual        2930 non-null   object \n",
            " 17  Overall_Cond        2930 non-null   object \n",
            " 18  Year_Built          2930 non-null   float64\n",
            " 19  Year_Remod_Add      2930 non-null   float64\n",
            " 20  Roof_Style          2930 non-null   object \n",
            " 21  Roof_Matl           2930 non-null   object \n",
            " 22  Exterior_1st        2930 non-null   object \n",
            " 23  Exterior_2nd        2930 non-null   object \n",
            " 24  Mas_Vnr_Type        2930 non-null   object \n",
            " 25  Mas_Vnr_Area        2930 non-null   float64\n",
            " 26  Exter_Qual          2930 non-null   object \n",
            " 27  Exter_Cond          2930 non-null   object \n",
            " 28  Foundation          2930 non-null   object \n",
            " 29  Bsmt_Qual           2930 non-null   object \n",
            " 30  Bsmt_Cond           2930 non-null   object \n",
            " 31  Bsmt_Exposure       2930 non-null   object \n",
            " 32  BsmtFin_Type_1      2930 non-null   object \n",
            " 33  BsmtFin_SF_1        2930 non-null   float64\n",
            " 34  BsmtFin_Type_2      2930 non-null   object \n",
            " 35  BsmtFin_SF_2        2930 non-null   float64\n",
            " 36  Bsmt_Unf_SF         2930 non-null   float64\n",
            " 37  Total_Bsmt_SF       2930 non-null   float64\n",
            " 38  Heating             2930 non-null   object \n",
            " 39  Heating_QC          2930 non-null   object \n",
            " 40  Central_Air         2930 non-null   object \n",
            " 41  Electrical          2930 non-null   object \n",
            " 42  First_Flr_SF        2930 non-null   float64\n",
            " 43  Second_Flr_SF       2930 non-null   float64\n",
            " 44  Low_Qual_Fin_SF     2930 non-null   float64\n",
            " 45  Gr_Liv_Area         2930 non-null   float64\n",
            " 46  Bsmt_Full_Bath      2930 non-null   float64\n",
            " 47  Bsmt_Half_Bath      2930 non-null   float64\n",
            " 48  Full_Bath           2930 non-null   float64\n",
            " 49  Half_Bath           2930 non-null   float64\n",
            " 50  Bedroom_AbvGr       2930 non-null   float64\n",
            " 51  Kitchen_AbvGr       2930 non-null   float64\n",
            " 52  Kitchen_Qual        2930 non-null   object \n",
            " 53  TotRms_AbvGrd       2930 non-null   float64\n",
            " 54  Functional          2930 non-null   object \n",
            " 55  Fireplaces          2930 non-null   float64\n",
            " 56  Fireplace_Qu        2930 non-null   object \n",
            " 57  Garage_Type         2930 non-null   object \n",
            " 58  Garage_Finish       2930 non-null   object \n",
            " 59  Garage_Cars         2930 non-null   float64\n",
            " 60  Garage_Area         2930 non-null   float64\n",
            " 61  Garage_Qual         2930 non-null   object \n",
            " 62  Garage_Cond         2930 non-null   object \n",
            " 63  Paved_Drive         2930 non-null   object \n",
            " 64  Wood_Deck_SF        2930 non-null   float64\n",
            " 65  Open_Porch_SF       2930 non-null   float64\n",
            " 66  Enclosed_Porch      2930 non-null   float64\n",
            " 67  Three_season_porch  2930 non-null   float64\n",
            " 68  Screen_Porch        2930 non-null   float64\n",
            " 69  Pool_Area           2930 non-null   float64\n",
            " 70  Pool_QC             2930 non-null   object \n",
            " 71  Fence               2930 non-null   object \n",
            " 72  Misc_Feature        2930 non-null   object \n",
            " 73  Misc_Val            2930 non-null   float64\n",
            " 74  Mo_Sold             2930 non-null   float64\n",
            " 75  Year_Sold           2930 non-null   float64\n",
            " 76  Sale_Type           2930 non-null   object \n",
            " 77  Sale_Condition      2930 non-null   object \n",
            " 78  Sale_Price          2930 non-null   float64\n",
            " 79  Longitude           2930 non-null   float64\n",
            " 80  Latitude            2930 non-null   float64\n",
            "dtypes: float64(35), object(46)\n",
            "memory usage: 1.8+ MB\n"
          ]
        }
      ],
      "source": [
        "data.info()"
      ]
    },
    {
      "cell_type": "markdown",
      "metadata": {
        "id": "BjxpXT4xK1uo"
      },
      "source": [
        "Разобьём данные на обучающую и тестовую выборки."
      ]
    },
    {
      "cell_type": "code",
      "execution_count": 6,
      "metadata": {
        "id": "aoC9zcGAK1uo",
        "pycharm": {
          "name": "#%%\n"
        }
      },
      "outputs": [
        {
          "name": "stdout",
          "output_type": "stream",
          "text": [
            "Train : (2344, 80) (2344,)\n",
            "Test : (586, 80) (586,)\n"
          ]
        }
      ],
      "source": [
        "target_column = \"Sale_Price\"\n",
        "np.random.seed(seed)\n",
        "\n",
        "test_size = 0.2\n",
        "data_train, data_test, Y_train, Y_test = train_test_split(\n",
        "    data[data.columns.drop(\"Sale_Price\")],\n",
        "    np.array(data[\"Sale_Price\"]),\n",
        "    test_size=test_size,\n",
        "    random_state=seed)\n",
        "\n",
        "print(f\"Train : {data_train.shape} {Y_train.shape}\")\n",
        "print(f\"Test : {data_test.shape} {Y_test.shape}\")"
      ]
    },
    {
      "cell_type": "markdown",
      "metadata": {
        "id": "WNCvCJaAK1uo"
      },
      "source": [
        "Среди признаков нам встретятся как вещественные, так и категориальные. Пока что выделим в качестве категориальных те, значениями которых являются не числа, а какие-то другие сущности (но имейте в виду, что численные с виду признаки тоже могут быть категориальными)."
      ]
    },
    {
      "cell_type": "code",
      "execution_count": 7,
      "metadata": {
        "id": "QK9MTesIK1up",
        "pycharm": {
          "name": "#%%\n"
        }
      },
      "outputs": [
        {
          "name": "stdout",
          "output_type": "stream",
          "text": [
            "Continuous : 34, Categorical : 46\n"
          ]
        }
      ],
      "source": [
        "continuous_columns = [key for key in data.keys() if data[key].dtype in (\"int64\", \"float64\")]\n",
        "categorical_columns = [key for key in data.keys() if data[key].dtype == \"object\"]\n",
        "\n",
        "continuous_columns.remove(target_column)\n",
        "\n",
        "print(f\"Continuous : {len(continuous_columns)}, Categorical : {len(categorical_columns)}\")"
      ]
    },
    {
      "cell_type": "markdown",
      "metadata": {
        "id": "kEjtSzMcK1up"
      },
      "source": [
        "Посмотрим на заголовки признаков. В целом, многие названия вполне говорящие, и можно догадаться, что стоит за этими признаками."
      ]
    },
    {
      "cell_type": "code",
      "execution_count": 8,
      "metadata": {
        "id": "L_PprkEPK1up",
        "pycharm": {
          "name": "#%%\n"
        }
      },
      "outputs": [
        {
          "name": "stdout",
          "output_type": "stream",
          "text": [
            "['Lot_Frontage', 'Lot_Area', 'Year_Built', 'Year_Remod_Add', 'Mas_Vnr_Area', 'BsmtFin_SF_1', 'BsmtFin_SF_2', 'Bsmt_Unf_SF', 'Total_Bsmt_SF', 'First_Flr_SF', 'Second_Flr_SF', 'Low_Qual_Fin_SF', 'Gr_Liv_Area', 'Bsmt_Full_Bath', 'Bsmt_Half_Bath', 'Full_Bath', 'Half_Bath', 'Bedroom_AbvGr', 'Kitchen_AbvGr', 'TotRms_AbvGrd', 'Fireplaces', 'Garage_Cars', 'Garage_Area', 'Wood_Deck_SF', 'Open_Porch_SF', 'Enclosed_Porch', 'Three_season_porch', 'Screen_Porch', 'Pool_Area', 'Misc_Val', 'Mo_Sold', 'Year_Sold', 'Longitude', 'Latitude']\n"
          ]
        }
      ],
      "source": [
        "print(continuous_columns)"
      ]
    },
    {
      "cell_type": "markdown",
      "metadata": {
        "id": "dSh9iDYUK1up"
      },
      "source": [
        "Одна из целей этого ноутбука — познакомить вас с fit-predict (fit-transform) интерфейсом, типичным для многих реализаций моделей машинного обучения и для различных инструментов работы с данными.\n",
        "\n",
        "Множество фреймворков машинного обучения (например, scikit-learn, CatBoost) содержат в себе модели и алгоритмы, которые описаны в виде классов, у которых есть два ключевых метода: fit и predict (transform). Давайте разберёмся, что делают эти методы.\n",
        "\n",
        "***fit*** — метод для обучения алгоритма. Он получает на входе данные и таргеты для обучения, после чего обновляет состояние класса. После использования метода fit считается, что объект класса готов к использованию. Внутри этого метода может быть что угодно: обучение модели, подбор гиперпараметров, подсчет статистик и т. д.\n",
        "\n",
        "***predict*** — метод для предсказания , обученного с помощью _fit_. В задаче регрессии это оценка параметра, в задаче классификации предсказанный класс.\n",
        "\n",
        "***transform*** — стилистический синоним _predict_, но используется в классах, которые реализуют преобразования данных, например, масштабирование признаков или кодирование категориальных фичей.\n",
        "\n",
        "***fit_transform*** — метод который учится на данных, а потом их же преобразовывает."
      ]
    },
    {
      "cell_type": "markdown",
      "metadata": {
        "id": "2QVOr2SrK1up"
      },
      "source": [
        "### 1. Базовая предобработка данных"
      ]
    },
    {
      "cell_type": "markdown",
      "metadata": {
        "id": "IWi5LNwHK1up"
      },
      "source": [
        "Отметим два важных свойства линейной регрессии:\n",
        "\n",
        "- строго говоря, она умеет работать только с вещественными признаками\n",
        "- если признаки имеют разный масштаб при сопоставимой важности, регрессия может проигнорировать те, что имеют меньший масштаб\n",
        "\n",
        "Первое соображение заставляет придумывать способы борьбы с категориальными признаками, и мы начнём с самого простого: проигнорируем их.\n",
        "\n",
        "Второе соображение приводит к необходимости приводить признаки к одному масштабу (\"нормализовать фичи\"). В `sklearn` для этого есть два основных класса:\n",
        "\n",
        "- [sklearn.preprocessing.StandardScaler](https://scikit-learn.org/stable/modules/generated/sklearn.preprocessing.StandardScaler.html) - в каждой колонке вычитает среднее и делит на стандартное отклонение.\n",
        "- [sklearn.preprocessing.MinMaxScaler](https://scikit-learn.org/stable/modules/generated/sklearn.preprocessing.MinMaxScaler.html) - в каждой колонке вычитает минимальное значение и делит на разницу между минимальным и максимальным.\n",
        "\n",
        "Применяются они в соответствии с описанной выше философией. Например:\n",
        "\n",
        "```\n",
        "scaler = StandardScaler()\n",
        "X_train = scaler.fit_transform(X_train)\n",
        "X_test = scaler.transform(X_test)\n",
        "```\n",
        "\n",
        "Обратите внимание, что scaler настраивается на обучающей выборке (именно по ней вычисляются среднее и стандартное отклонение), а к тестовой он применяется с уже подсчитанными статистиками.\n",
        "\n",
        "**Вопрос**. А зачем? Почему бы не нормировать отдельно обучающую и тестовую выборку? Почему бы не настроить наш scaler на объединении двух выборок? Ведь благодаря большему количеству данных мы бы настроили его точнее!\n",
        "<p>\n",
        "<details>\n",
        "  <summary>Кликните, чтобы узнать ответ</summary>\n",
        "\n",
        "Если мы по-разному отнормируем обучающую и тестовую выборки, то нам будет весьма сложно применять модель, обученную на одной из них, к другой. Это просто не будет иметь физического смысла.\n",
        "\n",
        "Настраивать что-либо на тестовой выборке — это очень плохая идея. Тестовая выборка должна быть неким независимым мерилом качества наших усилий по предсказанию, а если мы разрешим информации о распределении признаков в тестовой выборке \"протечь\" в процесс обучения, то мы эту независимость испортим.\n",
        "\n",
        "</details>"
      ]
    },
    {
      "cell_type": "markdown",
      "metadata": {
        "id": "refOuBa2K1up"
      },
      "source": [
        "Итак, мы решили делать преобразование данных, которое состоит в:\n",
        "\n",
        "- сохранении лишь непрерывных фичей;\n",
        "- нормализации этих фичей (давайте остановимся на [sklearn.preprocessing.StandardScaler](https://scikit-learn.org/stable/modules/generated/sklearn.preprocessing.StandardScaler.html))\n",
        "\n",
        "В этом пункте вам нужно будет сделать класс такой предобработки данных, причём оформим мы его в виде класса с интерфейсом fit-transform.\n",
        "\n",
        "Несколько важных соображений:\n",
        "\n",
        "1. В прошлой лабораторной метод fit у нас ничего не возвращал, но правильнее сделать так, чтобы метод fit возвращал сам класс. В частности, это позволит нам писать model = model.fit().\n",
        "\n",
        "2. Первоначальный анализ данных удобно делать, когда они лежат в pd.DataFrame, т к у этого класса много методов, которые малым количеством телодвижений позволяют считать статистики и строить графики. Модели же проще учить, когда данные лежат в np.array, потому большое количество библиотек, где реализованы алгоритмы машинного обучения совместимы именно с numpy. Поэтому сделайте так, чтобы метод transform получал на вход pd.Dataframe, а возвращал np.array.\n",
        "\n",
        "3. В sklearn есть классы, от которых можно отнаследоваться, чтобы сделать класс с [fit-predict](https://scikit-learn.org/stable/modules/generated/sklearn.base.RegressorMixin.html#sklearn.base.RegressorMixin) или [fit-transform](https://scikit-learn.org/stable/modules/generated/sklearn.base.TransformerMixin.html) интерфейсом. Это очень полезно, т к позволит вам в дальнейшем пользоваться методами [GridSearchCV](https://scikit-learn.org/stable/modules/generated/sklearn.model_selection.GridSearchCV.html) и подобными. В этом пункте отнаследуйтесь от второго.\n",
        "\n",
        "4. У метода __init__ должен быть параметр ```needed_columns=None```. Туда передается список колонок, которые нужно взять из датафрейме. Делать это надо в ```fit``` и ```transform```. В случае если если он равен None, то класс оставляет все колонки из исходного набора данных.\n",
        "\n",
        "5. Обратите внимание, что достаточно реализовать `fit` и `transform`, а метод `fit_transform` из них слепит родительский класс.\n",
        "\n",
        "**Готовый препроцессор вам нужно будет сдать в Контест**"
      ]
    },
    {
      "cell_type": "code",
      "execution_count": 9,
      "metadata": {
        "id": "deONxYcGK1uq",
        "pycharm": {
          "name": "#%%\n"
        }
      },
      "outputs": [],
      "source": [
        "from sklearn.preprocessing import StandardScaler\n",
        "\n",
        "class BaseDataPreprocessor(sklearn.base.TransformerMixin, sklearn.base.BaseEstimator):\n",
        "    def __init__(self, needed_columns: Optional[List[str]]=None):\n",
        "        \"\"\"\n",
        "        :param needed_columns: if not None select these columns from the dataframe\n",
        "        \"\"\"\n",
        "        self.needed_columns = needed_columns\n",
        "        self.scaler = StandardScaler()\n",
        "\n",
        "    def fit(self, data, *args):\n",
        "        \"\"\"\n",
        "        Prepares the class for future transformations\n",
        "        :param data: pd.DataFrame with all available columns\n",
        "        :return: self\n",
        "        \"\"\"\n",
        "        if self.needed_columns is not None:\n",
        "            data = data[self.needed_columns]\n",
        "        self.scaler.fit(data)\n",
        "        return self\n",
        "\n",
        "    def transform(self, data: pd.DataFrame) -> np.ndarray:\n",
        "        \"\"\"\n",
        "        Transforms features so that they can be fed into the regressors\n",
        "        :param data: pd.DataFrame with all available columns\n",
        "        :return: np.array with preprocessed features\n",
        "        \"\"\"\n",
        "        if self.needed_columns is not None:\n",
        "            data = data[self.needed_columns]\n",
        "        return self.scaler.transform(data)"
      ]
    },
    {
      "cell_type": "markdown",
      "metadata": {
        "id": "zKeWoQ1SK1uq"
      },
      "source": [
        "**1. Сдайте вашу реализацию в Контест, задача «Простая предобработка».**"
      ]
    },
    {
      "cell_type": "code",
      "execution_count": 10,
      "metadata": {
        "id": "-4LkDFASK1uq",
        "pycharm": {
          "name": "#%%\n"
        }
      },
      "outputs": [],
      "source": [
        "preprocessor = BaseDataPreprocessor(needed_columns=continuous_columns)\n",
        "\n",
        "X_train = preprocessor.fit_transform(data_train)\n",
        "X_test = preprocessor.transform(data_test)"
      ]
    },
    {
      "cell_type": "markdown",
      "metadata": {
        "id": "p14ruXEjK1uq"
      },
      "source": [
        "### 1.2 Умная предобработка данных"
      ]
    },
    {
      "cell_type": "markdown",
      "metadata": {
        "id": "8erGdYK-K1uq"
      },
      "source": [
        "Теперь давайте попробуем сделать что-нибудь поинтереснее. Для того, чтобы будущие алгоритмы регрессии работали хорошо, они должны обучаться и предсказывать на информативных фичах. Зачастую оказывается гораздо продуктивнее потратить какое-то время на изучение предметной области и придумывание хороших фичей (feature engineering), нежели жадно перебирать все известные алгоритмы машинного обучения.\n",
        "В этом пункте попробуйте придумать новых фичей и написать новый класс предобработки данных, который их добавляет (а, возможно, и убирает ещё какие-то старые).\n",
        "\n",
        "В конце этого пункта в раскрывашке перечислены наши идеи относительно того, что можно было добавить."
      ]
    },
    {
      "cell_type": "code",
      "execution_count": 11,
      "metadata": {
        "id": "Ob8_T-DRK1uq",
        "pycharm": {
          "name": "#%%\n"
        }
      },
      "outputs": [],
      "source": [
        "import math\n",
        "\n",
        "class SmartDataPreprocessor(sklearn.base.TransformerMixin, sklearn.base.BaseEstimator):\n",
        "    def __init__(self, needed_columns: Optional[List[str]] = None):\n",
        "        \"\"\"\n",
        "        :param needed_columns: если не None — выбрать только эти колонки\n",
        "        \"\"\"\n",
        "        self.needed_columns = needed_columns\n",
        "        self.scaler = BaseDataPreprocessor(needed_columns=needed_columns)\n",
        "        self._median = None\n",
        "        self._fitted = False\n",
        "        # Центр Эймса в формате (lat, lon)\n",
        "        self._center_lat = 42.034722\n",
        "        self._center_lon = -93.620866\n",
        "\n",
        "    def _maybe_fill_lot_frontage(self, df: pd.DataFrame, value):\n",
        "        \"\"\"Заполнить Lot_Frontage, только если колонка есть в df.\"\"\"\n",
        "        if 'Lot_Frontage' in df.columns and value is not None:\n",
        "            df = df.copy()\n",
        "            df.loc[:, 'Lot_Frontage'] = df['Lot_Frontage'].fillna(value)\n",
        "        return df\n",
        "\n",
        "    def _add_distance_and_drop_coords(self, df: pd.DataFrame) -> pd.DataFrame:\n",
        "        \"\"\"Добавить Distance_to_center и удалить Latitude/Longitude (если есть).\"\"\"\n",
        "        df = df.copy()\n",
        "\n",
        "        if {'Latitude', 'Longitude'}.issubset(df.columns):\n",
        "            # Векторизованный гаверсин\n",
        "            R = 6371.0  # км\n",
        "            lat = np.radians(df['Latitude'].astype(float))\n",
        "            lon = np.radians(df['Longitude'].astype(float))\n",
        "            lat_c = math.radians(self._center_lat)\n",
        "            lon_c = math.radians(self._center_lon)\n",
        "\n",
        "            dlat = lat_c - lat\n",
        "            dlon = lon_c - lon\n",
        "\n",
        "            a = np.sin(dlat / 2.0) ** 2 + np.cos(lat) * np.cos(lat_c) * np.sin(dlon / 2.0) ** 2\n",
        "            c = 2.0 * np.arctan2(np.sqrt(a), np.sqrt(1.0 - a))\n",
        "            dist = R * c\n",
        "\n",
        "            df['Distance_to_center'] = dist\n",
        "\n",
        "            # Удаляем координаты — строго так же, как делали в fit()\n",
        "            df = df.drop(columns=['Latitude', 'Longitude'], errors='ignore')\n",
        "        else:\n",
        "            # Если координат нет — всё равно создадим столбец, чтобы схема совпала\n",
        "            if 'Distance_to_center' not in df.columns:\n",
        "                df['Distance_to_center'] = np.nan\n",
        "\n",
        "        return df\n",
        "\n",
        "    def fit(self, data: pd.DataFrame, *args):\n",
        "        \"\"\"Считаем медиану Lot_Frontage и фитим внутренний scaler на одинаково подготовленных данных.\"\"\"\n",
        "        if not isinstance(data, pd.DataFrame):\n",
        "            raise TypeError(\"fit expects a pandas DataFrame\")\n",
        "\n",
        "        # 1) медиана для Lot_Frontage\n",
        "        self._median = data['Lot_Frontage'].median() if 'Lot_Frontage' in data.columns else None\n",
        "\n",
        "        # 2) идентичная подготовка: fill -> distance -> drop coords\n",
        "        data_prep = self._maybe_fill_lot_frontage(data, self._median)\n",
        "        data_prep = self._add_distance_and_drop_coords(data_prep)\n",
        "\n",
        "        # 3) фит скалера/внутреннего препроцессора\n",
        "        self.scaler.fit(data_prep)\n",
        "\n",
        "        self._fitted = True\n",
        "        return self\n",
        "\n",
        "    def transform(self, data: pd.DataFrame) -> np.ndarray:\n",
        "        \"\"\"Те же самые шаги, чтобы схема совпала с fit.\"\"\"\n",
        "        if not self._fitted:\n",
        "            raise RuntimeError(\"Call fit before transform.\")\n",
        "\n",
        "        data_prep = self._maybe_fill_lot_frontage(data, self._median)\n",
        "        data_prep = self._add_distance_and_drop_coords(data_prep)\n",
        "\n",
        "        return self.scaler.transform(data_prep)\n",
        "\n"
      ]
    },
    {
      "cell_type": "code",
      "execution_count": 12,
      "metadata": {},
      "outputs": [],
      "source": [
        "# n_cols = 6\n",
        "# n_rows = (len(continuous_columns) + n_cols - 1) // n_cols\n",
        "\n",
        "# fig, axes = plt.subplots(n_rows, n_cols, figsize=(16, 12))\n",
        "# axes = axes.flatten()\n",
        "\n",
        "# for i, col in enumerate(continuous_columns):\n",
        "#     sns.histplot(data_train[col], ax=axes[i], kde=False, bins=30)  \n",
        "#     axes[i].set_title(col)\n",
        "\n",
        "# plt.tight_layout()\n",
        "# plt.show()"
      ]
    },
    {
      "cell_type": "code",
      "execution_count": 13,
      "metadata": {
        "id": "ceqVElj8K1uq",
        "pycharm": {
          "name": "#%%\n"
        }
      },
      "outputs": [],
      "source": [
        "continuous_columns = set(continuous_columns)\n",
        "continuous_columns.add(\"Distance_to_center\")\n",
        "continuous_columns -= {\"Latitude\", \"Longitude\"}\n",
        "\n",
        "preprocessor = SmartDataPreprocessor(needed_columns=list(continuous_columns))\n",
        "X_train = preprocessor.fit_transform(data_train)\n",
        "X_test = preprocessor.transform(data_test)"
      ]
    },
    {
      "cell_type": "markdown",
      "metadata": {
        "id": "dCZ-Ud9OK1ur"
      },
      "source": [
        "<details>\n",
        "  <summary>Пара простых идей. Кликните, когда будете готовы</summary>\n",
        "\n",
        "Например в датасете есть координаты квартиры, которые по идее сами по себе мало чего дают нашему регрессору. С другой стороны, по ним можно оценить центр города (или просто найти его на карте) и использовать в качестве фичи расстояние до центра города, которое может естественным образом влиять на цену жилья.\n",
        "\n",
        "Ещё может быть полезным почистить пропуски. И тут есть хитрость. Если вы просто вызовете data.info(), то вам покажется, что пропусков нет, но они могут приходить под разными обличьями. Например, у 490 объектов параметр Lot_Frontage (площадь фасада) равен нулю. Неожиданно, правда? Возможно, мы хотим эти нулевые значения заменить чем-нибудь, скажем, медианой.\n",
        "\n",
        "</details>\n"
      ]
    },
    {
      "cell_type": "markdown",
      "metadata": {
        "id": "aIt68R29K1ur"
      },
      "source": [
        "### 2. Линейная регрессия"
      ]
    },
    {
      "cell_type": "markdown",
      "metadata": {
        "id": "Ydi2yHwqK1ur"
      },
      "source": [
        "Давайте получим базовое решение (бейзлайн), чтобы потом с ним можно было сравниваться.\n",
        "\n",
        "Обучите линейную регрессию на обучающей выборке (которую мы подвергли преобразованию BaseDataPreprocessor). В библиотеке Sklearn есть релизация [без регуляризации](https://scikit-learn.org/stable/modules/generated/sklearn.linear_model.LinearRegression.html?highlight=linear%20regression), [с L2-регуляризацией](https://scikit-learn.org/stable/modules/generated/sklearn.linear_model.Ridge.html#sklearn.linear_model.Ridge) и [с L1-регуляризацией](https://scikit-learn.org/stable/modules/generated/sklearn.linear_model.Lasso).\n",
        "\n",
        "Начнём с обычной регрессии. Получите предсказания на тестовых данных и оцените на них качество модели. В качестве метрики оценки качества возьмите [средний модуль отклонения](https://scikit-learn.org/stable/modules/generated/sklearn.metrics.mean_absolute_error.html) (mean absolute error, MAE). Как вам кажется, насколько хорошей вышла модель?\n"
      ]
    },
    {
      "cell_type": "code",
      "execution_count": 14,
      "metadata": {
        "id": "d8AAt9_tK1ur",
        "pycharm": {
          "name": "#%%\n"
        }
      },
      "outputs": [
        {
          "data": {
            "text/plain": [
              "23700.920669904608"
            ]
          },
          "execution_count": 14,
          "metadata": {},
          "output_type": "execute_result"
        }
      ],
      "source": [
        "from sklearn.linear_model import LinearRegression, Ridge, Lasso\n",
        "from sklearn.metrics import mean_absolute_error\n",
        "\n",
        "lin_reg = LinearRegression()\n",
        "lin_reg.fit(X_train, Y_train)\n",
        "lin_pred = lin_reg.predict(X_test)\n",
        "\n",
        "lin_mae = mean_absolute_error(Y_test, lin_pred)\n",
        "lin_mae"
      ]
    },
    {
      "cell_type": "markdown",
      "metadata": {
        "id": "js3L8W-AK1ur"
      },
      "source": [
        "Теперь попробуйте L2-регуляризованную модель Ridge(). Какие значения метрик она даёт?"
      ]
    },
    {
      "cell_type": "code",
      "execution_count": 15,
      "metadata": {
        "id": "XnMAW-74K1ur",
        "pycharm": {
          "name": "#%%\n"
        }
      },
      "outputs": [
        {
          "data": {
            "text/plain": [
              "23697.47746927106"
            ]
          },
          "execution_count": 15,
          "metadata": {},
          "output_type": "execute_result"
        }
      ],
      "source": [
        "ridge_reg = Ridge(alpha=10.0)\n",
        "ridge_reg.fit(X_train, Y_train)\n",
        "ridge_pred = ridge_reg.predict(X_test)\n",
        "\n",
        "ridge_mae = mean_absolute_error(Y_test, ridge_pred)\n",
        "ridge_mae"
      ]
    },
    {
      "cell_type": "markdown",
      "metadata": {
        "id": "s940mdAmK1ur"
      },
      "source": [
        "В целом, регуляризация редко портит модель, но важно правильно подобрать коэффициент регуляризации. Как именно — поговорим дальше."
      ]
    },
    {
      "cell_type": "markdown",
      "metadata": {
        "id": "5iTC8BpaK1ur"
      },
      "source": [
        "### 3. Выбор метрики"
      ]
    },
    {
      "cell_type": "markdown",
      "metadata": {
        "id": "vpjjz37cK1ur"
      },
      "source": [
        "Средний модуль ошибки (MAE) — в целом довольно хорошая метрика для задачи регрессии, потому что ее довольно легко проинтерпретировать. Но с ней есть одна проблема: ошибиться на $ 10 000 $ USD в предсказании цены квартиры стоимостью $ 100 000 $ USD страшнее чем допустить такую ошибку в предсказании цены жилья за $ 700 000 $ USD. Иными словами более показательной метрикой будет не абсолютная  ошибка $ error_i = |y_i - \\hat{y_i}|$, а логарифм относительной ошибки $error_i = log \\frac{y_i}{\\hat{y_i}} $. Также давайте обычное усреднение по всем примерам в тестовой выборке заменим на среднеквадратичное $ \\frac{1}{N} \\sum_i^{test} {error_i} \\longrightarrow \\sqrt{\\frac{1}{N} \\sum_i^{test}{(error_i)^2}}$. Итоговая метрика получается равной:\n",
        "\n",
        "$$\n",
        "Metric = \\sqrt{\\frac{1}{N} \\sum_{i=1}^{N} (log(y_i) - log(\\hat{y_i}))^2}\n",
        "$$\n",
        "\n",
        "Логично? Да. Но возникает еще одна проблема. Логарифм нельзя брать от отрицательного числа. Бороться с этим можно двумя способами.\n",
        "- Случай когда отрицательное число затисалось в target-ax не очень разумен, т. к. цена на дом не может быть отрицательной. В этом случае стоит кинуть ошибку, чтобы пользователь этой функции еще раз перепроверил правильные ли таргеты он подает.\n",
        "- В целом, у нас нет гарантий того, что наша модель (например линейная) предсказывает только положительные числа. Брать логарифм от отрицательного числа не получится, но качество такой модели все еще надо оценить. Давайте все предсказания, которые меньше некоторого порога $ a_{min} $, заменять этим порогом ($ \\hat{y_i} \\longleftarrow max(\\hat{y_i}, a_{min}) $), после чего подавать их в метрику. Для прохождения тестов возьмите $ a_{min} = 1 $.\n",
        "\n",
        "**2. Реализуйте эту метрику и сдайте в контест**."
      ]
    },
    {
      "cell_type": "code",
      "execution_count": 16,
      "metadata": {
        "id": "OAgpUi26K1ur",
        "pycharm": {
          "name": "#%%\n"
        }
      },
      "outputs": [],
      "source": [
        "def root_mean_squared_logarithmic_error(y_true, y_pred, a_min=1.):\n",
        "    y_true = np.maximum(y_true, a_min)\n",
        "    y_pred = np.maximum(y_pred, a_min)\n",
        "    metric = np.sqrt(np.mean((np.log(y_pred) - np.log(y_true)) ** 2))\n",
        "    return metric\n",
        "\n"
      ]
    },
    {
      "cell_type": "markdown",
      "metadata": {
        "id": "UABi31oTK1ur"
      },
      "source": [
        "### 4. Логарифмирование таргета."
      ]
    },
    {
      "cell_type": "markdown",
      "metadata": {
        "id": "yns3YwN-K1ur"
      },
      "source": [
        "Вообще идея с логарифмированием таргета довольно хороша для этой задачи. Давайте посмотрим на распределение обычных и логарифмированных таргетов."
      ]
    },
    {
      "cell_type": "code",
      "execution_count": 17,
      "metadata": {
        "id": "JWb77b3uK1us",
        "pycharm": {
          "name": "#%%\n"
        }
      },
      "outputs": [],
      "source": [
        "def plot_target_distribution(Y_train, Y_test, ax, n_bins=20):\n",
        "    ax.hist(Y_train, bins=n_bins, label=\"train\", color=\"red\", alpha=0.3, density=True)\n",
        "    ax.hist(Y_test, bins=n_bins, label=\"test\", color=\"blue\", alpha=0.3, density=True)\n",
        "\n",
        "    ax.legend()\n",
        "    ax.set_xlabel(\"Value\")\n",
        "    ax.set_ylabel(\"Probability\")\n",
        "\n",
        "\n",
        "def plot_both_distributions(Y_train, Y_test):\n",
        "    fig, (ax0, ax1) = plt.subplots(ncols=2, nrows=1, figsize=(15, 6))\n",
        "\n",
        "    plot_target_distribution(Y_train, Y_test, ax=ax0)\n",
        "    ax0.set_title(\"Standard\")\n",
        "\n",
        "    plot_target_distribution(np.log(Y_train), np.log(Y_test), ax=ax1)\n",
        "    ax1.set_title(\"Logarithmic\")"
      ]
    },
    {
      "cell_type": "code",
      "execution_count": 18,
      "metadata": {
        "id": "IOkOnHqKK1uv",
        "pycharm": {
          "name": "#%%\n"
        }
      },
      "outputs": [
        {
          "data": {
            "image/png": "[encoded data removed]",
            "text/plain": [
              "<Figure size 1500x600 with 2 Axes>"
            ]
          },
          "metadata": {},
          "output_type": "display_data"
        }
      ],
      "source": [
        "plot_both_distributions(Y_train, Y_test)"
      ]
    },
    {
      "cell_type": "markdown",
      "metadata": {
        "id": "8sdqyU7tK1uv"
      },
      "source": [
        "Как видите, если прологарифмировать таргеты, то их распределение станет более похоже на гауссовское. Интуиция подсказывает, что линейная регрессия с MSE loss-функцией должна лучше учиться на таких таргетах.\n",
        "\n",
        "Попробуйте написать класс, который во время обучения логарифмирует таргет, а во время предсказания — наоборот, экспоненциирует. После чего обучите оба метода на обучающих данных и сравните значения метрик MAE и MSLE на тесте."
      ]
    },
    {
      "cell_type": "markdown",
      "metadata": {
        "id": "1qyR7QyiK1uv"
      },
      "source": [
        "Что должно быть в этом классе:\n",
        "- Класс должен называться ```ExponentialLinearRegression```\n",
        "- Класс должен иметь такой же fit-predict интерфейс, как и было до этого. На вход он получает оригинальные X и Y, а уже внутри происходит логарифмирование или экспоненциирование.\n",
        "- Внутри этой модели будет работать [Ridge](https://scikit-learn.org/stable/modules/generated/sklearn.linear_model.Ridge.html). Хочется, чтобы этому классу можно было передавать аргументы инициализации с помощью *args и **kwargs\n",
        "- Чтобы потом этот класс можно было использовать в [GridSearchCV](https://scikit-learn.org/stable/modules/generated/sklearn.model_selection.GridSearchCV.html) в следующих пунктах, у него должны быть реализованы 5 методов\n",
        "    1. ```__init__(self, *args, **kwargs)``` - все полученные аргументы передаются дальше в Ridge.\n",
        "    2. ```fit(self, X, Y)``` - обучает класс, возвращает self.\n",
        "    3. ```predict(self, X)``` - делает предсказание.\n",
        "    4. ```get_params(deep=True)``` - возвращает dict с параметрами модели. Больще подробностей [здесь](https://scikit-learn.org/stable/modules/generated/sklearn.base.BaseEstimator.html)\n",
        "    5. ```set_params(**params)``` - передает нужные параметры в модель. Больше подробносте [здесь](https://scikit-learn.org/stable/modules/generated/sklearn.base.BaseEstimator.html)\n",
        "- Есть два подхода к тому как сделать все нужные методы:\n",
        "    - Отнаследоваться от класса Ridge и переопределить методы fit и predict, внутри вызывая super() от отцовского класса.\n",
        "    - Отнаследоваться от класса RegressorMixin и внутренним атрибутом класса сделать Ridge. Тогда все методы нужно будет писать руками."
      ]
    },
    {
      "cell_type": "code",
      "execution_count": 19,
      "metadata": {
        "id": "IOnOVLY_K1uv",
        "pycharm": {
          "name": "#%%\n"
        }
      },
      "outputs": [],
      "source": [
        "from typing import Dict\n",
        "\n",
        "class ExponentialLinearRegression(sklearn.base.BaseEstimator, sklearn.base.RegressorMixin):\n",
        "    def __init__(self,a_min=1.0, **kwargs):\n",
        "        self.a_min = a_min\n",
        "        self._model = None\n",
        "        self.ridge_kwargs = kwargs\n",
        "\n",
        "    def fit(self, X, Y):\n",
        "        Y = np.maximum(Y, self.a_min)\n",
        "        log_Y = np.log(Y)\n",
        "        self._model = Ridge(**self.ridge_kwargs)\n",
        "        self._model.fit(X, log_Y)\n",
        "        return self\n",
        "\n",
        "    def predict(self, X):\n",
        "        if self._model is None:\n",
        "            raise RuntimeError(\"Call fit before predict.\")\n",
        "        log_pred = self._model.predict(X)\n",
        "        return np.exp(log_pred)\n",
        "\n",
        "    def get_params(self, deep=True):\n",
        "        params = {'a_min': self.a_min}\n",
        "        if deep:\n",
        "            if self._model is not None:\n",
        "                params.update(self._model.get_params(deep=deep))\n",
        "            else:\n",
        "                params.update(self.ridge_kwargs.copy())\n",
        "\n",
        "        return params\n",
        "\n",
        "    def set_params(self, **params):\n",
        "        if 'a_min' in params:\n",
        "            self.a_min = params.pop('a_min')\n",
        "\n",
        "        self.ridge_kwargs.update(params)\n",
        "\n",
        "        if self._model is not None:\n",
        "            self._model.set_params(**params)\n",
        "        return self"
      ]
    },
    {
      "cell_type": "markdown",
      "metadata": {
        "id": "hfGTYwdMK1uv"
      },
      "source": [
        "**3. Реализуйте этот класс и сдайте в контест**."
      ]
    },
    {
      "cell_type": "code",
      "execution_count": 20,
      "metadata": {
        "id": "cBnuMKpTK1uv"
      },
      "outputs": [
        {
          "name": "stdout",
          "output_type": "stream",
          "text": [
            "MAE  : Classic : 23700.36730130338  Exponential : 26681.045406503614\n",
            "MSLE : Classic : 0.19452379747909296 Exponential : 0.21555962506629045\n"
          ]
        }
      ],
      "source": [
        "classic_regressor = Ridge()\n",
        "exponential_regressor = ExponentialLinearRegression(a_min=1.0, alpha=10.0)\n",
        "\n",
        "classic_regressor.fit(X_train, Y_train)\n",
        "exponential_regressor.fit(X_train, Y_train)\n",
        "\n",
        "classic_prediction = classic_regressor.predict(X_test)\n",
        "exponential_prediction = exponential_regressor.predict(X_test)\n",
        "\n",
        "print(f\"MAE  : Classic : {mean_absolute_error(Y_test, classic_prediction)}  Exponential : {mean_absolute_error(Y_test, exponential_prediction)}\")\n",
        "print(f\"MSLE : Classic : {root_mean_squared_logarithmic_error(Y_test, classic_prediction)} Exponential : {root_mean_squared_logarithmic_error(Y_test, exponential_prediction)}\")"
      ]
    },
    {
      "cell_type": "markdown",
      "metadata": {
        "id": "mL9H6Fe0K1uw"
      },
      "source": [
        "Иногда получается так, что разные обученные вами модели приводят к улучшению одних метрик и ухудшению других. Это абсолютно нормально и этому не надо удивляться.\n",
        "\n",
        "Также зачастую случается так, что прирост по метрике не очень большой. И вы можете захотеть убедиться, что это реальное улучшение, а не просто случайная флуктуация. Для этого можно использовать подсчёт метрики про кросс-валидации (подробнее о ней можно почитать в соответствующей главе учебника). Суть метода в следующем:\n",
        "\n",
        "- мы разбиваем (случайным образом!) доступную нам выборку на $K$ (часто $K=5$) частей, которые называются _фолдами_\n",
        "- мы обучаем нашу модель $K$ раз, уча на всех фолдах, кроме одного, а на этом одном тестируя\n",
        "- мы получаем $K$ значений метрики, которые вместе дают нам лучшее представление о том, как ведёт себя модель на разных разбиениях на трейн и тест. В качестве итоговой метрики можно, к примеру, взять среднее полученных значений\n",
        "\n",
        "Сделать всё это можно с помощью обёртки [cross_val_score](https://scikit-learn.org/stable/modules/generated/sklearn.model_selection.cross_val_score.html), в которую можно подать модель, датасет и интересующую вас метрику. При этом оценку по кросс-валидации можно делать на всей доступной у вас выборке (ибо кросс-валидация уже включает разбиение на трейн и тест).\n",
        "\n",
        "Вычислите оценки MAE по кросс-валидации обычной (не регуляризованной) линейной регрессии и ExponentialLinearRegression на объединении обучающей и тестовой выборок.\n",
        "\n",
        "**4. Посчитайте и сдайте две оценки по кросс-валидации в Контест**.\n",
        "\n",
        "По шагам вам нужно\n",
        "1. Применить BaseDataPreprocessor к исходным данным\n",
        "2. Объединить трейн и тест\n",
        "3. Для первого числа использовать LinearRegression()\n",
        "4. Для второго -ExponentialLinearRegression с Ridge()\n",
        "5. Разбиение на фолды сделать с помощью `cv=KFold(n_splits=5, shuffle=True, random_state=42)`\n",
        "\n",
        "Обратите внимание, что параметр scoring — это не совсем функция-метрика, а немного более сложный объект, который можно соорудить, например, с помощью обёртки [make_scorer](https://scikit-learn.org/stable/modules/generated/sklearn.metrics.make_scorer.html#sklearn.metrics.make_scorer).\n",
        "\n",
        "Также имейте в виду, что, вообще говоря, с дефолтным значением параметра `cv` кросс-валидация разбивает датасет на фолды детерминированным образом. Если вам нужно случайное разбиение, то в качестве cv стоит подать объект класса `sklearn.model_selection.KFold` или `sklearn.model_selection.StratifiedKFold`. Используйте\n",
        "\n",
        "```\n",
        "cv=KFold(n_splits=5, shuffle=True, random_state=42)\n",
        "```"
      ]
    },
    {
      "cell_type": "markdown",
      "metadata": {
        "id": "VtgOlv6tK1uw",
        "pycharm": {
          "name": "#%% md\n"
        }
      },
      "source": [
        "Также при написании кода для кросс-валидации вам может пригодиться знание о пайплайнах.\n",
        "\n",
        "Представьте ситуацию. Прошел месяц с того момента, как вы построили модель, а теперь вам надо дообучить её на новых данных и активно применять для предсказания. Если вы не позаботились об инфраструктуре, то вам придётся рыскать по всему ноутбуку в поисках того, как вы предобрабатывали данные, какую модель учили, обязательно что-нибудь забудете и будете очень страдать. Поэтому человечество придумало пайплайны, которые позволяют объединить предобработку данных и обучение модели в один класс - pipeline. Его можно писать самому, либо взять из sklearn ([link](https://scikit-learn.org/stable/modules/generated/sklearn.pipeline.Pipeline.html))"
      ]
    },
    {
      "cell_type": "code",
      "execution_count": 21,
      "metadata": {
        "id": "u3e3dNSaK1uw",
        "pycharm": {
          "name": "#%%\n"
        }
      },
      "outputs": [
        {
          "name": "stdout",
          "output_type": "stream",
          "text": [
            "CV score 1: 22520.04084150441 +/- 1261.030107608465 \n",
            " CV score 2: 19158.34798295312 +/- 1099.4525971432859\n"
          ]
        }
      ],
      "source": [
        "from sklearn.pipeline import Pipeline\n",
        "from sklearn.model_selection import StratifiedKFold, cross_val_score, KFold\n",
        "\n",
        "from scipy.io.arff import loadarff\n",
        "raw_data = loadarff('data_02/ames-housing.arff')\n",
        "data = pd.DataFrame(raw_data[0])\n",
        "\n",
        "target_column = \"Sale_Price\"\n",
        "np.random.seed(seed)\n",
        "\n",
        "test_size = 0.2\n",
        "data_train, data_test, Y_train, Y_test = train_test_split(\n",
        "    data[data.columns.drop(\"Sale_Price\")],\n",
        "    np.array(data[\"Sale_Price\"]),\n",
        "    test_size=test_size,\n",
        "    random_state=seed)\n",
        "\n",
        "continuous_columns = [key for key in data.keys() if data[key].dtype in (\"int64\", \"float64\")]\n",
        "categorical_columns = [key for key in data.keys() if data[key].dtype == \"object\"]\n",
        "\n",
        "continuous_columns.remove(target_column)\n",
        "\n",
        "pipe_y1 = Pipeline([('transformer', BaseDataPreprocessor(needed_columns=list(continuous_columns))), ('regressor', LinearRegression())])\n",
        "\n",
        "continuous_columns_set = set(continuous_columns)\n",
        "continuous_columns_set.add(\"Distance_to_center\")\n",
        "continuous_columns_set -= {\"Latitude\", \"Longitude\"}\n",
        "\n",
        "pipe_y2 = Pipeline([('transformer', SmartDataPreprocessor(needed_columns=list(continuous_columns_set))), ('regressor', ExponentialLinearRegression())])\n",
        "\n",
        "cv = KFold(n_splits=5, shuffle=True, random_state=42)\n",
        "\n",
        "score_y1 = -cross_val_score(pipe_y1, data_train, Y_train, cv=cv, scoring='neg_mean_absolute_error', n_jobs=-1)\n",
        "score_y2 = -cross_val_score(pipe_y2, data_train, Y_train, cv=cv, scoring='neg_mean_absolute_error', n_jobs=-1)\n",
        "\n",
        "print(f\"CV score 1: {score_y1.mean()} +/- {score_y1.std()} \\n CV score 2: {score_y2.mean()} +/- {score_y2.std()}\")\n"
      ]
    },
    {
      "cell_type": "markdown",
      "metadata": {
        "id": "rjFgAA4YK1uw"
      },
      "source": [
        "### 5. Подбор гиперпараметров"
      ]
    },
    {
      "cell_type": "markdown",
      "metadata": {
        "id": "siKQL7pIK1uw"
      },
      "source": [
        "Линейную регрессию почти всегда можно улучшить с помощью регуляризации. Но при этом у нас возникает **гиперпараметр** — коэффициент регуляризации, и подбирать его нужно правильно. Более подробно о подборе гиперпараметров вы можете прочитать в соответствующей главе учебника), а пока мы разберём самые базовые подходы.\n",
        "\n",
        "В этой лабораторной вы познакомитесь с самым тривиальным способом — подбором по сетке. В данном случае это значит, что мы фиксируем несколько значений коэффициента регуляризации ```alpha``` и просто для каждого из них смотрим, что получится. Но важно отметить, что коэффициенты регуляризации стоит перебирать по _логарифмической_ сетке, например: `1e-2, 1e-1, 1, 1e+1, 1e+2`.\n",
        "\n",
        "Разобравшись, что перебирать, перейдём к вопросу о том, как оценивать. Есть два основных подхода:\n",
        "\n",
        "*   Train-Val-Test split. Датасет делится на три части, на одной модели учатся, на другой подбираются гиперпараметры, на третьей считаются финальные метрики. Этот метод довольно шумный, зато быстрый.\n",
        "*   Кроссвалидация. Она значительно дольше, но надёжней. В этом пункте мы воспользуемся именно ей.\n",
        "\n",
        "\n",
        "Возьмите класс [GridSearchCV](https://scikit-learn.org/stable/modules/generated/sklearn.model_selection.GridSearchCV.html) из scikit-learn и с его помощью подберите гиперпараметр ```alpha``` для линейной регрессии с L2-регуляризацией (соответствующий класс зовут Ridge). Возможно, для минимизации разных метрик (_root_mean_squared_logarithmic_error_ и _mean_absolute_error_) понадобятся разные значения гиперпараметров. Выберите из сетки ```np.logspace(-3, 3, num=7, base=10.)``` значение, которое максимизирует _root_mean_squared_logarithmic_error_ для _ExponentialLinearRegression_ и\n",
        "\n",
        "**5. Загрузите оптимальное значение коэффициента регуляризации в Контест**.\n",
        "\n",
        "Параметр `cv` оставьте дефолтным или возьмите `cv=5` (результат не поменяется). Будьте внимательны: по умолчанию `best_score_` у `GridSearchCV` - это _самое большое значение_. Чтобы не попасться в эту ловушку, обратите внимание на параметр `greater_is_better` функции `make_scorer`."
      ]
    },
    {
      "cell_type": "code",
      "execution_count": 22,
      "metadata": {
        "id": "c_otnmqyK1uw",
        "pycharm": {
          "name": "#%%\n"
        }
      },
      "outputs": [
        {
          "name": "stdout",
          "output_type": "stream",
          "text": [
            "Best params: {'alpha': np.float64(0.001)}\n"
          ]
        }
      ],
      "source": [
        "from sklearn.metrics import  make_scorer\n",
        "from sklearn.model_selection import GridSearchCV\n",
        "\n",
        "logarithmic_error = make_scorer(root_mean_squared_logarithmic_error, greater_is_better=True)\n",
        "\n",
        "param_grid = {\"alpha\": np.logspace(-3, 3, num=7, base=10.0)}\n",
        "\n",
        "grid_search = GridSearchCV(Ridge(), param_grid=param_grid, scoring=logarithmic_error, cv=5, n_jobs=-1)\n",
        "\n",
        "pipe = Pipeline([('prep', BaseDataPreprocessor(needed_columns=list(continuous_columns))), ('grid', grid_search)])\n",
        "\n",
        "pipe.fit(data_train, Y_train)\n",
        "\n",
        "print(f\"Best params: {grid_search.best_params_}\")\n"
      ]
    },
    {
      "cell_type": "markdown",
      "metadata": {
        "id": "lUYa5U1gK1uw"
      },
      "source": [
        "### 6. Линейная модель своими руками\n",
        "\n",
        "В этом разделе вы напишете собственный класс линейной модели, чтобы лучше разобраться, как работает обучение с помощью SGD."
      ]
    },
    {
      "cell_type": "markdown",
      "metadata": {
        "id": "3-d2onzaK1uw"
      },
      "source": [
        "Линейная модель делает предсказание по такой формуле:\n",
        "$$\n",
        "\\hat{y_i} = \\langle \\vec{w}, \\vec{x_i} \\rangle + b\n",
        "$$\n",
        "Здесь $\\vec{w}$ и b - обучаемые параметры. $\\vec{x_i}$ - вектор фичей данного примера.\n",
        "$\\vec{w}$ и b находятся из задачи минимизации лосс функции:\n",
        "\n",
        "$$\n",
        "\\vec{w}, b = {argmin}_{\\vec{w}, b}(L) \\ ; \\ L = \\frac{1}{N} \\sum_{i=1}^{N} (y_i - \\hat{y_i})^2 + \\lambda \\vec{w}^T\\vec{w}\n",
        "$$"
      ]
    },
    {
      "cell_type": "markdown",
      "metadata": {
        "id": "SMisQdSGK1uw"
      },
      "source": [
        "Задачу минимизации лосс функции мы будем решать градиентным спуском. Для этого надо найти градиенты лосса по параметром модели."
      ]
    },
    {
      "cell_type": "markdown",
      "metadata": {
        "id": "RaB_KihjK1uw"
      },
      "source": [
        "$$\n",
        "\\nabla_b L = \\frac{2}{N} sum(X \\vec{w} + b - \\vec{y})\\\\\n",
        "\\nabla_{\\vec{w}} L = \\frac{2}{N} X^T(X \\vec{w} + b - \\vec{y}) + 2\\lambda \\vec{w}\n",
        "$$"
      ]
    },
    {
      "cell_type": "markdown",
      "metadata": {
        "id": "Ka0Q5OI6K1ux"
      },
      "source": [
        "Теперь давайте реализуем этот алгоритм ввиде класса с методами fit-predict.\n",
        "Что в нем должно быть:\n",
        "1. Класс должен называться ```SGDLinearRegressor```\n",
        "2. Класс должен быть отнаследован от sklearn-овского класса [RegressorMixin](https://scikit-learn.org/stable/modules/generated/sklearn.base.RegressorMixin.html)\n",
        "3. Класс должен инициализироваться со следующими гиперпараметрами:\n",
        "\n",
        "    a. ```lr``` — learning rate. Длина шага градиентного спуска\n",
        "\n",
        "    b. ```regularization``` — коэффициент λ из формулы выше\n",
        "    \n",
        "    c. ```delta_converged``` — устанавливает условие окончание обучение. В тот момент когда норма разности весов на соседних шагах градиентного спуска меньше чем ```delta_converged``` алгоритм перкращает обновлять веса\n",
        "    \n",
        "    d. ```max_steps``` — максимальное число шагов градиентного спуска\n",
        "    \n",
        "    e. ```batch_size``` — размер батча\n",
        "\n",
        "4. Реализуйте **стохастический** градиентный спуск. На каждом шагу градиентного спуска должен формироваться батч размера ```batch_size``` из матрицы признаков. Это нужно для того чтобы алгоритм быстрее сходился. Батч может выбираться случайно на каждом шаге градиентного спуска, либо каждую эпоху можно перемешивать трейн выборку и итерироваться батчами по ней."
      ]
    },
    {
      "cell_type": "markdown",
      "metadata": {
        "id": "WFIb9mjWK1ux",
        "pycharm": {
          "name": "#%% md\n"
        }
      },
      "source": [
        "Обратите внимание при реализации SGD на следующие моменты (частые ошибки):\n",
        "* не перепутайте, какие коэффициенты в SGD стоят при самой функции потерь, а какие — при регуляризационном члене. Правильный вариант: $\\frac{\\alpha}{batch\\_size}$ при градиенте MSE, $\\alpha\\lambda$ при градиенте регуляризатора.\n",
        "* для остановки нужно сравнивать норму, а не ее квадрат\n",
        "* для правильного решения нужно не итерироваться по батчу,  а перемножать матрицы (иначе не зайдет по TL)\n",
        "* метод `predict` должен возвращать одномерный numpy array (не двумерный вектор-столбец формы (X.shape[1], 1))"
      ]
    },
    {
      "cell_type": "code",
      "execution_count": 23,
      "metadata": {
        "id": "AYmQ4zSkK1ux",
        "pycharm": {
          "name": "#%%\n"
        }
      },
      "outputs": [],
      "source": [
        "from sklearn.base import RegressorMixin\n",
        "\n",
        "class SGDLinearRegressor(RegressorMixin):\n",
        "    def __init__(self,\n",
        "                 lr=0.01, regularization=1., delta_converged=1e-3, max_steps=1000,\n",
        "                 batch_size=64):\n",
        "        self.lr = lr\n",
        "        self.regularization = regularization\n",
        "        self.max_steps = max_steps\n",
        "        self.delta_converged = delta_converged\n",
        "        self.batch_size = batch_size\n",
        "\n",
        "        self.W = None\n",
        "        self.b = None\n",
        "\n",
        "    def fit(self, X, Y):\n",
        "        N, D = X.shape\n",
        "        self.W = np.zeros(D)\n",
        "        self.b = 0.0\n",
        "        for _ in range(self.max_steps):\n",
        "            w_previous = self.W.copy()\n",
        "            perm = np.random.permutation(len(X))\n",
        "            X_shuffled = X[perm]\n",
        "            Y_shuffled = Y[perm]\n",
        "            for start in range(0, N, self.batch_size):\n",
        "                end = min(start + self.batch_size, N)\n",
        "                X_batch = X_shuffled[start:end]\n",
        "                Y_batch = Y_shuffled[start:end]\n",
        "                m = end - start\n",
        "                y_hat = self.W @ X_batch.T + self.b\n",
        "                grad_w = 2 * (y_hat - Y_batch) @ X_batch / m + 2 * self.regularization * self.W\n",
        "                grad_b = 2 * (y_hat - Y_batch).mean()\n",
        "\n",
        "                self.W -= self.lr * grad_w\n",
        "                self.b -= self.lr * grad_b\n",
        "            \n",
        "            delta_norm = np.linalg.norm(w_previous - self.W)\n",
        "            if delta_norm <= self.delta_converged:\n",
        "                break\n",
        "        return self\n",
        "\n",
        "\n",
        "\n",
        "    def predict(self, X):\n",
        "        return (self.W @ X.T + self.b).ravel()"
      ]
    },
    {
      "cell_type": "code",
      "execution_count": 24,
      "metadata": {
        "id": "DanmLPpaK1ux",
        "pycharm": {
          "name": "#%%\n"
        }
      },
      "outputs": [
        {
          "name": "stdout",
          "output_type": "stream",
          "text": [
            "(2344, 33) (2344,)\n",
            "(586,) (586,)\n",
            "MAE :  24025.14148740424\n",
            "Mean log :  0.19779248532134772\n"
          ]
        }
      ],
      "source": [
        "# Check yourself\n",
        "\n",
        "model = SGDLinearRegressor(regularization=0.01, lr=0.01)\n",
        "print(X_train.shape, Y_train.shape)\n",
        "model.fit(X_train, Y_train)\n",
        "\n",
        "prediction = model.predict(X_test)\n",
        "print(Y_test.shape, prediction.shape)\n",
        "print(\"MAE : \", mean_absolute_error(Y_test, prediction))\n",
        "print(\"Mean log : \", root_mean_squared_logarithmic_error(Y_test, prediction))"
      ]
    },
    {
      "cell_type": "markdown",
      "metadata": {
        "id": "gdVXFO2aK1ux"
      },
      "source": [
        "### 7. Категориальные признаки"
      ]
    },
    {
      "cell_type": "markdown",
      "metadata": {
        "id": "npUKbcsbK1ux"
      },
      "source": [
        "В самом начале ноутбука мы отбросили категориальные фичи, хотя они могут помочь нам сделать модель лучше. Давайте же научимся ими пользоваться.\n",
        "\n",
        "Самый простой подход — это закодировать значения категориального признака числами, скажем, от $0$ до $C-1$, где $C$ — количество значений категориального признака. Иногда это может сработать, но для этого нужно, чтобы между значениями признака были определены отношения больше/меньше (такие признаки называются _ординальными_), причём соотношения между значениями должны быть более-менее линейными. В целом, не очень частая ситуация, поэтому так мы делать не будем.\n",
        "\n",
        "Вместо этого мы будем использовать OneHotEncoding. Пусть некоторая категориальная фича имеет $C$ уникальных значений. Давайте эту фичу закодируем в виде $C$ столбцов, каждый из которых соответствует некоторому уникальному значению категориальной фичи. Для каждого элемента выборки будем класть единичку в столбец, соответствующий этой фиче, и нолики в остальные.\n",
        "\n",
        "У этого метода есть недостаток. Если категориальная фича принимает слишком много значений, то вы нагенерируете много новых столбцов, каждый из которых будет содержать мало информации. Из-за них моделька может переобучиться.\n",
        "\n",
        "Этот метод имплементирован [здесь](https://scikit-learn.org/stable/modules/generated/sklearn.preprocessing.OneHotEncoder.html). У него есть пара важных гиперпараметров, которые стоит упомянуть:\n",
        "- ```handle_unknown``` - управляет обработкой незнакомых категорий на этапе `transform`. Число уникальных значений (и число столбцов) настраивается на обучающей выборке, и при дальнейшем применении может появиться значение, которого ещё не было. Если указать ```handle_unknown=\"ignore\"```, все поля для такого объекта будут заполнены нулями.\n",
        "- ```drop``` - если делать one-hot-encoding так как это описано выше, то сумма всех столбцов, соответствующих значениям категориальной фичи, будет равна единичному вектору. А такой вектор уже есть (он соответствует свободному члену). То есть признаки становятся линейно зависимыми, и это сломает процесс обучения линейной модели. Поэтому есть смысл для каждой фичи отбрасывать одну из получившихся колонок (```drop=\"first\"```) или хотя бы делать это только для бинарных фичей (```drop=\"if_binary\"```)"
      ]
    },
    {
      "cell_type": "markdown",
      "metadata": {
        "id": "V0es5bKeK1ux"
      },
      "source": [
        "В этом пункте вам надо еще раз предобработать данные, добавив в них часть категориальных фичей, закодированных OneHotEncoding-ом. После этого обучите классификатор заново и выбейте лучшую метрику на тестовой выборке. А именно, мы добавим фичи \"Overall_Qual\", \"Garage_Qual\", \"Sale_Condition\", \"MS_Zoning\". Используйте значение параметра handle_unknown=\"ignore\".\n",
        "\n",
        "*На практике в некоторых версиях scikit-learn есть проблема с совместимостью `handle_unknown=\"ignore\"` и `drop=\"first\"` одновременно, поэтому вторым можно пожертвовать.\n",
        "\n",
        "Класс будет наследоваться от BaseDataPreprocessor, так что в него можно будет передавать нужные для BaseDataPreprocessor параметры. Также это позволит не переписывать заново то, что происходит в базовом классе, а просто взывать к ним с помощью конструкции `super`."
      ]
    },
    {
      "cell_type": "code",
      "execution_count": null,
      "metadata": {
        "id": "GLKyWMP1K1ux",
        "pycharm": {
          "name": "#%%\n"
        }
      },
      "outputs": [],
      "source": [
        "interesting_columns = [\"Overall_Qual\", \"Garage_Qual\", \"Sale_Condition\", \"MS_Zoning\"]\n",
        "from sklearn.preprocessing import OneHotEncoder\n",
        "\n",
        "class OneHotPreprocessor(BaseDataPreprocessor):\n",
        "    def __init__(self, categorical_columns : list, needed_columns, **kwargs):\n",
        "        super().__init__(needed_columns=needed_columns, **kwargs)\n",
        "        self.categorical_columns = categorical_columns\n",
        "        self.ohe = OneHotEncoder(handle_unknown='ignore', sparse_output=False, drop='first')\n",
        "\n",
        "    def fit(self, data, *args):\n",
        "        super().fit(data, *args)\n",
        "        self.ohe.fit(data[self.categorical_columns])\n",
        "        return self\n",
        "\n",
        "    def transform(self, data):\n",
        "        base_part = super().transform(data[self.needed_columns])\n",
        "        cat_part = self.ohe.transform(data[self.categorical_columns])\n",
        "        return np.hstack([base_part, cat_part])"
      ]
    },
    {
      "cell_type": "markdown",
      "metadata": {
        "id": "v80RppKdK1ux"
      },
      "source": [
        "Обучите модель с добавленными категориальными фичами. Получилось ли улучшить её качество?"
      ]
    },
    {
      "cell_type": "code",
      "execution_count": 68,
      "metadata": {},
      "outputs": [
        {
          "name": "stdout",
          "output_type": "stream",
          "text": [
            "['Overall_Qual', 'Garage_Qual', 'Sale_Condition', 'MS_Zoning']\n",
            "['Overall_Qual', 'Garage_Qual', 'Sale_Condition', 'MS_Zoning']\n",
            "['Overall_Qual', 'Garage_Qual', 'Sale_Condition', 'MS_Zoning']\n",
            "MAE: 18306.66914251647  Exponential: 0.157140272708351\n"
          ]
        }
      ],
      "source": [
        "pipe = Pipeline([('prep', OneHotPreprocessor(categorical_columns=interesting_columns, needed_columns=list(continuous_columns))), ('regressor', Ridge(alpha=0.01))])\n",
        "\n",
        "pipe.fit(data_train, Y_train)\n",
        "\n",
        "preds = pipe.predict(data_test)\n",
        "\n",
        "print(f\"MAE: {mean_absolute_error(Y_test, preds)}  Exponential: {root_mean_squared_logarithmic_error(Y_test, preds)}\")\n",
        "\n",
        "\n",
        "\n"
      ]
    },
    {
      "cell_type": "markdown",
      "metadata": {
        "id": "fWYh1NPbK1uy"
      },
      "source": [
        "### 8. Pipeline"
      ]
    },
    {
      "cell_type": "markdown",
      "metadata": {
        "id": "PlzhlXoLK1uy"
      },
      "source": [
        "Представьте ситуацию. Прошел месяц с того момента, как вы построили модель, а теперь вам надо дообучить её на новых данных и активно применять для предсказания. Если вы не позаботились об инфраструктуре, то вам придётся рыскать по всему ноутбуку в поисках того, как вы предобрабатывали данные, какую модель учили, обязательно что-нибудь забудете и будете очень страдать. Поэтому человечество придумало пайплайны, которые позволяют объединить предобработку данных и обучение модели в один класс — pipeline. Его можно писать самому, либо взять из sklearn ([link](https://scikit-learn.org/stable/modules/generated/sklearn.pipeline.Pipeline.html)).\n",
        "\n",
        "**7. Напишите пайплайн, объединяющий использованную нами базовую предобработку данных (BaseDataPreprocessor и OneHotPreprocessor), а также линейную регрессию с L2-регуляризацией, и сдайте его в Контест.**"
      ]
    },
    {
      "cell_type": "code",
      "execution_count": 26,
      "metadata": {
        "id": "a6udrWyYK1uy",
        "pycharm": {
          "name": "#%%\n"
        }
      },
      "outputs": [],
      "source": [
        "def make_ultimate_pipeline():\n",
        "    # <YOUR CODE HERE>\n",
        "    pass"
      ]
    },
    {
      "cell_type": "markdown",
      "metadata": {
        "id": "XqmOG-epK1uz"
      },
      "source": [
        "В этом пункте вы попробуете сделать что-то поинтереснее и загрузите плоды ваших трудов в Контест.\n",
        "\n",
        "Попробуйте усовершенствовать предобработку данных, добавляя или выкидывая фичи, придумывая функции от признаков так, чтобы улучшить качество классификатора.\n",
        "\n",
        "Ещё несколько базовых идей о том, что можно было бы попробовать:\n",
        "\n",
        "- Постройте гистограммы значений признаков. Вы обнаружите, что некоторые из них почти всегда принимают одно и то же значение. Для начала их можно просто выкинуть.\n",
        "- Почистите выбросы. У некоторых объектов значения каких-то признаков могут сильно выбиваться, и это будет мешать регрессии обучиться. Вообще говоря, такие объекты можно выкидывать, но с текущей архитектурой пайплайна вам будет трудно это настроить. Так что вы можете пока заменять их на более разумные значения.\n",
        "- Мы добавили лишь несколько категориальных признаков, а на самом деле многие из них могут быть полезными.\n",
        "- Можно дискретизовать непрерывные фичи. Самый банальный пример: если непрерывная фича принимает всего несколько значений, её можно попробовать проинтерпретировать, как категориальную, и подать в one-hot энкодер. Но можно и как-то ещё разбивать по порогам.\n",
        "- Можно делать и более сложные преобразования. Например в датасете есть координаты квартиры, которые по идее сами по себе мало чего дают нашему регрессору. С другой стороны, по ним можно оценить центр города (или просто найти его на карте) и использовать в качестве фичи расстояние до центра города, которое может естественным образом влиять на цену жилья.\n",
        "- Не забывайте настраивать коэффициент регуляризации: для разных датасетов оптимальное значение будет разным.\n",
        "\n",
        "**В контест вам нужно будет сдать свой класс модели**. Он будет обучаться и тестироваться на новом и неизвестном вам разбиении датасета на трейн и тест по метрике `root_mean_squared_logarithmic_error`.\n",
        "В контесте будет специально проверено, что вы сдаёте именно `Pipeline`.\n",
        "\n",
        "Не забывайте, что вместе с пайплайном вам нужно отправить и все самописные классы, которые в нём участвуют.\n"
      ]
    }
  ],
  "metadata": {
    "colab": {
      "provenance": []
    },
    "kernelspec": {
      "display_name": "ml_handbook_env",
      "language": "python",
      "name": "python3"
    },
    "language_info": {
      "codemirror_mode": {
        "name": "ipython",
        "version": 3
      },
      "file_extension": ".py",
      "mimetype": "text/x-python",
      "name": "python",
      "nbconvert_exporter": "python",
      "pygments_lexer": "ipython3",
      "version": "3.10.18"
    }
  },
  "nbformat": 4,
  "nbformat_minor": 0
}
