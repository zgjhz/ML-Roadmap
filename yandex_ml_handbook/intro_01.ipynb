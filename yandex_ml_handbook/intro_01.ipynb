{
  "cells": [
    {
      "cell_type": "markdown",
      "metadata": {
        "id": "k3zbLLaSGH6Z"
      },
      "source": [
        "## Лабораторная работа \"Введение в ML\""
      ]
    },
    {
      "cell_type": "markdown",
      "metadata": {
        "id": "SL3v975uGH6h"
      },
      "source": [
        "В этой лабораторной вы:\n",
        "\n",
        "- познакомитесь с базовыми библиотеками для работы с табличными данными — `numpy` и `pandas`\n",
        "- поближе посмотрите на простейшие задачи машинного обучения: классификацию и регрессию\n",
        "- попробуете несколько метрик и поймёте, почему выбор метрики это важно\n",
        "- обучите несколько простых моделей\n",
        "- увидите связь между сложностью модели и переобучением\n",
        "- убедитесь, что без данных всё тлен"
      ]
    },
    {
      "cell_type": "markdown",
      "metadata": {
        "id": "ad3nBqBSGH6j"
      },
      "source": [
        "Загрузка самых базовых библиотек:"
      ]
    },
    {
      "cell_type": "code",
      "execution_count": 249,
      "metadata": {
        "id": "Z8Iht5qhGH6l"
      },
      "outputs": [],
      "source": [
        "import numpy as np\n",
        "import pandas as pd\n",
        "import matplotlib.pyplot as plt\n",
        "import seaborn as sns\n",
        "%matplotlib inline\n",
        "\n",
        "from sklearn.model_selection import train_test_split"
      ]
    },
    {
      "cell_type": "markdown",
      "metadata": {
        "id": "4W8Eq0sTGH6n"
      },
      "source": [
        "### [NumPy](https://numpy.org/doc/stable/user/index.html)\n",
        "\n",
        "С 1995 numeric, с 2006 NumPy — «Numerical Python extensions» или просто «NumPy»\n",
        "\n",
        "Возможности библиотеки NumPy:\n",
        "* работать с многомерными массивами (таблицами)\n",
        "* быстро вычислять математические функций на многомерных массивах\n",
        "\n",
        "Ядро пакета NumPy — объект [ndarray](https://docs.scipy.org/doc/numpy/reference/generated/numpy.ndarray.html)\n",
        "\n",
        "**Важные отличия** между NumPy arrays и Python sequences:\n",
        "* NumPy array имеет фиксированную длину, которая определяется в момент его создания (в отличие от Python lists, которые могут расти динамически)\n",
        "* Элементы в NumPy array должны быть одного типа\n",
        "* Можно выполнять операции непосредственно над NumPy arrays\n",
        "\n",
        "**Скорость** NumPy достигается с помощью:\n",
        "* реализации на C\n",
        "* векторизации и броадкастинга (broadcasting). Например, произведение массивов совместимых форм.\n",
        "\n",
        "Теперь давайте разберёмся подробнее и сделаем что-нибудь приятное и полезное в `numpy`!"
      ]
    },
    {
      "cell_type": "markdown",
      "metadata": {
        "id": "eS3UKcU6GH6o"
      },
      "source": [
        "### Индексация"
      ]
    },
    {
      "cell_type": "markdown",
      "metadata": {
        "id": "VqBzoEfvGH6p"
      },
      "source": [
        "В NumPy работает привычная индексация Python, ура! Включая использование отрицательных индексов и срезов (slices)"
      ]
    },
    {
      "cell_type": "markdown",
      "metadata": {
        "id": "Anq_nSYTGH6q"
      },
      "source": [
        "<div class=\"alert alert-info\">\n",
        "<b>Замечание 1:</b> Индексы и срезы в многомерных массивах не нужно разделять квадратными скобками,\n",
        "т.е. вместо <b>matrix[i][j]</b> нужно использовать <b>matrix[i, j]</b>. Первое тоже работает, но сначала выдаёт строку i, потом элемент j в ней.\n",
        "</div>"
      ]
    },
    {
      "cell_type": "markdown",
      "metadata": {
        "id": "OoHXSVIrGH6q"
      },
      "source": [
        "<div class=\"alert alert-danger\">\n",
        "<b>Замечание 2:</b> Срезы в NumPy создают view, а не копии, как в случае срезов встроенных последовательностей Python (string, tuple and list).\n",
        "</div>"
      ]
    },
    {
      "cell_type": "code",
      "execution_count": 250,
      "metadata": {
        "id": "YJKxBB4dGH6s",
        "outputId": "61139b1d-46db-4f7f-d5bb-96b7c3f96284"
      },
      "outputs": [
        {
          "data": {
            "text/plain": [
              "array([[0., 0., 0.],\n",
              "       [0., 0., 0.],\n",
              "       [0., 0., 0.]])"
            ]
          },
          "execution_count": 250,
          "metadata": {},
          "output_type": "execute_result"
        }
      ],
      "source": [
        "ones_matrix = np.ones((5, 5))\n",
        "ones_submatrix_view = ones_matrix[::2,::2] # creates a view, not copy\n",
        "ones_matrix[::2,::2] = np.zeros((3, 3))\n",
        "ones_submatrix_view"
      ]
    },
    {
      "cell_type": "markdown",
      "metadata": {
        "id": "jpEF1rp2GH6v"
      },
      "source": [
        "### Ссылка на Яндекс.Контест\n",
        "\n",
        "Решения и ответы в задачах, расположенных ниже, загружайте в контест на автоматическую проверку:\n",
        "https://new.contest.yandex.ru/60376/start\n"
      ]
    },
    {
      "cell_type": "markdown",
      "metadata": {
        "id": "eZpuxPhJGH6v"
      },
      "source": [
        "**1.** Реализуйте функцию, принимающую на вход два одномерных массива `first_array` и `second_array` и возвращающую матрицу, в которой первый массив соответствует первому столбцу матрицы, второй — второму.\n",
        "\n",
        "Вероятно первое, что приходит вам на ум, это конкатенация и транспонирование:"
      ]
    },
    {
      "cell_type": "code",
      "execution_count": 251,
      "metadata": {
        "id": "hmQk1N6rGH6w"
      },
      "outputs": [],
      "source": [
        "def construct_matrix(first_array, second_array):\n",
        "    \"\"\"\n",
        "    Construct matrix from pair of arrays\n",
        "    :param first_array: first array\n",
        "    :param second_array: second array\n",
        "    :return: constructed matrix\n",
        "    \"\"\"\n",
        "    return np.vstack([first_array, second_array]).T # <- your first right code here"
      ]
    },
    {
      "cell_type": "code",
      "execution_count": 252,
      "metadata": {
        "id": "TeFqyCz4GH6x",
        "outputId": "ecd0b7d3-7acf-40f2-878e-057d17136e8c",
        "scrolled": true
      },
      "outputs": [
        {
          "data": {
            "text/plain": [
              "array([[1, 3],\n",
              "       [2, 4]])"
            ]
          },
          "execution_count": 252,
          "metadata": {},
          "output_type": "execute_result"
        }
      ],
      "source": [
        "construct_matrix(np.array([1,2]),np.array([3,4]))"
      ]
    },
    {
      "cell_type": "markdown",
      "metadata": {
        "id": "lP-lmcA2GH6y"
      },
      "source": [
        "(в скобках заметим, что конкатенировать можно vertically, horizontally, depth wise методами vstack, hstack, dstack по трём осям (0, 1 и 2, соотвественно), либо в общем случае `np.concatenate` — поиграйтесь ниже с прекрасным примером четырёхмерной точки, чтобы точно всё для себя понять)"
      ]
    },
    {
      "cell_type": "code",
      "execution_count": 253,
      "metadata": {
        "id": "xguxLJ0VGH6y",
        "outputId": "2f32df14-6f5d-4800-96b5-bb8fba9c9ec0"
      },
      "outputs": [
        {
          "data": {
            "text/plain": [
              "array([[[[0]]]])"
            ]
          },
          "execution_count": 253,
          "metadata": {},
          "output_type": "execute_result"
        }
      ],
      "source": [
        "p = np.arange(1).reshape([1, 1, 1, 1])\n",
        "p"
      ]
    },
    {
      "cell_type": "code",
      "execution_count": 254,
      "metadata": {
        "id": "z1JFw75eGH6y",
        "outputId": "16e3c894-2e0e-4a5a-edd4-7a974cfa43e4"
      },
      "outputs": [
        {
          "name": "stdout",
          "output_type": "stream",
          "text": [
            "vstack:  (2, 1, 1, 1)\n",
            "hstack:  (1, 2, 1, 1)\n",
            "dstack:  (1, 1, 2, 1)\n"
          ]
        }
      ],
      "source": [
        "print(\"vstack: \", np.vstack((p, p)).shape)\n",
        "print(\"hstack: \", np.hstack((p, p)).shape)\n",
        "print(\"dstack: \", np.dstack((p, p)).shape)"
      ]
    },
    {
      "cell_type": "code",
      "execution_count": 255,
      "metadata": {
        "id": "cvbthbDDGH6z",
        "outputId": "d89430e5-8c64-4b5f-f2b3-4343f4c659ed"
      },
      "outputs": [
        {
          "data": {
            "text/plain": [
              "(1, 1, 1, 2)"
            ]
          },
          "execution_count": 255,
          "metadata": {},
          "output_type": "execute_result"
        }
      ],
      "source": [
        "np.concatenate((p, p), axis=3).shape"
      ]
    },
    {
      "cell_type": "markdown",
      "metadata": {
        "id": "-5GkuWwaGH60"
      },
      "source": [
        "Но, поскольку операция транспонирования [делает массив non-contiguous](https://numpy.org/doc/stable/user/basics.copies.html#other-operations), мы в этой задаче **запретим** ей пользоваться и порекомедуем воспользоваться, например, методом [reshape](https://numpy.org/doc/stable/reference/generated/numpy.reshape.html)."
      ]
    },
    {
      "cell_type": "markdown",
      "metadata": {
        "id": "n3ce_o75GH61"
      },
      "source": [
        "**2.** Реализуйте функцию, принимающую на вход массив целых неотрицательных чисел `nums` и возвращающую самый частый элемент массива."
      ]
    },
    {
      "cell_type": "code",
      "execution_count": 256,
      "metadata": {
        "id": "XZysMovaGH61"
      },
      "outputs": [
        {
          "data": {
            "text/plain": [
              "np.int64(0)"
            ]
          },
          "execution_count": 256,
          "metadata": {},
          "output_type": "execute_result"
        }
      ],
      "source": [
        "def most_frequent(nums):\n",
        "    \"\"\"\n",
        "    Find the most frequent value in an array\n",
        "    :param nums: array of ints\n",
        "    :return: the most frequent value\n",
        "    \"\"\"\n",
        "    return np.argmax(np.bincount(nums))  # <- your second right code here\n",
        "\n",
        "most_frequent(np.array([2, 2, 0, 0, 0, 0, 4, 5, 1]))"
      ]
    },
    {
      "cell_type": "markdown",
      "metadata": {
        "id": "e6kjITZMGH62"
      },
      "source": [
        "### Переходим к работе с данными\n",
        "\n",
        "Прежде всего, загрузим данные и сделаем из них красивые pandas-таблички. Они взяты из параллели RecSys соревнования https://yandex.ru/cup/ml/. Но мы будем иметь дело не со всеми данными, а только с их частью. Данные у нас будут про заведения общественного питания (больше бюрократический терминологии!)\n",
        "\n",
        "Файлы с данными можно найти [здесь](https://disk.yandex.ru/d/YWvCNRQMb7QSQA).\n",
        "\n",
        "Задачей будет **предсказание среднего чека** (average_bill) по некоторым другим свойствам заведения."
      ]
    },
    {
      "cell_type": "code",
      "execution_count": 257,
      "metadata": {
        "id": "yJPF3OclGH62"
      },
      "outputs": [],
      "source": [
        "base = 'data_01/'"
      ]
    },
    {
      "cell_type": "code",
      "execution_count": 258,
      "metadata": {
        "id": "uzDIu6uXGH62"
      },
      "outputs": [],
      "source": [
        "data = pd.read_csv(base + 'organisations.csv')\n",
        "features = pd.read_csv(base + 'features.csv')\n",
        "rubrics = pd.read_csv(base + 'rubrics.csv')"
      ]
    },
    {
      "cell_type": "markdown",
      "metadata": {
        "id": "k-AwDM7bGH63"
      },
      "source": [
        "В основном мы будем работать с табличкой `data`; остальное вам может пригодиться, если вы захотите знать, какое содержание стоит за кодами признаков."
      ]
    },
    {
      "cell_type": "markdown",
      "metadata": {
        "id": "4hrvEN_3GH63"
      },
      "source": [
        "## Изучение данных"
      ]
    },
    {
      "cell_type": "markdown",
      "metadata": {
        "id": "PI9YQMuCGH63"
      },
      "source": [
        "Посмотрите на данные. В этом вам поможет метод ``head`` pandas-таблички."
      ]
    },
    {
      "cell_type": "code",
      "execution_count": 259,
      "metadata": {
        "id": "VA_0DG29GH64"
      },
      "outputs": [
        {
          "data": {
            "text/html": [
              "<div>\n",
              "<style scoped>\n",
              "    .dataframe tbody tr th:only-of-type {\n",
              "        vertical-align: middle;\n",
              "    }\n",
              "\n",
              "    .dataframe tbody tr th {\n",
              "        vertical-align: top;\n",
              "    }\n",
              "\n",
              "    .dataframe thead th {\n",
              "        text-align: right;\n",
              "    }\n",
              "</style>\n",
              "<table border=\"1\" class=\"dataframe\">\n",
              "  <thead>\n",
              "    <tr style=\"text-align: right;\">\n",
              "      <th></th>\n",
              "      <th>org_id</th>\n",
              "      <th>city</th>\n",
              "      <th>average_bill</th>\n",
              "      <th>rating</th>\n",
              "      <th>rubrics_id</th>\n",
              "      <th>features_id</th>\n",
              "    </tr>\n",
              "  </thead>\n",
              "  <tbody>\n",
              "    <tr>\n",
              "      <th>0</th>\n",
              "      <td>15903868628669802651</td>\n",
              "      <td>msk</td>\n",
              "      <td>1500.0</td>\n",
              "      <td>4.270968</td>\n",
              "      <td>30776 30774</td>\n",
              "      <td>3501685156 3501779478 20422 3502045016 3502045...</td>\n",
              "    </tr>\n",
              "    <tr>\n",
              "      <th>1</th>\n",
              "      <td>16076540698036998306</td>\n",
              "      <td>msk</td>\n",
              "      <td>500.0</td>\n",
              "      <td>4.375000</td>\n",
              "      <td>30771</td>\n",
              "      <td>1509 1082283206 273469383 10462 11617 35017794...</td>\n",
              "    </tr>\n",
              "    <tr>\n",
              "      <th>2</th>\n",
              "      <td>8129364761615040323</td>\n",
              "      <td>msk</td>\n",
              "      <td>500.0</td>\n",
              "      <td>4.000000</td>\n",
              "      <td>31495</td>\n",
              "      <td>10462 11177 11617 11629 1416 1018 11704 11867 ...</td>\n",
              "    </tr>\n",
              "    <tr>\n",
              "      <th>3</th>\n",
              "      <td>15262729117594253452</td>\n",
              "      <td>msk</td>\n",
              "      <td>500.0</td>\n",
              "      <td>4.538813</td>\n",
              "      <td>30776 30770</td>\n",
              "      <td>3501618484 2020795524 11629 11617 1018 11704 2...</td>\n",
              "    </tr>\n",
              "    <tr>\n",
              "      <th>4</th>\n",
              "      <td>13418544315327784420</td>\n",
              "      <td>msk</td>\n",
              "      <td>500.0</td>\n",
              "      <td>4.409091</td>\n",
              "      <td>31495</td>\n",
              "      <td>11617 10462 11177 1416 11867 3501744275 20282 ...</td>\n",
              "    </tr>\n",
              "  </tbody>\n",
              "</table>\n",
              "</div>"
            ],
            "text/plain": [
              "                 org_id city  average_bill    rating   rubrics_id  \\\n",
              "0  15903868628669802651  msk        1500.0  4.270968  30776 30774   \n",
              "1  16076540698036998306  msk         500.0  4.375000        30771   \n",
              "2   8129364761615040323  msk         500.0  4.000000        31495   \n",
              "3  15262729117594253452  msk         500.0  4.538813  30776 30770   \n",
              "4  13418544315327784420  msk         500.0  4.409091        31495   \n",
              "\n",
              "                                         features_id  \n",
              "0  3501685156 3501779478 20422 3502045016 3502045...  \n",
              "1  1509 1082283206 273469383 10462 11617 35017794...  \n",
              "2  10462 11177 11617 11629 1416 1018 11704 11867 ...  \n",
              "3  3501618484 2020795524 11629 11617 1018 11704 2...  \n",
              "4  11617 10462 11177 1416 11867 3501744275 20282 ...  "
            ]
          },
          "execution_count": 259,
          "metadata": {},
          "output_type": "execute_result"
        }
      ],
      "source": [
        "data.head()"
      ]
    },
    {
      "cell_type": "markdown",
      "metadata": {
        "id": "GN9kZbURGH64"
      },
      "source": [
        "Полезно посмотреть внимательнее на то, с какими признаками нам предстоит работать.\n",
        "\n",
        "* **org_id** вам не понадобится;\n",
        "* **city** - город, в котором находится заведение (``msk`` или ``spb``);\n",
        "* **average_bill** - средний чек в заведении - он будет нашим таргетом;\n",
        "* **rating** - рейтинг заведения;\n",
        "* **rubrics_id** - тип заведения (или несколько типов). Соответствие кодов каким-то человекочитаемым типам живёт в табличке ``rubrics``\n",
        "* **features_id** - набор неких фичей заведения. Соответствие кодов каким-то человекочитаемым типам живёт в табличке ``features``\n",
        "\n",
        "Обратите внимание, что **rubrics_id** и **features_id** - это не списки, а разделённые пробелами строки. Когда вам захочется работать с отдельными фичами из мешка фичей для данного заведения, вам придётся всё-таки превратить их в списки (здесь поможет метод `split` для строк)."
      ]
    },
    {
      "cell_type": "markdown",
      "metadata": {
        "id": "J0IJIWz3GH64"
      },
      "source": [
        "Чтобы быстро восстанавливать по рубрикам и фичам их нормальные названия, сделайте словари вида ``код_фичи:название_фичи``"
      ]
    },
    {
      "cell_type": "code",
      "execution_count": 260,
      "metadata": {
        "id": "8KwKEKr7GH65"
      },
      "outputs": [
        {
          "data": {
            "text/plain": [
              "{30519: 'Булочная, пекарня',\n",
              " 30770: 'Бар, паб',\n",
              " 30771: 'Быстрое питание',\n",
              " 30774: 'Кафе',\n",
              " 30775: 'Пиццерия',\n",
              " 30776: 'Ресторан',\n",
              " 30777: 'Столовая',\n",
              " 31286: 'Спортбар',\n",
              " 31350: 'Кондитерская',\n",
              " 31375: 'Суши-бар',\n",
              " 31401: 'Кальян-бар',\n",
              " 31495: 'Кофейня',\n",
              " 3108292683: 'Бар безалкогольных напитков',\n",
              " 3501514558: 'Фудкорт',\n",
              " 3501750896: 'Кофе с собой'}"
            ]
          },
          "execution_count": 260,
          "metadata": {},
          "output_type": "execute_result"
        }
      ],
      "source": [
        "features.head()\n",
        "features = features.set_index('feature_id')\n",
        "feature_dict = features.to_dict()\n",
        "feature_dict = feature_dict['feature_name']\n",
        "feature_dict\n",
        "\n",
        "rubrics = rubrics.set_index('rubric_id')\n",
        "rubric_dict = rubrics.to_dict()\n",
        "rubric_dict = rubric_dict['rubric_name']\n",
        "rubric_dict"
      ]
    },
    {
      "cell_type": "markdown",
      "metadata": {
        "id": "DNd4PkyQGH65"
      },
      "source": [
        "Посмотрим, какими бывают типы заведений:"
      ]
    },
    {
      "cell_type": "code",
      "execution_count": 261,
      "metadata": {
        "id": "8WhaPPEeGH65",
        "outputId": "aaf9cc8c-64ae-4bac-d8f8-6dd4d03033d8",
        "scrolled": false
      },
      "outputs": [
        {
          "data": {
            "text/plain": [
              "{30519: 'Булочная, пекарня',\n",
              " 30770: 'Бар, паб',\n",
              " 30771: 'Быстрое питание',\n",
              " 30774: 'Кафе',\n",
              " 30775: 'Пиццерия',\n",
              " 30776: 'Ресторан',\n",
              " 30777: 'Столовая',\n",
              " 31286: 'Спортбар',\n",
              " 31350: 'Кондитерская',\n",
              " 31375: 'Суши-бар',\n",
              " 31401: 'Кальян-бар',\n",
              " 31495: 'Кофейня',\n",
              " 3108292683: 'Бар безалкогольных напитков',\n",
              " 3501514558: 'Фудкорт',\n",
              " 3501750896: 'Кофе с собой'}"
            ]
          },
          "execution_count": 261,
          "metadata": {},
          "output_type": "execute_result"
        }
      ],
      "source": [
        "rubric_dict"
      ]
    },
    {
      "cell_type": "markdown",
      "metadata": {
        "id": "qA6Bm_8EGH66"
      },
      "source": [
        "Мы что-то поняли про признаки, которыми нам предстоит пользоваться. Теперь время посмотреть на таргет. Вооружившись функциями ``hist`` и ``scatter`` из библиотеки ``matplotlib``, а также методом ``isna`` для pandas-таблиц разберитесь, какие значения принимают таргеты, есть ли там там выбросы, пропуски или ещё какие-то проблемы.\n",
        "\n",
        "&nbsp;\n",
        "\n",
        "<details>\n",
        "  <summary>Когда будете готовы, кликните сюда, чтобы посмотреть ответ</summary>\n",
        "    <ol>\n",
        "      <li>Среди таргетов довольно много пропусков;</li>\n",
        "      <li>Все таргеты - это числа, кратные 500;</li>\n",
        "      <li>Есть какие-то адские значения, превышающие 100 000 (видимо, выбросы);</li>\n",
        "      <li>В целом, число ресторанов с данным средним чеком быстро падает с ростом среднего чека. Для средних чеков, больших 2500, заведений уже совсем мало. Примерно у 2/3 заведений средний чек 500.</li>\n",
        "    </ol>\n",
        "</details>"
      ]
    },
    {
      "cell_type": "code",
      "execution_count": 262,
      "metadata": {},
      "outputs": [
        {
          "data": {
            "text/plain": [
              "average_bill\n",
              "500.0       22329\n",
              "1000.0       5482\n",
              "1500.0       2696\n",
              "2000.0       1184\n",
              "2500.0        445\n",
              "            ...  \n",
              "60000.0         1\n",
              "12000.0         1\n",
              "25500.0         1\n",
              "250000.0        1\n",
              "101500.0        1\n",
              "Name: count, Length: 63, dtype: int64"
            ]
          },
          "execution_count": 262,
          "metadata": {},
          "output_type": "execute_result"
        }
      ],
      "source": [
        "data.average_bill = data.average_bill.map(float)\n",
        "data.average_bill.value_counts()"
      ]
    },
    {
      "cell_type": "code",
      "execution_count": 263,
      "metadata": {
        "id": "f6bg-kmIGH66",
        "outputId": "69beeb66-b7aa-4905-bc73-59a6ab27edf3",
        "scrolled": true
      },
      "outputs": [
        {
          "data": {
            "text/plain": [
              "<Axes: xlabel='average_bill', ylabel='count'>"
            ]
          },
          "execution_count": 263,
          "metadata": {},
          "output_type": "execute_result"
        },
        {
          "data": {
            "image/png": "[encoded data removed]",
            "text/plain": [
              "<Figure size 640x480 with 1 Axes>"
            ]
          },
          "metadata": {},
          "output_type": "display_data"
        }
      ],
      "source": [
        "data.head()\n",
        "data.average_bill.hist()\n",
        "\n",
        "sns.countplot(data=data, x='average_bill')"
      ]
    },
    {
      "cell_type": "markdown",
      "metadata": {
        "id": "trfl5F_4GH66"
      },
      "source": [
        "**Базовая очистка данных**\n",
        "\n",
        "Раз есть треш, давайте чистить данные.\n",
        "\n",
        "С пропусками можно бороться по-разному (даже и с пропусками в таргете), но пока мы сделаем самую простую вещь: дропнем все заведения, для которых мы не знаем средний чек.\n",
        "\n",
        "Уберите из них все заведения, у которых средний чек неизвестен или превышает 2500. Пока есть опасение, что их слишком мало, чтобы мы смогли обучить на них что-нибудь.\n",
        "\n",
        "**3. Введите в Контест количество заведений, которое у вас получилось после очистки**.\n",
        "\n",
        "Дальше мы будем работать с очищенными данными."
      ]
    },
    {
      "cell_type": "code",
      "execution_count": 264,
      "metadata": {
        "id": "OxIkRsA1GH67"
      },
      "outputs": [],
      "source": [
        "data = data.dropna(subset=['average_bill'])\n",
        "clean_data = data[data.average_bill <= 2500]"
      ]
    },
    {
      "cell_type": "markdown",
      "metadata": {
        "id": "GsNzGAp1GH67"
      },
      "source": [
        "**4. Посчитайте и введите в Контест разность между средними арифметическими average_bill в кафе Москвы и Санкт-Петербурга. Округлите ответ до целого.**\n",
        "\n",
        "&nbsp;\n",
        "\n",
        "<details>\n",
        "  <summary>Небольшая подсказка</summary>\n",
        "  Примените часто используемый метод groupby.\n",
        "</details>"
      ]
    },
    {
      "cell_type": "code",
      "execution_count": 265,
      "metadata": {
        "id": "gLdl3zVCGH67"
      },
      "outputs": [
        {
          "data": {
            "text/plain": [
              "np.float64(735.7469646313567)"
            ]
          },
          "execution_count": 265,
          "metadata": {},
          "output_type": "execute_result"
        }
      ],
      "source": [
        "data.groupby('city').average_bill.mean().loc['spb']"
      ]
    },
    {
      "cell_type": "markdown",
      "metadata": {
        "id": "Qncnmi8bGH7F"
      },
      "source": [
        "Давайте ещё немного поизучаем данные. Ответьте на вопросы:\n",
        "\n",
        "1. Есть ли разница между средними чеками в Москве и Санкт-Петербурге?\n",
        "2. Коррелирует ли средний чек с рейтингом?\n",
        "3. Есть ли разница в среднем чеке между ресторанами и пабами (см. соответствующие типы из ``rubrics``)?\n",
        "\n",
        "&nbsp;\n",
        "\n",
        "<details>\n",
        "  <summary>Когда будете готовы, кликните сюда, чтобы посмотреть ответ</summary>\n",
        "    <ol>\n",
        "      <li>В целом, да. Вы могли бы сравнить средние (в Москве больше) или медианы (они равны, потому что уж больно много где средний чек 500). Этого, конечно, мало для того, чтобы сделать вывод. Нужно проверять какие-то статические критерии, которые изучаются в курсе по статистике. Не будем останавливаться на этом подробно. Поскольку данные совсем не нормальные, никакой t-тест не сработает; мы бы предложили использовать критерий Манна-Уитни (см. википедию и функцию mannwhitneyu из библиотеки scipy.stats).</li>\n",
        "      <li>Какая-то корреляция между ними есть но уж больно неубедительная (рекомендуем построим на одном графике boxplot рейтинга по каждому значению среднего чека для визуализации). Конечно, дна становится меньше с ростом среднего чека, но, видимо, в предсказании это особо не используешь;</li>\n",
        "      <li>Несомненно, в ресторанах средний чек выше. Это и невооружённым глазом видно, и с помощью критерия Манна-Уитни можно проверить.</li>\n",
        "    </ol>\n",
        "</details>"
      ]
    },
    {
      "cell_type": "code",
      "execution_count": 266,
      "metadata": {},
      "outputs": [
        {
          "data": {
            "text/plain": [
              "<Axes: xlabel='average_bill', ylabel='rating'>"
            ]
          },
          "execution_count": 266,
          "metadata": {},
          "output_type": "execute_result"
        },
        {
          "data": {
            "image/png": "[encoded data removed]",
            "text/plain": [
              "<Figure size 640x480 with 1 Axes>"
            ]
          },
          "metadata": {},
          "output_type": "display_data"
        }
      ],
      "source": [
        "sns.scatterplot(data=data, x='average_bill', y='rating', hue='city')"
      ]
    },
    {
      "cell_type": "markdown",
      "metadata": {
        "id": "ATY5075lGH7F"
      },
      "source": [
        "## Формулируем задачу"
      ]
    },
    {
      "cell_type": "markdown",
      "metadata": {
        "id": "znpEgJGIGH7F"
      },
      "source": [
        "Прежде, чем решать задачу, её надо сформулировать.\n",
        "\n",
        "**Вопрос первый**: это классификация или регрессия? Подумайте над этим.\n",
        "\n",
        "&nbsp;\n",
        "\n",
        "<details>\n",
        "  <summary>Когда будете готовы, кликните сюда, чтобы посмотреть ответ</summary>\n",
        "    Ответ не столь однозначен, как хотелось бы. С одной стороны, таргет принимает всего четыре значения, и потому это может быть классификацией с 4 классами. С другой стороны, таргеты - это не абстрактные \"треугольник\", \"круг\", \"квадрат\", а вещественные числа, и когда мы вместо 500 предсказываем 2500, это явно хуже, чем вместо 1500 предсказать 2000. В целом, задачу можно решать и так, и так; мы будем смотреть на метрики обеих задач.\n",
        "</details>"
      ]
    },
    {
      "cell_type": "markdown",
      "metadata": {
        "id": "aaVuazxsGH7G"
      },
      "source": [
        "**Вопрос второй**: какие метрики мы будем использовать для оценки качества решения? Какие метрики вы предложили бы для этой задачи как для задачи классификации? А для этой задачи, как для задачи регрессии?\n",
        "\n",
        "&nbsp;\n",
        "\n",
        "<details>\n",
        "  <summary>Когда будете готовы, кликните сюда, чтобы посмотреть ответ</summary>\n",
        "    \n",
        "    Начнём с классификации. Метрика accuracy не очень хороша из-за несбалансированности классов. Действительно, классификатор, который всегда говорит 500, будет иметь accuracy примерно 0.66, хотя это никак не отражает практическую ценность модели. Как мы увидим, самая большая проблема будет заключаться в том, чтобы научиться выделять заведения с большими чеками, а их меньше всего и в accuracy они вносят самый маленький вклад. Есть разные способы с этим бороться, один -- использовать sklearn.metrics.balanced_accuracy_score. Его идея, грубо говоря, в том, чтобы по каждому классу найти, какая доля объектов этого класса правильно классифицирована, а потом эти доли усреднить. Тогда у бессмысленного классификатора, который всем ставит 500, будет скор 1/5 (ведь классов 5), а чтобы получить прежние 2/3, нужно будет научиться в каждом классе правильно ставить хотя бы 2/3 меток.    \n",
        "    \n",
        "    Теперь что касается регрессии. Основых метрики две - MSE и MAE. Из первой стоит извлекать корень, чтобы получать интерпретируемые человеком значения, а вторая менее агрессивна к выбросам (впрочем, выбросов тут уже нет, мы их все выкинули). Без дополнительной информации не очень понятно, какую выбирать, можно брать любую. А выбирать надо: ведь даже банальные модели \"предсказывай всегда среднее\" и \"предсказывай всегда медиану\" будут по-разному ранжироваться этими метриками.\n",
        "    \n",
        "</details>"
      ]
    },
    {
      "cell_type": "markdown",
      "metadata": {
        "id": "vs-jkCj-GH7G"
      },
      "source": [
        "**Вопрос третий**: а не взять ли нам какую-нибудь более экзотическую метрику? Например, MAPE (определение в учебнике в главе про оценку качества моделей). А как вам такое соображение: допустим, заказчик говорит, что пользователи будут расстраиваться, только если мы завысили средний чек - так давайте поправим MSE или MAE, обнуляя те слагаемые, для которых предсказанный таргет меньше истинного. Вот это хорошая метрика или нет?\n",
        "\n",
        "&nbsp;\n",
        "\n",
        "<details>\n",
        "  <summary>Когда будете готовы, кликните сюда, чтобы посмотреть ответ</summary>\n",
        "    \n",
        "    Что касается MAPE, у нас нет тех проблем, с которой она борется. Вот если бы у нас были средние чеки от 500 до миллиона, мы бы столкнулись с ситуацией, что большие ошибки для больших чеков доминировали бы в сумме для MSE и MAE (500 вместо 1000 меркнет по сравнению с 500к вместо миллиона). Говоря поэтически, мы бы оптимизировали модель для миллионеров, забыв про простых трудяг. И было бы логично перейти от парадигмы \"ошибаемся на 500 рублей\" к парадигме \"ошибаемся на 50%\". Но у нас все таргеты примерно одного порядка, MAPE нам особо ни к чему.\n",
        "    \n",
        "    Вторая метрика коварна тем, что её можно \"накрутить\" безо всякой пользы для дела. А именно, модель, которая всегда предсказывает средний чек в миллион, была бы идеальна. Но все бы расстраивались и не ходили есть. Другое дело, что можно ввести разные веса для ошибок в большую и в меньшую сторону, но опять же - пока нет показаний к тому, что это нужно.\n",
        "    \n",
        "</details>"
      ]
    },
    {
      "cell_type": "markdown",
      "metadata": {
        "id": "VCjV_SoAGH7G"
      },
      "source": [
        "## Применяем ML"
      ]
    },
    {
      "cell_type": "markdown",
      "metadata": {
        "id": "lqkvcLSPGH7G"
      },
      "source": [
        "Теперь время разбить данные на обучающую и тестовую выборку. Делается это с помощью функции ``train_test_split`` из пакета ``sklearn``. При этом очень важно сделать две вещи:\n",
        "\n",
        "* Зафиксировать ``random_state=42`` (да, именно этот, а то ваши модели могут не зайти в Контест), чтобы всё, что мы делаем, было воспроизводимо (иначе от перезапуска к перезапуску числа могут меняться, и мы не будем понимать, из-за чего это происходит).\n",
        "* Сделать стратификацию по таргету. В противном случае у нас в трейне и тесте могут оказаться разные пропорции классов (обычно особенно страдают мало представленные классы), что неутешительно скажется на результате.\n",
        "\n",
        "**Обратите внимание**, что если вы побьёте выборку на train и test по-другому, ваши результаты могут не зайти в контест."
      ]
    },
    {
      "cell_type": "code",
      "execution_count": 267,
      "metadata": {
        "id": "AF2IVpOjGH7H"
      },
      "outputs": [],
      "source": [
        "clean_data_train, clean_data_test = train_test_split(\n",
        "    clean_data, stratify=clean_data['average_bill'], test_size=0.33, random_state=42)"
      ]
    },
    {
      "cell_type": "markdown",
      "metadata": {
        "id": "S161veFJGH7H"
      },
      "source": [
        "Теперь нам нужен **бейзлайн** - очень простая модель, с которой мы в дальнейшем будем сравниваться.\n",
        "\n",
        "Поскольку мы ещё не знаем никаких умных классов моделей, все модели мы будем писать руками. А именно, мы напишем две простых модели на основе ``sklearn.baseRegressorMixin`` и ``sklearn.base.ClassifierMixin`` (посмотрите примеры в документации sklearn и сделайте так же):\n",
        "\n",
        "* Модель для задачи регрессии, которая для всех заведений предсказывает одно число — среднее значение среднего чека;\n",
        "* Модель для задачи классификации, которая для всех заведений предсказывает один класс — самый частый класс (ироничным образом он в данном случае совпадает с медианой).\n",
        "\n",
        "**Важно!** Мы будем много раз повторять вам мантру о том, что **информация из тестовой выборки не должна протекать в процесс обучения**. Так вот, и среднее, и самый частый класс вы должны считать именно на обучающей выборке!\n",
        "\n",
        "**5 и 6. Напишите эти две модели и сдайте в Контест**. В процессе проверки модели будут и обучаться, и предсказывать.\n",
        "\n",
        "Заметим, что для этих моделей нам вообще не нужны какие-то \"фичи\"; мы работаем только с таргетом.\n",
        "\n",
        "У каждой модели есть (как минимум) два метода: `fit` (обучает модель по фичам `X` и таргету `y`) `predict` (предсказывает по фичам `X`)"
      ]
    },
    {
      "cell_type": "code",
      "execution_count": 268,
      "metadata": {
        "id": "lLz_sxtUGH7H"
      },
      "outputs": [],
      "source": [
        "from scipy.stats import mode\n",
        "\n",
        "from sklearn.base import RegressorMixin\n",
        "\n",
        "class MeanRegressor(RegressorMixin):\n",
        "    # Predicts the mean of y_train\n",
        "\n",
        "    def __init__(self):\n",
        "        self._mean = None\n",
        "    def fit(self, X=None, y=None):\n",
        "        '''\n",
        "        Parameters\n",
        "        ----------\n",
        "        X : array like, shape = (n_samples, n_features)\n",
        "        Training data features\n",
        "        y : array like, shape = (_samples,)\n",
        "        Training data targets\n",
        "        '''\n",
        "        self._mean = y.mean()\n",
        "        return self\n",
        "\n",
        "    def predict(self, X=None):\n",
        "        '''\n",
        "        Parameters\n",
        "        ----------\n",
        "        X : array like, shape = (n_samples, n_features)\n",
        "        Data to predict\n",
        "        '''\n",
        "        return np.full(X.shape[0], self._mean)\n",
        "\n",
        "from sklearn.base import ClassifierMixin\n",
        "\n",
        "class MostFrequentClassifier(ClassifierMixin):\n",
        "    # Predicts the rounded (just in case) median of y_train\n",
        "    def __init__(self):\n",
        "        self._median = None\n",
        "    def fit(self, X=None, y=None):\n",
        "        '''\n",
        "        Parameters\n",
        "        ----------\n",
        "        X : array like, shape = (n_samples, n_features)\n",
        "        Training data features\n",
        "        y : array like, shape = (_samples,)\n",
        "        Training data targets\n",
        "        '''\n",
        "        self._median = np.median(y)\n",
        "        return self\n",
        "\n",
        "    def predict(self, X=None):\n",
        "        '''\n",
        "        Parameters\n",
        "        ----------\n",
        "        X : array like, shape = (n_samples, n_features)\n",
        "        Data to predict\n",
        "        '''\n",
        "        return np.full(X.shape[0], np.round(self._median))"
      ]
    },
    {
      "cell_type": "markdown",
      "metadata": {
        "id": "lo2pNhVoGH7I"
      },
      "source": [
        "Обучим наши модели"
      ]
    },
    {
      "cell_type": "code",
      "execution_count": 269,
      "metadata": {
        "id": "arXlaGnTGH7I"
      },
      "outputs": [
        {
          "data": {
            "text/plain": [
              "<__main__.MostFrequentClassifier at 0x1462aaa80>"
            ]
          },
          "execution_count": 269,
          "metadata": {},
          "output_type": "execute_result"
        }
      ],
      "source": [
        "reg = MeanRegressor()\n",
        "reg.fit(y=clean_data_train['average_bill'])\n",
        "\n",
        "clf = MostFrequentClassifier()\n",
        "clf.fit(y=clean_data_train['average_bill'])"
      ]
    },
    {
      "cell_type": "code",
      "execution_count": 270,
      "metadata": {},
      "outputs": [
        {
          "name": "stdout",
          "output_type": "stream",
          "text": [
            "RMSE_reg: 448.71, Balanced Accuracy: 0.20, RMSE_clf: 514.75\n"
          ]
        }
      ],
      "source": [
        "from sklearn.metrics import mean_squared_error, balanced_accuracy_score\n",
        "pred_reg = reg.predict(clean_data_test[['average_bill']])\n",
        "pred_clf = clf.predict(clean_data_test[['average_bill']])\n",
        "rmse_reg = np.sqrt(mean_squared_error(clean_data_test['average_bill'], pred_reg))\n",
        "rmse_clf = np.sqrt(mean_squared_error(clean_data_test['average_bill'], pred_clf))\n",
        "bal_acc = balanced_accuracy_score(clean_data_test['average_bill'], pred_clf)\n",
        "print(f\"RMSE_reg: {rmse_reg:.2f}, Balanced Accuracy: {bal_acc:.2f}, RMSE_clf: {rmse_clf:.2f}\")"
      ]
    },
    {
      "cell_type": "markdown",
      "metadata": {
        "id": "jJG8x0tmGH7I"
      },
      "source": [
        "Обучите модели и оцените их качество на тестовой выборке. В качестве метрик возьмём RMSE (``np.sqrt`` от ``sklearn.metrics.mean_squared_error``) и ``sklearn.metrics.balanced_accuracy_score``.\n",
        "\n",
        "Для регрессионной модели имеет смысл считать только RMSE (значения будут не кратны 500, точно мы угадывать не будем никогда), а вот для классификационной можно найти обе метрики. Сделайте это. Какая модель оказалась лучше по RMSE?"
      ]
    },
    {
      "cell_type": "markdown",
      "metadata": {
        "id": "kvZwp54sGH7J"
      },
      "source": [
        "<details>\n",
        "  <summary>Когда будете готовы, кликните сюда</summary>\n",
        "    \n",
        "  Казалось бы, регрессор никогда не угадывает, но он в каком-то смысле лучше классификатора - справедливо ли это? Возможно. Несуществующий пользователь модели вряд ли будет задавать вопросы \"почему средний чек не кратен 500?\" Ну, выдали около 800 - ок, понятно.\n",
        "    \n",
        "</details>"
      ]
    },
    {
      "cell_type": "markdown",
      "metadata": {
        "id": "V-1-O9GyGH7J"
      },
      "source": [
        "## Усложнение модели"
      ]
    },
    {
      "cell_type": "markdown",
      "metadata": {
        "id": "dGWgxl0VGH7J"
      },
      "source": [
        "Бейзлайны будут нашей отправной точкой. Строя дальнейшие модели, мы будем спрашивать себя: получилось ли лучше бейзлайна? Если нет или если не особо, то в чём смысл усложнения?"
      ]
    },
    {
      "cell_type": "markdown",
      "metadata": {
        "id": "9w3DkuuFGH7K"
      },
      "source": [
        "Начнём с использования фичи ``city``. Мы уже видели, что в разных городах и средние чеки разные. Легко проверить, что *медиана* средних чеков всё же одна и та же и в Москве, и в Санкт-Петербурге (ох уж этот вездесущий средний чек 500!), поэтому с классификатором мы ничего не сделаем. Но вот регрессор можно попробовать починить.\n",
        "\n",
        "**7. Напишите регрессор, для каждого заведения предсказывающий среднее значение в том же городе (на обучающей выборке, конечно) и сдайте его в Контест**. Вам может помочь то, что булевы `pandas` и `numpy` столбцы можно умножать на численные — в такой ситуации False работает, как ноль, а True как единица."
      ]
    },
    {
      "cell_type": "code",
      "execution_count": 271,
      "metadata": {
        "id": "ZULQVPe2GH7K"
      },
      "outputs": [],
      "source": [
        "from sklearn.base import RegressorMixin\n",
        "\n",
        "class CityMeanRegressor(RegressorMixin):\n",
        "    def __init__(self):\n",
        "        self.msk_mean = None\n",
        "        self.spb_mean = None\n",
        "    def fit(self, X:pd.DataFrame=None, y:pd.DataFrame=None):\n",
        "        self.msk_mean = X.groupby('city').average_bill.mean().loc['msk']\n",
        "        self.spb_mean = X.groupby('city').average_bill.mean().loc['spb']\n",
        "\n",
        "    def predict(self, X=None):\n",
        "        X.loc[X['city'] == 'spb', 'average_bill'] = self.spb_mean\n",
        "        X.loc[X['city'] == 'msk', 'average_bill'] = self.msk_mean\n",
        "        return X['average_bill'].values"
      ]
    },
    {
      "cell_type": "code",
      "execution_count": 272,
      "metadata": {},
      "outputs": [
        {
          "data": {
            "text/plain": [
              "np.float64(445.10632814032624)"
            ]
          },
          "execution_count": 272,
          "metadata": {},
          "output_type": "execute_result"
        }
      ],
      "source": [
        "mean_reg = CityMeanRegressor()\n",
        "mean_reg.fit(clean_data_train, clean_data_train['average_bill'])\n",
        "pred_mean_reg = mean_reg.predict(clean_data_test[['city', 'average_bill']])\n",
        "np.sqrt(mean_squared_error(clean_data_test['average_bill'], pred_mean_reg))"
      ]
    },
    {
      "cell_type": "markdown",
      "metadata": {
        "id": "1EeFGk24GH7K"
      },
      "source": [
        "Обучите регрессор и сравните его по метрике RMSE с бейзлайнами. Получилось ли улучшить метрику?"
      ]
    },
    {
      "cell_type": "markdown",
      "metadata": {
        "id": "jROycei1GH7L"
      },
      "source": [
        "Лучше стало, но, правда, не очень сильно. В этот момент очень важно не просто радовать руководителя приростом в третьем знаке, но и думать о том, что происходит.\n",
        "\n",
        "Средний средний чек по Москве равен 793, в Санкт-Петербурге - 676, а в целом - 752 рубля. MSE, увы, не поможет вам ответить на вопрос, стало ли лучше пользователю, если вы ему вместо 752 рублей назвали 793. Здесь вскрывается весьма существенный порок MSE в этой задаче. Дело в том, что наш изначальный таргет делит заведения на некоторые \"ценовые категории\", и различие в средних чеках 500 и 1000 в самом деле существенно. Наверное, мы хотели бы как раз правильно предсказывать ценовые категории. Но MSE не очень помогает нам об этом судить. Дальше мы ещё подумаем, как это исправить.\n",
        "\n",
        "В любом случае, несмотря на улучшение метрики, мы пока не можем судить, стало ли по жизни лучше от усложнения модели."
      ]
    },
    {
      "cell_type": "markdown",
      "metadata": {
        "id": "wEQ9eOoWGH7L"
      },
      "source": [
        "Поручинившись немного, возьмём на вооружение другую идею. Давайте использовать типы заведений!\n",
        "\n",
        "Но с типами есть некоторая проблема: в столбце ``rubrics_id`` не всегда один идентификатор, часто их несколько, и всего комбинаций довольно много. Чтобы не возиться с малочисленными типами, давайте сольём их в один безликий ``other``.\n",
        "\n",
        "Итак, добавьте в обучающие и тестовые данные столбец ``modified_rubrics``, в котором будет то же, что и в ``rubrics_id``, если соответствующая комбинация рубрик содержит хотя бы 100 заведений из обучающей (!) выборки, и строка ``other`` в противном случае.\n",
        "\n",
        "Здесь вам поможет контейнер ``Counter`` из библиотеки ``collections``."
      ]
    },
    {
      "cell_type": "code",
      "execution_count": 273,
      "metadata": {
        "id": "uTVW5KkwGH7L"
      },
      "outputs": [
        {
          "name": "stderr",
          "output_type": "stream",
          "text": [
            "/var/folders/kg/d5rbc3413tb542__t6bc7bn40000gn/T/ipykernel_25764/2635444181.py:8: SettingWithCopyWarning: \n",
            "A value is trying to be set on a copy of a slice from a DataFrame.\n",
            "Try using .loc[row_indexer,col_indexer] = value instead\n",
            "\n",
            "See the caveats in the documentation: https://pandas.pydata.org/pandas-docs/stable/user_guide/indexing.html#returning-a-view-versus-a-copy\n",
            "  clean_data.loc[:,'modified_rubrics'] = clean_data['rubrics_id'].apply(map_rubric)\n"
          ]
        }
      ],
      "source": [
        "from collections import Counter\n",
        "rubric_counts = clean_data['rubrics_id'].value_counts()\n",
        "valid_rubrics = rubric_counts[rubric_counts >= 100].index\n",
        "\n",
        "def map_rubric(rubric):\n",
        "    return rubric if rubric in valid_rubrics else 'other'\n",
        "\n",
        "clean_data.loc[:,'modified_rubrics'] = clean_data['rubrics_id'].apply(map_rubric)\n",
        "\n",
        "clean_data_train, clean_data_test = train_test_split(\n",
        "    clean_data, stratify=clean_data['average_bill'], test_size=0.33, random_state=42)\n",
        "\n"
      ]
    },
    {
      "cell_type": "markdown",
      "metadata": {
        "id": "nZXhpBjnGH7L"
      },
      "source": [
        "Теперь настало время написать могучий классификатор, который по заведению предсказывает медиану средних чеков среди тех в обучающей выборке, у которых с ним одинаковые `modified_rubrics` и город (вы спросите, почему медиану, а не самый частый -- спишем это на вдохновение; самый частый тоже можно брать - но медиана работает лучше).\n",
        "\n",
        "**8. Напишите классификатор и сдайте в Контест**."
      ]
    },
    {
      "cell_type": "code",
      "execution_count": 274,
      "metadata": {
        "id": "eTfcwh5dGH7M"
      },
      "outputs": [],
      "source": [
        "from sklearn.base import RegressorMixin\n",
        "\n",
        "class MostFrequentRubricRegressor(RegressorMixin):\n",
        "    def __init__(self):\n",
        "        self.medians = None\n",
        "\n",
        "    def fit(self, X=None, y=None):\n",
        "        self.medians = X.groupby(['city', 'modified_rubrics']).average_bill.median().to_dict()\n",
        "        return self\n",
        "    def predict(self, X=None):\n",
        "        X.loc[:,'average_bill'] = X.apply(\n",
        "            lambda row: self.medians.get((row['city'], row['modified_rubrics']), np.nan), axis=1)\n",
        "        return X['average_bill'].values"
      ]
    },
    {
      "cell_type": "code",
      "execution_count": 275,
      "metadata": {},
      "outputs": [
        {
          "name": "stdout",
          "output_type": "stream",
          "text": [
            "RMSE_my_reg: 391.84\n",
            "Balanced Accuracy: 0.31\n",
            "500.0: 6589 1000.0: 721 1500.0: 217 \n",
            "\n",
            "500.0: 1223 1000.0: 1248 1500.0: 607 "
          ]
        },
        {
          "name": "stderr",
          "output_type": "stream",
          "text": [
            "/var/folders/kg/d5rbc3413tb542__t6bc7bn40000gn/T/ipykernel_25764/3160338782.py:11: SettingWithCopyWarning: \n",
            "A value is trying to be set on a copy of a slice from a DataFrame.\n",
            "Try using .loc[row_indexer,col_indexer] = value instead\n",
            "\n",
            "See the caveats in the documentation: https://pandas.pydata.org/pandas-docs/stable/user_guide/indexing.html#returning-a-view-versus-a-copy\n",
            "  X.loc[:,'average_bill'] = X.apply(\n"
          ]
        }
      ],
      "source": [
        "my_reg = MostFrequentRubricRegressor()\n",
        "my_reg.fit(clean_data_train, clean_data_train['average_bill'])\n",
        "pred_my_reg = my_reg.predict(clean_data_test[['city', 'modified_rubrics']])\n",
        "\n",
        "rmse_my_reg = np.sqrt(mean_squared_error(clean_data_test['average_bill'], pred_my_reg))\n",
        "print(f\"RMSE_my_reg: {rmse_my_reg:.2f}\")\n",
        "bal_acc = balanced_accuracy_score(clean_data_test['average_bill'], pred_my_reg)\n",
        "print(f\"Balanced Accuracy: {bal_acc:.2f}\")\n",
        "\n",
        "mask = (pred_my_reg == clean_data_test['average_bill'])\n",
        "correct_predictions = pred_my_reg[mask]\n",
        "incorrect_predictions = pred_my_reg[~mask]\n",
        "\n",
        "for i in np.unique(correct_predictions):\n",
        "    print(f\"{i}: {np.count_nonzero(correct_predictions == i)}\", end=' ')\n",
        "\n",
        "print(\"\\n\")\n",
        "\n",
        "for i in np.unique(correct_predictions):\n",
        "    print(f\"{i}: {np.count_nonzero(incorrect_predictions == i)}\", end=' ')\n"
      ]
    },
    {
      "cell_type": "markdown",
      "metadata": {
        "id": "xbgjbwgkGH7M"
      },
      "source": [
        "Сравните обученный классификатор по метрикам RMSE и balanced_accuracy_score с нашими бейзлайнами. Получилось ли улучшить?"
      ]
    },
    {
      "cell_type": "markdown",
      "metadata": {
        "id": "UMjsnCnQGH7M"
      },
      "source": [
        "Обратите внимание что рост accuracy по сравнению с бейзлайном при этом на порядок меньше:"
      ]
    },
    {
      "cell_type": "markdown",
      "metadata": {
        "id": "K2cF0I-CGH7M"
      },
      "source": [
        "accuracy_score\n",
        "\n",
        "Predict most frequent:  0.6947666195190948\n",
        "\n",
        "Predict by rubric and city:  0.7095709570957096"
      ]
    },
    {
      "cell_type": "markdown",
      "metadata": {
        "id": "ylrAIjCcGH7N"
      },
      "source": [
        "Для диагностики напечатайте для каждого класса тестовой выборки, сколько в нём объектов и скольким из них наш классификатор приписал правильный класс. Что вы видите?\n",
        "\n",
        "&nbsp;\n",
        "\n",
        "<details>\n",
        "  <summary>Когда будете готовы, кликните сюда, чтобы посмотреть ответ</summary>\n",
        "    \n",
        "  Вы, вероятно, видите то, что мы стали однозначно лучше по сравнению с бейзлайном детектировать средний чек 1000 и 1500 (хотя всё равно не очень хорошо + ценой ухудшения качества на среднем чеке 500), а вот чеки 2000 и 2500 нам ну никак не даются.\n",
        "    \n",
        "</details>"
      ]
    },
    {
      "cell_type": "markdown",
      "metadata": {
        "id": "9ScOy7ZvGH7N"
      },
      "source": [
        "**Кстати**. А вы понимаете, почему приведённый выше пайплайн классификации был не очень удачным с точки зрения архитектуры? Почему его было бы правильнее воплотить по-другому?\n",
        "\n",
        "&nbsp;\n",
        "\n",
        "<details>\n",
        "  <summary>Когда будете готовы, кликните сюда, чтобы посмотреть ответ</summary>\n",
        "Собственно говоря, и не было никакого пайплайна. К счастью, у нас была одна обучающая выборка, мы на ней посчитали список рубрик для modified_rubrics и радовались жизни. Но если бы нам надо было переобучать всё на новых данных, пришлось бы помнить, что их надо везде пересчитать (ведь у нас могли появиться новые рубрики с хотя бы 100 представителями). А уж никакую кросс-валидацию (кто знает - тот поймёт) с нашим подходом к делу и вовсе бы не получилось сделать без боли.\n",
        "    \n",
        "Поэтому в следующей лабораторной вы научитесь делать честные пайплайны, в которых преобразование данных, генерация фичей и обучение классификатора будут объединены в один понятный процесс, происходящий на этапе fit.\n",
        "</details>"
      ]
    },
    {
      "cell_type": "markdown",
      "metadata": {
        "id": "4ujl3tbbGH7N"
      },
      "source": [
        "## Слишком простые и слишком сложные модели"
      ]
    },
    {
      "cell_type": "markdown",
      "metadata": {
        "id": "QF7McCHsGH7N"
      },
      "source": [
        "Бейзлайны у нас слишком просты и потому не очень полезны в жизни. Но если сложность модели растёт бесконтрольно, то тоже получается плохо.\n",
        "\n",
        "Давайте рассмотрим конкретный пример. Создадим классификатор, использующий одновременно `rubrics_id` и `features_id`.\n",
        "\n",
        "Сделайте следующее:\n",
        "\n",
        "- для каждого объекта обучающей выборки сконкатенируйте строку `rubrics_id` с разделителем (например, буквой 'q') и содержимым `features_id`. Полученный столбец озаглавьте `modified_features`. Это не самый клёвый способ заиспользовать все фичи, но сейчас пока сойдёт. Причём на сей раз не будем выкидывать мало представленные значения (вся информация важна, не так ли?).\n",
        "- при этом для тестовой выборке заменяйте на строку `other` все конкатенации, которые не встретились в обучающей выборке.\n",
        "\n",
        "То есть элементы в этом столбце будут иметь вид `other` или `30776 30774 q 3502045032 11741 3502045016 1046...`."
      ]
    },
    {
      "cell_type": "markdown",
      "metadata": {
        "id": "e8tNBPzVGH7O"
      },
      "source": [
        "Теперь обучите классификатор, который для заведения предсказывает медиану среднего чека по всем объектам тестовой выборки с таким же, как у него, значением `modified_features`, а если такого в обучающей выборке нет, то глобальную медиану среднего чека по всей обучающей выборке.\n",
        "\n",
        "**9. Загрузите в Контест предсказания этого классификатора на тестовой выборке**\n",
        "\n",
        "Мы ждём файла **.csv**, у которого в каждой строке будет только одно число - предсказание классификатора.\n",
        "\n",
        "Возможно, вам будет полезна библиотека ``tqdm``, позволяющая отслеживать в реальном времени, сколько времени уже крутится цикл и сколько итераций ещё осталось. Впрочем, если вы всё написали нормально, то должно работать не очень долго."
      ]
    },
    {
      "cell_type": "markdown",
      "metadata": {
        "id": "_XrswPW4GH7O"
      },
      "source": [
        "Модель, очевидно, очень сложная. Число параметров (различных категорий) в ней сопоставимо с числом объектов в обучающей выборке. А получилось ли хорошо?\n",
        "\n",
        "Давайте посчитаем RMSE и balanced_accuracy_score на обучающей и на тестовой выборках.\n",
        "\n",
        "**10. Введите их в Контест**"
      ]
    },
    {
      "cell_type": "markdown",
      "metadata": {
        "id": "fGDTpxFgGH7O"
      },
      "source": [
        "Налицо переобучение: на трейне метрики отличные, на тесте - вообще никакие\n",
        "\n",
        "В общем, не гонитесь за чрезмерной сложностью модели.."
      ]
    },
    {
      "cell_type": "markdown",
      "metadata": {
        "id": "YTU2yubYGH7O"
      },
      "source": [
        "## ML без данных что компутер без электричества"
      ]
    },
    {
      "cell_type": "markdown",
      "metadata": {
        "id": "DBVOCVf2GH7P"
      },
      "source": [
        "Возможно, вы смотрите на полученные выше результаты и думаете: вот если бы мы не какие-то убогие медианы предсказывали, а гоняли бы нейросети, то тут-то бы всё и получилось!\n",
        "\n",
        "Но, увы, совсем даже не всегда от счастья нас отделяет выбор хорошей модели (и стратегии обучения). Если данные не очень, то даже самая крутая модель не сработает. В этой ситуации нужно либо добывать новые фичи каким-то образом, либо собирать новые данные (увеличивать датасет), либо просто бросать задачу.\n",
        "\n",
        "Давайте посмотрим, что выжмет из наших данных одна из самых мощных моделей для табличных данных - градиентный бустинг на решающих деревьях в исполнении [CatBoost](https://catboost.ai/)."
      ]
    },
    {
      "cell_type": "markdown",
      "metadata": {
        "id": "a0L4UmzSGH7P"
      },
      "source": [
        "Но прежде, чем сделать fit, нам надо облагородить данные. Несмотря на то, что CatBoost отлично работает с категориальными фичами, мешок признаков из `rubrics_id` или `features_id` может ему оказаться не по зубам. Поэтому мы соберём датасет в пристойную матрицу, создав для каждого типа рубрик и фичей отдельный столбец и записав там единицы для тех объектов, у которых эта рубрика или фича имеет место.\n",
        "\n",
        "В матрице почти все элементы будут нулями. Такие матрицы считаются **разреженными** и их можно хранить гораздо эффективней, чем просто таблицей. Этим и займёмся)"
      ]
    },
    {
      "cell_type": "markdown",
      "metadata": {
        "id": "IJKuMtNbGH7P"
      },
      "source": [
        "Есть несколько форматов хранения разреженных матриц (многие из них реализованы в [пакете sparse библиотеки scipy](https://docs.scipy.org/doc/scipy/reference/sparse.html)), и каждый пригоден для чего-то своего.\n",
        "\n",
        "Создавать разреженную матрицу лучше в [формате COO](https://docs.scipy.org/doc/scipy/reference/generated/scipy.sparse.coo_array.html#scipy.sparse.coo_array). Он предполагает, что разреженная матрица задаётся в виде трёх списков: `row`, `col`, `data`, причём каждая тройка `(row[i], col[i], data[i])` кодирует элемент со значением `data[i]`, стоящий на позиции `(row[i], col[i])`. Считается, что на позициях `(row, col)`, которые ни разу не встретились, стоят нули.\n",
        "\n",
        "Нетрудно видеть, что заполнять такую матрицу - одно удовольствие, и особенно этому помогает тот факт, что **пара `(row, col)` может встретиться несколько раз** (тогда в итоговой матрице на соответствующей позиции стоит сумма соответствующих `data[i]`). Но, с другой стороны, почти ничего другого с такой матрицей не сделаешь: произвольного доступа к элементам она не предоставляет, умножить её тоже особо ничего не умножишь. Поэтому для дальнейшего использования созданную таким образом матрицу преобразуют в один из более удобных форматов, например, [CSR (compressed sparse row)](https://scipy-lectures.org/advanced/scipy_sparse/csr_matrix.html). Он, к примеру, хорошо подходит для умножения на вектор (потому что матрица хранится по строкам). Не будем разбирать его подробно, но можете почитать по ссылке, если интересно."
      ]
    },
    {
      "cell_type": "markdown",
      "metadata": {
        "id": "2hd_Sob3GH7P"
      },
      "source": [
        "Вам нужно будет превратить обучающие и тестовые данные в разреженные матрицы `sparse_data_train` и `sparse_data_test` соответственно, таким образом, что:\n",
        "\n",
        "- столбец `city` превратится в столбец из единиц и нулей (например, 1 - Москва, 0 - Питер);\n",
        "- столбец `rating` перекочует в разреженные матрицы без изменений;\n",
        "- каждый типы рубрик и каждая фича превратятся в отдельный 0-1-принак;\n",
        "\n",
        "В тестовой выборке будут фичи, которых в обучающей выборке не было. С ними можно по-разному работать, но давайте создадим дополнительную фантомную фичу `feature_other`, в которой будет то, сколько неизвестных по обучающей выборке фичей есть у данного объекта."
      ]
    },
    {
      "cell_type": "code",
      "execution_count": 276,
      "metadata": {
        "id": "7-UAatGJGH7P"
      },
      "outputs": [],
      "source": [
        "sparse_data_train : pd.DataFrame = clean_data_train.copy()\n",
        "sparse_data_train.reset_index(drop=True, inplace=True)\n",
        "\n",
        "features_encoded = sparse_data_train['features_id'].str.get_dummies(sep=' ')\n",
        "unique_features = features_encoded.columns\n",
        "sparse_data_train = pd.concat([sparse_data_train, features_encoded], axis=1)\n",
        "\n",
        "rubrics_encoded = sparse_data_train['rubrics_id'].str.get_dummies(sep=' ')\n",
        "sparse_data_train = pd.concat([sparse_data_train, rubrics_encoded], axis=1)\n",
        "\n",
        "sparse_data_train['city'] = sparse_data_train['city'].apply(lambda x: 0 if x == 'msk' else 1 if x == 'spb' else x)\n",
        "\n",
        "sparse_data_train.loc[:, 'feature_other'] = 0\n"
      ]
    },
    {
      "cell_type": "code",
      "execution_count": 277,
      "metadata": {},
      "outputs": [],
      "source": [
        "sparse_data_test : pd.DataFrame = clean_data_test.copy()\n",
        "sparse_data_test['city'] = sparse_data_test['city'].apply(lambda x: 0 if x == 'msk' else 1 if x == 'spb' else x)\n",
        "sparse_data_test.reset_index(drop=True, inplace=True)\n",
        "\n",
        "features_encoded = sparse_data_test['features_id'].str.get_dummies(sep=' ')\n",
        "sparse_data_test = pd.concat([sparse_data_test, features_encoded], axis= 1)\n",
        "\n",
        "rubrics_encoded = sparse_data_test['rubrics_id'].str.get_dummies(sep=' ')\n",
        "sparse_data_test = pd.concat([sparse_data_test, rubrics_encoded], axis= 1)\n",
        "\n",
        "sparse_data_test['features_id'] = sparse_data_test['features_id'].str.split(' ')\n",
        "\n",
        "unique_features = set(unique_features)\n",
        "def count_unknown_features(feature_list):\n",
        "    return sum(1 for f in feature_list if f not in unique_features)\n",
        "\n",
        "sparse_data_test['feature_other'] = sparse_data_test['features_id'].apply(count_unknown_features)\n",
        "sparse_data_test.drop(columns=['features_id', 'rubrics_id', 'modified_rubrics', 'org_id'], inplace=True)\n",
        "sparse_data_train.drop(columns=['features_id', 'rubrics_id', 'modified_rubrics', 'org_id'], inplace=True)\n"
      ]
    },
    {
      "cell_type": "code",
      "execution_count": 287,
      "metadata": {},
      "outputs": [
        {
          "data": {
            "text/plain": [
              "((10605, 606), (21531, 606))"
            ]
          },
          "execution_count": 287,
          "metadata": {},
          "output_type": "execute_result"
        }
      ],
      "source": [
        "sparse_data_test = sparse_data_test.reindex(columns=sparse_data_train.columns)\n",
        "sparse_data_test = sparse_data_test.fillna(0)\n",
        "\n",
        "sparse_data_test.shape, sparse_data_train.shape"
      ]
    },
    {
      "cell_type": "markdown",
      "metadata": {
        "id": "lFfj-1E4GH7Q"
      },
      "source": [
        "Данные готовы, и теперь можно запустить катбуст"
      ]
    },
    {
      "cell_type": "code",
      "execution_count": 288,
      "metadata": {
        "id": "m2lP5NouGH7Q"
      },
      "outputs": [],
      "source": [
        "from catboost import CatBoostClassifier"
      ]
    },
    {
      "cell_type": "code",
      "execution_count": 289,
      "metadata": {
        "id": "jpW6uR0oGH7Q"
      },
      "outputs": [
        {
          "name": "stdout",
          "output_type": "stream",
          "text": [
            "Learning rate set to 0.092536\n",
            "0:\tlearn: 1.2592622\ttotal: 50.9ms\tremaining: 50.9s\n",
            "1:\tlearn: 1.0425367\ttotal: 225ms\tremaining: 1m 52s\n",
            "2:\tlearn: 0.8856635\ttotal: 317ms\tremaining: 1m 45s\n",
            "3:\tlearn: 0.7601849\ttotal: 366ms\tremaining: 1m 31s\n",
            "4:\tlearn: 0.6601409\ttotal: 407ms\tremaining: 1m 20s\n",
            "5:\tlearn: 0.5777936\ttotal: 460ms\tremaining: 1m 16s\n",
            "6:\tlearn: 0.5088852\ttotal: 500ms\tremaining: 1m 10s\n",
            "7:\tlearn: 0.4520989\ttotal: 543ms\tremaining: 1m 7s\n",
            "8:\tlearn: 0.4017313\ttotal: 586ms\tremaining: 1m 4s\n",
            "9:\tlearn: 0.3581720\ttotal: 641ms\tremaining: 1m 3s\n",
            "10:\tlearn: 0.3202792\ttotal: 702ms\tremaining: 1m 3s\n",
            "11:\tlearn: 0.2870379\ttotal: 757ms\tremaining: 1m 2s\n",
            "12:\tlearn: 0.2578305\ttotal: 803ms\tremaining: 1m\n",
            "13:\tlearn: 0.2319516\ttotal: 841ms\tremaining: 59.2s\n",
            "14:\tlearn: 0.2089632\ttotal: 884ms\tremaining: 58.1s\n",
            "15:\tlearn: 0.1885016\ttotal: 938ms\tremaining: 57.7s\n",
            "16:\tlearn: 0.1702579\ttotal: 984ms\tremaining: 56.9s\n",
            "17:\tlearn: 0.1539335\ttotal: 1.02s\tremaining: 55.7s\n",
            "18:\tlearn: 0.1392944\ttotal: 1.06s\tremaining: 54.6s\n",
            "19:\tlearn: 0.1261486\ttotal: 1.1s\tremaining: 53.8s\n",
            "20:\tlearn: 0.1143838\ttotal: 1.14s\tremaining: 53s\n",
            "21:\tlearn: 0.1037632\ttotal: 1.19s\tremaining: 52.9s\n",
            "22:\tlearn: 0.0941693\ttotal: 1.23s\tremaining: 52.2s\n",
            "23:\tlearn: 0.0855078\ttotal: 1.27s\tremaining: 51.6s\n",
            "24:\tlearn: 0.0776842\ttotal: 1.31s\tremaining: 51s\n",
            "25:\tlearn: 0.0706121\ttotal: 1.35s\tremaining: 50.7s\n",
            "26:\tlearn: 0.0642089\ttotal: 1.39s\tremaining: 50.2s\n",
            "27:\tlearn: 0.0584299\ttotal: 1.45s\tremaining: 50.2s\n",
            "28:\tlearn: 0.0531852\ttotal: 1.49s\tremaining: 49.8s\n",
            "29:\tlearn: 0.0484349\ttotal: 1.53s\tremaining: 49.5s\n",
            "30:\tlearn: 0.0440999\ttotal: 1.57s\tremaining: 49.2s\n",
            "31:\tlearn: 0.0401648\ttotal: 1.64s\tremaining: 49.5s\n",
            "32:\tlearn: 0.0365940\ttotal: 1.68s\tremaining: 49.3s\n",
            "33:\tlearn: 0.0333509\ttotal: 1.75s\tremaining: 49.8s\n",
            "34:\tlearn: 0.0304060\ttotal: 1.91s\tremaining: 52.7s\n",
            "35:\tlearn: 0.0277292\ttotal: 2.03s\tremaining: 54.4s\n",
            "36:\tlearn: 0.0252957\ttotal: 2.09s\tremaining: 54.3s\n",
            "37:\tlearn: 0.0231117\ttotal: 2.16s\tremaining: 54.6s\n",
            "38:\tlearn: 0.0210914\ttotal: 2.28s\tremaining: 56.3s\n",
            "39:\tlearn: 0.0192937\ttotal: 2.44s\tremaining: 58.6s\n",
            "40:\tlearn: 0.0176204\ttotal: 2.54s\tremaining: 59.4s\n",
            "41:\tlearn: 0.0160980\ttotal: 2.61s\tremaining: 59.5s\n",
            "42:\tlearn: 0.0147237\ttotal: 2.71s\tremaining: 1m\n",
            "43:\tlearn: 0.0134573\ttotal: 2.76s\tremaining: 60s\n",
            "44:\tlearn: 0.0123357\ttotal: 2.83s\tremaining: 60s\n",
            "45:\tlearn: 0.0112866\ttotal: 2.88s\tremaining: 59.8s\n",
            "46:\tlearn: 0.0103261\ttotal: 2.95s\tremaining: 59.8s\n",
            "47:\tlearn: 0.0094523\ttotal: 3s\tremaining: 59.4s\n",
            "48:\tlearn: 0.0086546\ttotal: 3.06s\tremaining: 59.3s\n",
            "49:\tlearn: 0.0079284\ttotal: 3.14s\tremaining: 59.6s\n",
            "50:\tlearn: 0.0072674\ttotal: 3.2s\tremaining: 59.5s\n",
            "51:\tlearn: 0.0066756\ttotal: 3.24s\tremaining: 59.1s\n",
            "52:\tlearn: 0.0061257\ttotal: 3.27s\tremaining: 58.5s\n",
            "53:\tlearn: 0.0056240\ttotal: 3.32s\tremaining: 58.1s\n",
            "54:\tlearn: 0.0051643\ttotal: 3.35s\tremaining: 57.6s\n",
            "55:\tlearn: 0.0047466\ttotal: 3.39s\tremaining: 57.2s\n",
            "56:\tlearn: 0.0043657\ttotal: 3.48s\tremaining: 57.5s\n",
            "57:\tlearn: 0.0040181\ttotal: 3.52s\tremaining: 57.1s\n",
            "58:\tlearn: 0.0037006\ttotal: 3.56s\tremaining: 56.7s\n",
            "59:\tlearn: 0.0034342\ttotal: 3.6s\tremaining: 56.4s\n",
            "60:\tlearn: 0.0031682\ttotal: 3.64s\tremaining: 56.1s\n",
            "61:\tlearn: 0.0029249\ttotal: 3.69s\tremaining: 55.8s\n",
            "62:\tlearn: 0.0027179\ttotal: 3.74s\tremaining: 55.6s\n",
            "63:\tlearn: 0.0025133\ttotal: 3.78s\tremaining: 55.3s\n",
            "64:\tlearn: 0.0023264\ttotal: 3.85s\tremaining: 55.3s\n",
            "65:\tlearn: 0.0021601\ttotal: 3.92s\tremaining: 55.5s\n",
            "66:\tlearn: 0.0020038\ttotal: 3.96s\tremaining: 55.2s\n",
            "67:\tlearn: 0.0018604\ttotal: 4.04s\tremaining: 55.3s\n",
            "68:\tlearn: 0.0017307\ttotal: 4.11s\tremaining: 55.4s\n",
            "69:\tlearn: 0.0016105\ttotal: 4.22s\tremaining: 56s\n",
            "70:\tlearn: 0.0015003\ttotal: 4.29s\tremaining: 56.1s\n",
            "71:\tlearn: 0.0013993\ttotal: 4.37s\tremaining: 56.3s\n",
            "72:\tlearn: 0.0013180\ttotal: 4.44s\tremaining: 56.4s\n",
            "73:\tlearn: 0.0012322\ttotal: 4.5s\tremaining: 56.3s\n",
            "74:\tlearn: 0.0011597\ttotal: 4.56s\tremaining: 56.2s\n",
            "75:\tlearn: 0.0010865\ttotal: 4.61s\tremaining: 56s\n",
            "76:\tlearn: 0.0010196\ttotal: 4.65s\tremaining: 55.7s\n",
            "77:\tlearn: 0.0009578\ttotal: 4.7s\tremaining: 55.5s\n",
            "78:\tlearn: 0.0009011\ttotal: 4.74s\tremaining: 55.2s\n",
            "79:\tlearn: 0.0008490\ttotal: 4.77s\tremaining: 54.9s\n",
            "80:\tlearn: 0.0008009\ttotal: 4.81s\tremaining: 54.6s\n",
            "81:\tlearn: 0.0007566\ttotal: 4.86s\tremaining: 54.4s\n",
            "82:\tlearn: 0.0007157\ttotal: 4.91s\tremaining: 54.2s\n",
            "83:\tlearn: 0.0006778\ttotal: 4.94s\tremaining: 53.9s\n",
            "84:\tlearn: 0.0006429\ttotal: 4.98s\tremaining: 53.6s\n",
            "85:\tlearn: 0.0006106\ttotal: 5.02s\tremaining: 53.3s\n",
            "86:\tlearn: 0.0005806\ttotal: 5.05s\tremaining: 53s\n",
            "87:\tlearn: 0.0005677\ttotal: 5.08s\tremaining: 52.7s\n",
            "88:\tlearn: 0.0005409\ttotal: 5.12s\tremaining: 52.5s\n",
            "89:\tlearn: 0.0005167\ttotal: 5.17s\tremaining: 52.2s\n",
            "90:\tlearn: 0.0004945\ttotal: 5.21s\tremaining: 52s\n",
            "91:\tlearn: 0.0004767\ttotal: 5.23s\tremaining: 51.6s\n",
            "92:\tlearn: 0.0004681\ttotal: 5.26s\tremaining: 51.3s\n",
            "93:\tlearn: 0.0004517\ttotal: 5.29s\tremaining: 51s\n",
            "94:\tlearn: 0.0004442\ttotal: 5.32s\tremaining: 50.7s\n",
            "95:\tlearn: 0.0004374\ttotal: 5.34s\tremaining: 50.3s\n",
            "96:\tlearn: 0.0004343\ttotal: 5.37s\tremaining: 50s\n",
            "97:\tlearn: 0.0004242\ttotal: 5.4s\tremaining: 49.7s\n",
            "98:\tlearn: 0.0004217\ttotal: 5.42s\tremaining: 49.4s\n",
            "99:\tlearn: 0.0004195\ttotal: 5.47s\tremaining: 49.2s\n",
            "100:\tlearn: 0.0004031\ttotal: 5.55s\tremaining: 49.4s\n",
            "101:\tlearn: 0.0003892\ttotal: 5.64s\tremaining: 49.6s\n",
            "102:\tlearn: 0.0003812\ttotal: 5.67s\tremaining: 49.4s\n",
            "103:\tlearn: 0.0003736\ttotal: 5.71s\tremaining: 49.2s\n",
            "104:\tlearn: 0.0003600\ttotal: 5.76s\tremaining: 49.1s\n",
            "105:\tlearn: 0.0003563\ttotal: 5.79s\tremaining: 48.8s\n",
            "106:\tlearn: 0.0003552\ttotal: 5.83s\tremaining: 48.6s\n",
            "107:\tlearn: 0.0003542\ttotal: 5.85s\tremaining: 48.3s\n",
            "108:\tlearn: 0.0003480\ttotal: 5.88s\tremaining: 48.1s\n",
            "109:\tlearn: 0.0003472\ttotal: 5.91s\tremaining: 47.8s\n",
            "110:\tlearn: 0.0003465\ttotal: 5.93s\tremaining: 47.5s\n",
            "111:\tlearn: 0.0003373\ttotal: 5.98s\tremaining: 47.4s\n",
            "112:\tlearn: 0.0003320\ttotal: 6.03s\tremaining: 47.3s\n",
            "113:\tlearn: 0.0003269\ttotal: 6.05s\tremaining: 47.1s\n",
            "114:\tlearn: 0.0003245\ttotal: 6.07s\tremaining: 46.7s\n",
            "115:\tlearn: 0.0003240\ttotal: 6.11s\tremaining: 46.5s\n",
            "116:\tlearn: 0.0003236\ttotal: 6.14s\tremaining: 46.4s\n",
            "117:\tlearn: 0.0003156\ttotal: 6.18s\tremaining: 46.2s\n",
            "118:\tlearn: 0.0003152\ttotal: 6.24s\tremaining: 46.2s\n",
            "119:\tlearn: 0.0003051\ttotal: 6.28s\tremaining: 46.1s\n",
            "120:\tlearn: 0.0003048\ttotal: 6.33s\tremaining: 46s\n",
            "121:\tlearn: 0.0002976\ttotal: 6.36s\tremaining: 45.8s\n",
            "122:\tlearn: 0.0002884\ttotal: 6.4s\tremaining: 45.7s\n",
            "123:\tlearn: 0.0002881\ttotal: 6.44s\tremaining: 45.5s\n",
            "124:\tlearn: 0.0002880\ttotal: 6.48s\tremaining: 45.4s\n",
            "125:\tlearn: 0.0002878\ttotal: 6.52s\tremaining: 45.2s\n",
            "126:\tlearn: 0.0002791\ttotal: 6.56s\tremaining: 45.1s\n",
            "127:\tlearn: 0.0002730\ttotal: 6.59s\tremaining: 44.9s\n",
            "128:\tlearn: 0.0002728\ttotal: 6.62s\tremaining: 44.7s\n",
            "129:\tlearn: 0.0002727\ttotal: 6.66s\tremaining: 44.6s\n",
            "130:\tlearn: 0.0002726\ttotal: 6.69s\tremaining: 44.4s\n",
            "131:\tlearn: 0.0002646\ttotal: 6.73s\tremaining: 44.3s\n",
            "132:\tlearn: 0.0002645\ttotal: 6.77s\tremaining: 44.1s\n",
            "133:\tlearn: 0.0002570\ttotal: 6.81s\tremaining: 44s\n",
            "134:\tlearn: 0.0002498\ttotal: 6.85s\tremaining: 43.9s\n",
            "135:\tlearn: 0.0002498\ttotal: 6.88s\tremaining: 43.7s\n",
            "136:\tlearn: 0.0002497\ttotal: 6.91s\tremaining: 43.5s\n",
            "137:\tlearn: 0.0002496\ttotal: 6.95s\tremaining: 43.4s\n",
            "138:\tlearn: 0.0002483\ttotal: 6.99s\tremaining: 43.3s\n",
            "139:\tlearn: 0.0002482\ttotal: 7.06s\tremaining: 43.4s\n",
            "140:\tlearn: 0.0002433\ttotal: 7.1s\tremaining: 43.2s\n",
            "141:\tlearn: 0.0002388\ttotal: 7.17s\tremaining: 43.3s\n",
            "142:\tlearn: 0.0002387\ttotal: 7.21s\tremaining: 43.2s\n",
            "143:\tlearn: 0.0002386\ttotal: 7.25s\tremaining: 43.1s\n",
            "144:\tlearn: 0.0002361\ttotal: 7.29s\tremaining: 43s\n",
            "145:\tlearn: 0.0002360\ttotal: 7.33s\tremaining: 42.9s\n",
            "146:\tlearn: 0.0002360\ttotal: 7.35s\tremaining: 42.7s\n",
            "147:\tlearn: 0.0002347\ttotal: 7.37s\tremaining: 42.4s\n",
            "148:\tlearn: 0.0002305\ttotal: 7.41s\tremaining: 42.3s\n",
            "149:\tlearn: 0.0002295\ttotal: 7.45s\tremaining: 42.2s\n",
            "150:\tlearn: 0.0002271\ttotal: 7.47s\tremaining: 42s\n",
            "151:\tlearn: 0.0002271\ttotal: 7.51s\tremaining: 41.9s\n",
            "152:\tlearn: 0.0002248\ttotal: 7.54s\tremaining: 41.7s\n",
            "153:\tlearn: 0.0002209\ttotal: 7.56s\tremaining: 41.5s\n",
            "154:\tlearn: 0.0002209\ttotal: 7.62s\tremaining: 41.5s\n",
            "155:\tlearn: 0.0002209\ttotal: 7.66s\tremaining: 41.4s\n",
            "156:\tlearn: 0.0002208\ttotal: 7.72s\tremaining: 41.4s\n",
            "157:\tlearn: 0.0002208\ttotal: 7.77s\tremaining: 41.4s\n",
            "158:\tlearn: 0.0002207\ttotal: 7.84s\tremaining: 41.5s\n",
            "159:\tlearn: 0.0002207\ttotal: 7.89s\tremaining: 41.4s\n",
            "160:\tlearn: 0.0002207\ttotal: 7.93s\tremaining: 41.3s\n",
            "161:\tlearn: 0.0002206\ttotal: 7.95s\tremaining: 41.1s\n",
            "162:\tlearn: 0.0002206\ttotal: 8s\tremaining: 41.1s\n",
            "163:\tlearn: 0.0002206\ttotal: 8.03s\tremaining: 40.9s\n",
            "164:\tlearn: 0.0002206\ttotal: 8.06s\tremaining: 40.8s\n",
            "165:\tlearn: 0.0002205\ttotal: 8.09s\tremaining: 40.6s\n",
            "166:\tlearn: 0.0002205\ttotal: 8.12s\tremaining: 40.5s\n",
            "167:\tlearn: 0.0002205\ttotal: 8.16s\tremaining: 40.4s\n",
            "168:\tlearn: 0.0002204\ttotal: 8.18s\tremaining: 40.2s\n",
            "169:\tlearn: 0.0002204\ttotal: 8.22s\tremaining: 40.1s\n",
            "170:\tlearn: 0.0002204\ttotal: 8.24s\tremaining: 40s\n",
            "171:\tlearn: 0.0002204\ttotal: 8.28s\tremaining: 39.9s\n",
            "172:\tlearn: 0.0002203\ttotal: 8.31s\tremaining: 39.7s\n",
            "173:\tlearn: 0.0002203\ttotal: 8.34s\tremaining: 39.6s\n",
            "174:\tlearn: 0.0002165\ttotal: 8.37s\tremaining: 39.5s\n",
            "175:\tlearn: 0.0002165\ttotal: 8.41s\tremaining: 39.4s\n",
            "176:\tlearn: 0.0002112\ttotal: 8.44s\tremaining: 39.3s\n",
            "177:\tlearn: 0.0002112\ttotal: 8.47s\tremaining: 39.1s\n",
            "178:\tlearn: 0.0002111\ttotal: 8.51s\tremaining: 39s\n",
            "179:\tlearn: 0.0002078\ttotal: 8.58s\tremaining: 39.1s\n",
            "180:\tlearn: 0.0002077\ttotal: 8.63s\tremaining: 39.1s\n",
            "181:\tlearn: 0.0002077\ttotal: 8.68s\tremaining: 39s\n",
            "182:\tlearn: 0.0002059\ttotal: 8.73s\tremaining: 39s\n",
            "183:\tlearn: 0.0002058\ttotal: 8.79s\tremaining: 39s\n",
            "184:\tlearn: 0.0002058\ttotal: 8.83s\tremaining: 38.9s\n",
            "185:\tlearn: 0.0002009\ttotal: 8.87s\tremaining: 38.8s\n",
            "186:\tlearn: 0.0002009\ttotal: 8.9s\tremaining: 38.7s\n",
            "187:\tlearn: 0.0002009\ttotal: 8.93s\tremaining: 38.6s\n",
            "188:\tlearn: 0.0002009\ttotal: 8.97s\tremaining: 38.5s\n",
            "189:\tlearn: 0.0001991\ttotal: 9s\tremaining: 38.4s\n",
            "190:\tlearn: 0.0001974\ttotal: 9.03s\tremaining: 38.2s\n",
            "191:\tlearn: 0.0001974\ttotal: 9.06s\tremaining: 38.1s\n",
            "192:\tlearn: 0.0001974\ttotal: 9.1s\tremaining: 38s\n",
            "193:\tlearn: 0.0001929\ttotal: 9.13s\tremaining: 38s\n",
            "194:\tlearn: 0.0001928\ttotal: 9.17s\tremaining: 37.9s\n",
            "195:\tlearn: 0.0001928\ttotal: 9.21s\tremaining: 37.8s\n",
            "196:\tlearn: 0.0001928\ttotal: 9.25s\tremaining: 37.7s\n",
            "197:\tlearn: 0.0001928\ttotal: 9.28s\tremaining: 37.6s\n",
            "198:\tlearn: 0.0001900\ttotal: 9.31s\tremaining: 37.5s\n",
            "199:\tlearn: 0.0001900\ttotal: 9.36s\tremaining: 37.4s\n",
            "200:\tlearn: 0.0001885\ttotal: 9.39s\tremaining: 37.3s\n",
            "201:\tlearn: 0.0001885\ttotal: 9.43s\tremaining: 37.3s\n",
            "202:\tlearn: 0.0001884\ttotal: 9.48s\tremaining: 37.2s\n",
            "203:\tlearn: 0.0001842\ttotal: 9.54s\tremaining: 37.2s\n",
            "204:\tlearn: 0.0001842\ttotal: 9.6s\tremaining: 37.2s\n",
            "205:\tlearn: 0.0001842\ttotal: 9.68s\tremaining: 37.3s\n",
            "206:\tlearn: 0.0001841\ttotal: 9.74s\tremaining: 37.3s\n",
            "207:\tlearn: 0.0001841\ttotal: 9.78s\tremaining: 37.2s\n",
            "208:\tlearn: 0.0001841\ttotal: 9.81s\tremaining: 37.1s\n",
            "209:\tlearn: 0.0001801\ttotal: 9.85s\tremaining: 37.1s\n",
            "210:\tlearn: 0.0001801\ttotal: 9.87s\tremaining: 36.9s\n",
            "211:\tlearn: 0.0001787\ttotal: 9.91s\tremaining: 36.8s\n",
            "212:\tlearn: 0.0001787\ttotal: 9.95s\tremaining: 36.8s\n",
            "213:\tlearn: 0.0001787\ttotal: 9.98s\tremaining: 36.7s\n",
            "214:\tlearn: 0.0001774\ttotal: 10s\tremaining: 36.6s\n",
            "215:\tlearn: 0.0001774\ttotal: 10s\tremaining: 36.4s\n",
            "216:\tlearn: 0.0001773\ttotal: 10.1s\tremaining: 36.3s\n",
            "217:\tlearn: 0.0001773\ttotal: 10.1s\tremaining: 36.3s\n",
            "218:\tlearn: 0.0001773\ttotal: 10.2s\tremaining: 36.2s\n",
            "219:\tlearn: 0.0001773\ttotal: 10.2s\tremaining: 36.1s\n",
            "220:\tlearn: 0.0001760\ttotal: 10.2s\tremaining: 36s\n",
            "221:\tlearn: 0.0001760\ttotal: 10.3s\tremaining: 35.9s\n",
            "222:\tlearn: 0.0001760\ttotal: 10.3s\tremaining: 35.8s\n",
            "223:\tlearn: 0.0001760\ttotal: 10.3s\tremaining: 35.7s\n",
            "224:\tlearn: 0.0001759\ttotal: 10.4s\tremaining: 35.7s\n",
            "225:\tlearn: 0.0001759\ttotal: 10.4s\tremaining: 35.6s\n",
            "226:\tlearn: 0.0001759\ttotal: 10.5s\tremaining: 35.6s\n",
            "227:\tlearn: 0.0001759\ttotal: 10.5s\tremaining: 35.5s\n",
            "228:\tlearn: 0.0001758\ttotal: 10.5s\tremaining: 35.5s\n",
            "229:\tlearn: 0.0001735\ttotal: 10.6s\tremaining: 35.4s\n",
            "230:\tlearn: 0.0001730\ttotal: 10.6s\tremaining: 35.4s\n",
            "231:\tlearn: 0.0001718\ttotal: 10.7s\tremaining: 35.3s\n",
            "232:\tlearn: 0.0001718\ttotal: 10.7s\tremaining: 35.2s\n",
            "233:\tlearn: 0.0001718\ttotal: 10.7s\tremaining: 35.1s\n",
            "234:\tlearn: 0.0001717\ttotal: 10.8s\tremaining: 35.1s\n",
            "235:\tlearn: 0.0001712\ttotal: 10.8s\tremaining: 35s\n",
            "236:\tlearn: 0.0001712\ttotal: 10.8s\tremaining: 34.9s\n",
            "237:\tlearn: 0.0001677\ttotal: 10.9s\tremaining: 34.8s\n",
            "238:\tlearn: 0.0001671\ttotal: 10.9s\tremaining: 34.7s\n",
            "239:\tlearn: 0.0001671\ttotal: 10.9s\tremaining: 34.6s\n",
            "240:\tlearn: 0.0001671\ttotal: 11s\tremaining: 34.5s\n",
            "241:\tlearn: 0.0001650\ttotal: 11s\tremaining: 34.4s\n",
            "242:\tlearn: 0.0001639\ttotal: 11s\tremaining: 34.4s\n",
            "243:\tlearn: 0.0001639\ttotal: 11.1s\tremaining: 34.3s\n",
            "244:\tlearn: 0.0001639\ttotal: 11.1s\tremaining: 34.2s\n",
            "245:\tlearn: 0.0001629\ttotal: 11.1s\tremaining: 34.1s\n",
            "246:\tlearn: 0.0001619\ttotal: 11.2s\tremaining: 34s\n",
            "247:\tlearn: 0.0001614\ttotal: 11.2s\tremaining: 33.9s\n",
            "248:\tlearn: 0.0001614\ttotal: 11.2s\tremaining: 33.9s\n",
            "249:\tlearn: 0.0001614\ttotal: 11.3s\tremaining: 33.8s\n",
            "250:\tlearn: 0.0001594\ttotal: 11.3s\tremaining: 33.7s\n",
            "251:\tlearn: 0.0001594\ttotal: 11.3s\tremaining: 33.6s\n",
            "252:\tlearn: 0.0001594\ttotal: 11.4s\tremaining: 33.5s\n",
            "253:\tlearn: 0.0001584\ttotal: 11.4s\tremaining: 33.4s\n",
            "254:\tlearn: 0.0001584\ttotal: 11.4s\tremaining: 33.4s\n",
            "255:\tlearn: 0.0001584\ttotal: 11.5s\tremaining: 33.3s\n",
            "256:\tlearn: 0.0001584\ttotal: 11.5s\tremaining: 33.3s\n",
            "257:\tlearn: 0.0001584\ttotal: 11.5s\tremaining: 33.2s\n",
            "258:\tlearn: 0.0001583\ttotal: 11.6s\tremaining: 33.1s\n",
            "259:\tlearn: 0.0001583\ttotal: 11.6s\tremaining: 33.1s\n",
            "260:\tlearn: 0.0001583\ttotal: 11.7s\tremaining: 33s\n",
            "261:\tlearn: 0.0001574\ttotal: 11.7s\tremaining: 32.9s\n",
            "262:\tlearn: 0.0001573\ttotal: 11.7s\tremaining: 32.8s\n",
            "263:\tlearn: 0.0001573\ttotal: 11.8s\tremaining: 32.8s\n",
            "264:\tlearn: 0.0001573\ttotal: 11.8s\tremaining: 32.7s\n",
            "265:\tlearn: 0.0001573\ttotal: 11.8s\tremaining: 32.6s\n",
            "266:\tlearn: 0.0001569\ttotal: 11.9s\tremaining: 32.6s\n",
            "267:\tlearn: 0.0001569\ttotal: 11.9s\tremaining: 32.5s\n",
            "268:\tlearn: 0.0001569\ttotal: 12s\tremaining: 32.5s\n",
            "269:\tlearn: 0.0001569\ttotal: 12s\tremaining: 32.4s\n",
            "270:\tlearn: 0.0001568\ttotal: 12s\tremaining: 32.4s\n",
            "271:\tlearn: 0.0001568\ttotal: 12.1s\tremaining: 32.3s\n",
            "272:\tlearn: 0.0001568\ttotal: 12.1s\tremaining: 32.2s\n",
            "273:\tlearn: 0.0001568\ttotal: 12.1s\tremaining: 32.1s\n",
            "274:\tlearn: 0.0001568\ttotal: 12.2s\tremaining: 32.1s\n",
            "275:\tlearn: 0.0001568\ttotal: 12.2s\tremaining: 32s\n",
            "276:\tlearn: 0.0001559\ttotal: 12.2s\tremaining: 31.9s\n",
            "277:\tlearn: 0.0001555\ttotal: 12.3s\tremaining: 31.9s\n",
            "278:\tlearn: 0.0001555\ttotal: 12.3s\tremaining: 31.8s\n",
            "279:\tlearn: 0.0001555\ttotal: 12.3s\tremaining: 31.7s\n",
            "280:\tlearn: 0.0001554\ttotal: 12.4s\tremaining: 31.7s\n",
            "281:\tlearn: 0.0001546\ttotal: 12.4s\tremaining: 31.6s\n",
            "282:\tlearn: 0.0001537\ttotal: 12.4s\tremaining: 31.5s\n",
            "283:\tlearn: 0.0001537\ttotal: 12.5s\tremaining: 31.5s\n",
            "284:\tlearn: 0.0001520\ttotal: 12.5s\tremaining: 31.4s\n",
            "285:\tlearn: 0.0001502\ttotal: 12.5s\tremaining: 31.3s\n",
            "286:\tlearn: 0.0001502\ttotal: 12.6s\tremaining: 31.3s\n",
            "287:\tlearn: 0.0001499\ttotal: 12.6s\tremaining: 31.2s\n",
            "288:\tlearn: 0.0001483\ttotal: 12.7s\tremaining: 31.2s\n",
            "289:\tlearn: 0.0001482\ttotal: 12.7s\tremaining: 31.1s\n",
            "290:\tlearn: 0.0001482\ttotal: 12.7s\tremaining: 31s\n",
            "291:\tlearn: 0.0001482\ttotal: 12.8s\tremaining: 31s\n",
            "292:\tlearn: 0.0001482\ttotal: 12.8s\tremaining: 30.9s\n",
            "293:\tlearn: 0.0001482\ttotal: 12.9s\tremaining: 30.9s\n",
            "294:\tlearn: 0.0001482\ttotal: 12.9s\tremaining: 30.8s\n",
            "295:\tlearn: 0.0001482\ttotal: 12.9s\tremaining: 30.7s\n",
            "296:\tlearn: 0.0001481\ttotal: 12.9s\tremaining: 30.6s\n",
            "297:\tlearn: 0.0001481\ttotal: 13s\tremaining: 30.6s\n",
            "298:\tlearn: 0.0001465\ttotal: 13s\tremaining: 30.5s\n",
            "299:\tlearn: 0.0001465\ttotal: 13s\tremaining: 30.4s\n",
            "300:\tlearn: 0.0001465\ttotal: 13.1s\tremaining: 30.4s\n",
            "301:\tlearn: 0.0001465\ttotal: 13.1s\tremaining: 30.3s\n",
            "302:\tlearn: 0.0001465\ttotal: 13.1s\tremaining: 30.2s\n",
            "303:\tlearn: 0.0001465\ttotal: 13.2s\tremaining: 30.2s\n",
            "304:\tlearn: 0.0001457\ttotal: 13.2s\tremaining: 30.1s\n",
            "305:\tlearn: 0.0001457\ttotal: 13.3s\tremaining: 30.1s\n",
            "306:\tlearn: 0.0001457\ttotal: 13.3s\tremaining: 30s\n",
            "307:\tlearn: 0.0001457\ttotal: 13.3s\tremaining: 30s\n",
            "308:\tlearn: 0.0001457\ttotal: 13.4s\tremaining: 29.9s\n",
            "309:\tlearn: 0.0001457\ttotal: 13.4s\tremaining: 29.8s\n",
            "310:\tlearn: 0.0001456\ttotal: 13.4s\tremaining: 29.8s\n",
            "311:\tlearn: 0.0001456\ttotal: 13.5s\tremaining: 29.7s\n",
            "312:\tlearn: 0.0001456\ttotal: 13.5s\tremaining: 29.7s\n",
            "313:\tlearn: 0.0001456\ttotal: 13.6s\tremaining: 29.6s\n",
            "314:\tlearn: 0.0001456\ttotal: 13.6s\tremaining: 29.5s\n",
            "315:\tlearn: 0.0001456\ttotal: 13.6s\tremaining: 29.5s\n",
            "316:\tlearn: 0.0001456\ttotal: 13.7s\tremaining: 29.4s\n",
            "317:\tlearn: 0.0001455\ttotal: 13.7s\tremaining: 29.4s\n",
            "318:\tlearn: 0.0001440\ttotal: 13.7s\tremaining: 29.3s\n",
            "319:\tlearn: 0.0001440\ttotal: 13.8s\tremaining: 29.2s\n",
            "320:\tlearn: 0.0001440\ttotal: 13.8s\tremaining: 29.2s\n",
            "321:\tlearn: 0.0001412\ttotal: 13.8s\tremaining: 29.1s\n",
            "322:\tlearn: 0.0001412\ttotal: 13.9s\tremaining: 29.1s\n",
            "323:\tlearn: 0.0001412\ttotal: 13.9s\tremaining: 29s\n",
            "324:\tlearn: 0.0001412\ttotal: 14s\tremaining: 29s\n",
            "325:\tlearn: 0.0001412\ttotal: 14s\tremaining: 28.9s\n",
            "326:\tlearn: 0.0001412\ttotal: 14s\tremaining: 28.9s\n",
            "327:\tlearn: 0.0001412\ttotal: 14.1s\tremaining: 28.8s\n",
            "328:\tlearn: 0.0001397\ttotal: 14.1s\tremaining: 28.8s\n",
            "329:\tlearn: 0.0001397\ttotal: 14.1s\tremaining: 28.7s\n",
            "330:\tlearn: 0.0001397\ttotal: 14.2s\tremaining: 28.6s\n",
            "331:\tlearn: 0.0001397\ttotal: 14.2s\tremaining: 28.6s\n",
            "332:\tlearn: 0.0001396\ttotal: 14.2s\tremaining: 28.5s\n",
            "333:\tlearn: 0.0001390\ttotal: 14.3s\tremaining: 28.4s\n",
            "334:\tlearn: 0.0001383\ttotal: 14.3s\tremaining: 28.4s\n",
            "335:\tlearn: 0.0001383\ttotal: 14.5s\tremaining: 28.6s\n",
            "336:\tlearn: 0.0001383\ttotal: 14.5s\tremaining: 28.5s\n",
            "337:\tlearn: 0.0001383\ttotal: 14.5s\tremaining: 28.5s\n",
            "338:\tlearn: 0.0001383\ttotal: 14.6s\tremaining: 28.4s\n",
            "339:\tlearn: 0.0001383\ttotal: 14.6s\tremaining: 28.4s\n",
            "340:\tlearn: 0.0001382\ttotal: 14.7s\tremaining: 28.3s\n",
            "341:\tlearn: 0.0001369\ttotal: 14.7s\tremaining: 28.3s\n",
            "342:\tlearn: 0.0001369\ttotal: 14.8s\tremaining: 28.3s\n",
            "343:\tlearn: 0.0001369\ttotal: 14.8s\tremaining: 28.2s\n",
            "344:\tlearn: 0.0001368\ttotal: 14.8s\tremaining: 28.2s\n",
            "345:\tlearn: 0.0001366\ttotal: 14.9s\tremaining: 28.1s\n",
            "346:\tlearn: 0.0001366\ttotal: 14.9s\tremaining: 28.1s\n",
            "347:\tlearn: 0.0001365\ttotal: 15s\tremaining: 28s\n",
            "348:\tlearn: 0.0001365\ttotal: 15s\tremaining: 28s\n",
            "349:\tlearn: 0.0001365\ttotal: 15s\tremaining: 27.9s\n",
            "350:\tlearn: 0.0001363\ttotal: 15.1s\tremaining: 27.9s\n",
            "351:\tlearn: 0.0001363\ttotal: 15.1s\tremaining: 27.8s\n",
            "352:\tlearn: 0.0001363\ttotal: 15.2s\tremaining: 27.8s\n",
            "353:\tlearn: 0.0001363\ttotal: 15.2s\tremaining: 27.7s\n",
            "354:\tlearn: 0.0001357\ttotal: 15.2s\tremaining: 27.6s\n",
            "355:\tlearn: 0.0001357\ttotal: 15.2s\tremaining: 27.6s\n",
            "356:\tlearn: 0.0001357\ttotal: 15.3s\tremaining: 27.5s\n",
            "357:\tlearn: 0.0001356\ttotal: 15.3s\tremaining: 27.4s\n",
            "358:\tlearn: 0.0001356\ttotal: 15.3s\tremaining: 27.4s\n",
            "359:\tlearn: 0.0001356\ttotal: 15.4s\tremaining: 27.3s\n",
            "360:\tlearn: 0.0001356\ttotal: 15.4s\tremaining: 27.3s\n",
            "361:\tlearn: 0.0001353\ttotal: 15.4s\tremaining: 27.2s\n",
            "362:\tlearn: 0.0001353\ttotal: 15.5s\tremaining: 27.2s\n",
            "363:\tlearn: 0.0001353\ttotal: 15.5s\tremaining: 27.1s\n",
            "364:\tlearn: 0.0001353\ttotal: 15.6s\tremaining: 27.1s\n",
            "365:\tlearn: 0.0001353\ttotal: 15.6s\tremaining: 27s\n",
            "366:\tlearn: 0.0001353\ttotal: 15.6s\tremaining: 27s\n",
            "367:\tlearn: 0.0001353\ttotal: 15.7s\tremaining: 26.9s\n",
            "368:\tlearn: 0.0001352\ttotal: 15.7s\tremaining: 26.9s\n",
            "369:\tlearn: 0.0001352\ttotal: 15.7s\tremaining: 26.8s\n",
            "370:\tlearn: 0.0001352\ttotal: 15.8s\tremaining: 26.7s\n",
            "371:\tlearn: 0.0001352\ttotal: 15.8s\tremaining: 26.7s\n",
            "372:\tlearn: 0.0001352\ttotal: 15.8s\tremaining: 26.6s\n",
            "373:\tlearn: 0.0001346\ttotal: 15.9s\tremaining: 26.6s\n",
            "374:\tlearn: 0.0001323\ttotal: 15.9s\tremaining: 26.5s\n",
            "375:\tlearn: 0.0001322\ttotal: 15.9s\tremaining: 26.5s\n",
            "376:\tlearn: 0.0001299\ttotal: 16s\tremaining: 26.4s\n",
            "377:\tlearn: 0.0001299\ttotal: 16s\tremaining: 26.4s\n",
            "378:\tlearn: 0.0001299\ttotal: 16.1s\tremaining: 26.3s\n",
            "379:\tlearn: 0.0001299\ttotal: 16.1s\tremaining: 26.3s\n",
            "380:\tlearn: 0.0001296\ttotal: 16.2s\tremaining: 26.2s\n",
            "381:\tlearn: 0.0001296\ttotal: 16.2s\tremaining: 26.2s\n",
            "382:\tlearn: 0.0001296\ttotal: 16.2s\tremaining: 26.1s\n",
            "383:\tlearn: 0.0001296\ttotal: 16.3s\tremaining: 26.1s\n",
            "384:\tlearn: 0.0001291\ttotal: 16.3s\tremaining: 26.1s\n",
            "385:\tlearn: 0.0001290\ttotal: 16.3s\tremaining: 26s\n",
            "386:\tlearn: 0.0001290\ttotal: 16.4s\tremaining: 25.9s\n",
            "387:\tlearn: 0.0001290\ttotal: 16.4s\tremaining: 25.9s\n",
            "388:\tlearn: 0.0001290\ttotal: 16.4s\tremaining: 25.8s\n",
            "389:\tlearn: 0.0001290\ttotal: 16.5s\tremaining: 25.7s\n",
            "390:\tlearn: 0.0001279\ttotal: 16.5s\tremaining: 25.7s\n",
            "391:\tlearn: 0.0001279\ttotal: 16.5s\tremaining: 25.7s\n",
            "392:\tlearn: 0.0001279\ttotal: 16.6s\tremaining: 25.6s\n",
            "393:\tlearn: 0.0001279\ttotal: 16.6s\tremaining: 25.6s\n",
            "394:\tlearn: 0.0001273\ttotal: 16.7s\tremaining: 25.5s\n",
            "395:\tlearn: 0.0001273\ttotal: 16.7s\tremaining: 25.5s\n",
            "396:\tlearn: 0.0001251\ttotal: 16.7s\tremaining: 25.4s\n",
            "397:\tlearn: 0.0001251\ttotal: 16.8s\tremaining: 25.4s\n",
            "398:\tlearn: 0.0001251\ttotal: 16.8s\tremaining: 25.3s\n",
            "399:\tlearn: 0.0001251\ttotal: 16.8s\tremaining: 25.2s\n",
            "400:\tlearn: 0.0001251\ttotal: 16.8s\tremaining: 25.2s\n",
            "401:\tlearn: 0.0001251\ttotal: 16.9s\tremaining: 25.1s\n",
            "402:\tlearn: 0.0001251\ttotal: 16.9s\tremaining: 25s\n",
            "403:\tlearn: 0.0001250\ttotal: 16.9s\tremaining: 25s\n",
            "404:\tlearn: 0.0001245\ttotal: 17s\tremaining: 25s\n",
            "405:\tlearn: 0.0001244\ttotal: 17s\tremaining: 24.9s\n",
            "406:\tlearn: 0.0001244\ttotal: 17.1s\tremaining: 24.9s\n",
            "407:\tlearn: 0.0001244\ttotal: 17.1s\tremaining: 24.8s\n",
            "408:\tlearn: 0.0001244\ttotal: 17.1s\tremaining: 24.7s\n",
            "409:\tlearn: 0.0001244\ttotal: 17.2s\tremaining: 24.7s\n",
            "410:\tlearn: 0.0001243\ttotal: 17.2s\tremaining: 24.7s\n",
            "411:\tlearn: 0.0001243\ttotal: 17.2s\tremaining: 24.6s\n",
            "412:\tlearn: 0.0001241\ttotal: 17.3s\tremaining: 24.6s\n",
            "413:\tlearn: 0.0001221\ttotal: 17.3s\tremaining: 24.5s\n",
            "414:\tlearn: 0.0001219\ttotal: 17.4s\tremaining: 24.5s\n",
            "415:\tlearn: 0.0001219\ttotal: 17.4s\tremaining: 24.4s\n",
            "416:\tlearn: 0.0001219\ttotal: 17.4s\tremaining: 24.4s\n",
            "417:\tlearn: 0.0001219\ttotal: 17.5s\tremaining: 24.3s\n",
            "418:\tlearn: 0.0001218\ttotal: 17.5s\tremaining: 24.3s\n",
            "419:\tlearn: 0.0001214\ttotal: 17.5s\tremaining: 24.2s\n",
            "420:\tlearn: 0.0001214\ttotal: 17.6s\tremaining: 24.2s\n",
            "421:\tlearn: 0.0001214\ttotal: 17.6s\tremaining: 24.1s\n",
            "422:\tlearn: 0.0001213\ttotal: 17.6s\tremaining: 24.1s\n",
            "423:\tlearn: 0.0001213\ttotal: 17.7s\tremaining: 24s\n",
            "424:\tlearn: 0.0001209\ttotal: 17.7s\tremaining: 23.9s\n",
            "425:\tlearn: 0.0001188\ttotal: 17.7s\tremaining: 23.9s\n",
            "426:\tlearn: 0.0001188\ttotal: 17.8s\tremaining: 23.9s\n",
            "427:\tlearn: 0.0001188\ttotal: 17.8s\tremaining: 23.8s\n",
            "428:\tlearn: 0.0001188\ttotal: 17.9s\tremaining: 23.8s\n",
            "429:\tlearn: 0.0001168\ttotal: 17.9s\tremaining: 23.7s\n",
            "430:\tlearn: 0.0001168\ttotal: 17.9s\tremaining: 23.7s\n",
            "431:\tlearn: 0.0001159\ttotal: 18s\tremaining: 23.6s\n",
            "432:\tlearn: 0.0001158\ttotal: 18s\tremaining: 23.6s\n",
            "433:\tlearn: 0.0001158\ttotal: 18.1s\tremaining: 23.6s\n",
            "434:\tlearn: 0.0001158\ttotal: 18.1s\tremaining: 23.5s\n",
            "435:\tlearn: 0.0001158\ttotal: 18.1s\tremaining: 23.5s\n",
            "436:\tlearn: 0.0001156\ttotal: 18.2s\tremaining: 23.4s\n",
            "437:\tlearn: 0.0001156\ttotal: 18.2s\tremaining: 23.4s\n",
            "438:\tlearn: 0.0001156\ttotal: 18.3s\tremaining: 23.3s\n",
            "439:\tlearn: 0.0001156\ttotal: 18.3s\tremaining: 23.3s\n",
            "440:\tlearn: 0.0001146\ttotal: 18.3s\tremaining: 23.3s\n",
            "441:\tlearn: 0.0001146\ttotal: 18.4s\tremaining: 23.2s\n",
            "442:\tlearn: 0.0001146\ttotal: 18.4s\tremaining: 23.1s\n",
            "443:\tlearn: 0.0001144\ttotal: 18.4s\tremaining: 23.1s\n",
            "444:\tlearn: 0.0001144\ttotal: 18.5s\tremaining: 23s\n",
            "445:\tlearn: 0.0001144\ttotal: 18.5s\tremaining: 23s\n",
            "446:\tlearn: 0.0001144\ttotal: 18.5s\tremaining: 22.9s\n",
            "447:\tlearn: 0.0001144\ttotal: 18.6s\tremaining: 22.9s\n",
            "448:\tlearn: 0.0001144\ttotal: 18.6s\tremaining: 22.8s\n",
            "449:\tlearn: 0.0001144\ttotal: 18.6s\tremaining: 22.8s\n",
            "450:\tlearn: 0.0001144\ttotal: 18.7s\tremaining: 22.7s\n",
            "451:\tlearn: 0.0001143\ttotal: 18.7s\tremaining: 22.7s\n",
            "452:\tlearn: 0.0001143\ttotal: 18.8s\tremaining: 22.7s\n",
            "453:\tlearn: 0.0001143\ttotal: 18.8s\tremaining: 22.6s\n",
            "454:\tlearn: 0.0001142\ttotal: 18.8s\tremaining: 22.6s\n",
            "455:\tlearn: 0.0001124\ttotal: 18.9s\tremaining: 22.6s\n",
            "456:\tlearn: 0.0001120\ttotal: 19s\tremaining: 22.5s\n",
            "457:\tlearn: 0.0001120\ttotal: 19s\tremaining: 22.5s\n",
            "458:\tlearn: 0.0001120\ttotal: 19s\tremaining: 22.4s\n",
            "459:\tlearn: 0.0001120\ttotal: 19.1s\tremaining: 22.4s\n",
            "460:\tlearn: 0.0001118\ttotal: 19.1s\tremaining: 22.3s\n",
            "461:\tlearn: 0.0001118\ttotal: 19.2s\tremaining: 22.3s\n",
            "462:\tlearn: 0.0001118\ttotal: 19.2s\tremaining: 22.3s\n",
            "463:\tlearn: 0.0001101\ttotal: 19.2s\tremaining: 22.2s\n",
            "464:\tlearn: 0.0001101\ttotal: 19.3s\tremaining: 22.2s\n",
            "465:\tlearn: 0.0001101\ttotal: 19.3s\tremaining: 22.1s\n",
            "466:\tlearn: 0.0001101\ttotal: 19.4s\tremaining: 22.1s\n",
            "467:\tlearn: 0.0001086\ttotal: 19.4s\tremaining: 22s\n",
            "468:\tlearn: 0.0001086\ttotal: 19.4s\tremaining: 22s\n",
            "469:\tlearn: 0.0001085\ttotal: 19.5s\tremaining: 22s\n",
            "470:\tlearn: 0.0001085\ttotal: 19.5s\tremaining: 21.9s\n",
            "471:\tlearn: 0.0001085\ttotal: 19.5s\tremaining: 21.9s\n",
            "472:\tlearn: 0.0001085\ttotal: 19.6s\tremaining: 21.8s\n",
            "473:\tlearn: 0.0001084\ttotal: 19.6s\tremaining: 21.8s\n",
            "474:\tlearn: 0.0001083\ttotal: 19.7s\tremaining: 21.7s\n",
            "475:\tlearn: 0.0001083\ttotal: 19.7s\tremaining: 21.7s\n",
            "476:\tlearn: 0.0001083\ttotal: 19.7s\tremaining: 21.6s\n",
            "477:\tlearn: 0.0001083\ttotal: 19.8s\tremaining: 21.6s\n",
            "478:\tlearn: 0.0001083\ttotal: 19.8s\tremaining: 21.6s\n",
            "479:\tlearn: 0.0001083\ttotal: 19.9s\tremaining: 21.5s\n",
            "480:\tlearn: 0.0001083\ttotal: 19.9s\tremaining: 21.5s\n",
            "481:\tlearn: 0.0001083\ttotal: 19.9s\tremaining: 21.4s\n",
            "482:\tlearn: 0.0001083\ttotal: 19.9s\tremaining: 21.3s\n",
            "483:\tlearn: 0.0001083\ttotal: 20s\tremaining: 21.3s\n",
            "484:\tlearn: 0.0001082\ttotal: 20s\tremaining: 21.2s\n",
            "485:\tlearn: 0.0001079\ttotal: 20s\tremaining: 21.2s\n",
            "486:\tlearn: 0.0001079\ttotal: 20.1s\tremaining: 21.2s\n",
            "487:\tlearn: 0.0001079\ttotal: 20.1s\tremaining: 21.1s\n",
            "488:\tlearn: 0.0001079\ttotal: 20.2s\tremaining: 21.1s\n",
            "489:\tlearn: 0.0001075\ttotal: 20.2s\tremaining: 21s\n",
            "490:\tlearn: 0.0001075\ttotal: 20.2s\tremaining: 21s\n",
            "491:\tlearn: 0.0001075\ttotal: 20.2s\tremaining: 20.9s\n",
            "492:\tlearn: 0.0001075\ttotal: 20.3s\tremaining: 20.9s\n",
            "493:\tlearn: 0.0001062\ttotal: 20.3s\tremaining: 20.8s\n",
            "494:\tlearn: 0.0001060\ttotal: 20.4s\tremaining: 20.8s\n",
            "495:\tlearn: 0.0001060\ttotal: 20.4s\tremaining: 20.7s\n",
            "496:\tlearn: 0.0001060\ttotal: 20.4s\tremaining: 20.7s\n",
            "497:\tlearn: 0.0001060\ttotal: 20.5s\tremaining: 20.6s\n",
            "498:\tlearn: 0.0001060\ttotal: 20.5s\tremaining: 20.6s\n",
            "499:\tlearn: 0.0001060\ttotal: 20.5s\tremaining: 20.5s\n",
            "500:\tlearn: 0.0001060\ttotal: 20.6s\tremaining: 20.5s\n",
            "501:\tlearn: 0.0001059\ttotal: 20.6s\tremaining: 20.4s\n",
            "502:\tlearn: 0.0001059\ttotal: 20.6s\tremaining: 20.4s\n",
            "503:\tlearn: 0.0001059\ttotal: 20.7s\tremaining: 20.3s\n",
            "504:\tlearn: 0.0001059\ttotal: 20.7s\tremaining: 20.3s\n",
            "505:\tlearn: 0.0001059\ttotal: 20.8s\tremaining: 20.3s\n",
            "506:\tlearn: 0.0001059\ttotal: 20.8s\tremaining: 20.2s\n",
            "507:\tlearn: 0.0001059\ttotal: 20.8s\tremaining: 20.2s\n",
            "508:\tlearn: 0.0001055\ttotal: 20.8s\tremaining: 20.1s\n",
            "509:\tlearn: 0.0001054\ttotal: 20.9s\tremaining: 20s\n",
            "510:\tlearn: 0.0001045\ttotal: 20.9s\tremaining: 20s\n",
            "511:\tlearn: 0.0001045\ttotal: 20.9s\tremaining: 20s\n",
            "512:\tlearn: 0.0001045\ttotal: 21s\tremaining: 19.9s\n",
            "513:\tlearn: 0.0001045\ttotal: 21s\tremaining: 19.9s\n",
            "514:\tlearn: 0.0001045\ttotal: 21.1s\tremaining: 19.8s\n",
            "515:\tlearn: 0.0001045\ttotal: 21.1s\tremaining: 19.8s\n",
            "516:\tlearn: 0.0001045\ttotal: 21.1s\tremaining: 19.7s\n",
            "517:\tlearn: 0.0001045\ttotal: 21.2s\tremaining: 19.7s\n",
            "518:\tlearn: 0.0001045\ttotal: 21.2s\tremaining: 19.7s\n",
            "519:\tlearn: 0.0001045\ttotal: 21.2s\tremaining: 19.6s\n",
            "520:\tlearn: 0.0001044\ttotal: 21.3s\tremaining: 19.6s\n",
            "521:\tlearn: 0.0001044\ttotal: 21.3s\tremaining: 19.5s\n",
            "522:\tlearn: 0.0001044\ttotal: 21.3s\tremaining: 19.5s\n",
            "523:\tlearn: 0.0001044\ttotal: 21.4s\tremaining: 19.4s\n",
            "524:\tlearn: 0.0001044\ttotal: 21.4s\tremaining: 19.4s\n",
            "525:\tlearn: 0.0001044\ttotal: 21.4s\tremaining: 19.3s\n",
            "526:\tlearn: 0.0001044\ttotal: 21.5s\tremaining: 19.3s\n",
            "527:\tlearn: 0.0001044\ttotal: 21.5s\tremaining: 19.2s\n",
            "528:\tlearn: 0.0001044\ttotal: 21.6s\tremaining: 19.2s\n",
            "529:\tlearn: 0.0001044\ttotal: 21.6s\tremaining: 19.2s\n",
            "530:\tlearn: 0.0001044\ttotal: 21.6s\tremaining: 19.1s\n",
            "531:\tlearn: 0.0001036\ttotal: 21.7s\tremaining: 19.1s\n",
            "532:\tlearn: 0.0001036\ttotal: 21.7s\tremaining: 19s\n",
            "533:\tlearn: 0.0001036\ttotal: 21.8s\tremaining: 19s\n",
            "534:\tlearn: 0.0001036\ttotal: 21.8s\tremaining: 18.9s\n",
            "535:\tlearn: 0.0001035\ttotal: 21.8s\tremaining: 18.9s\n",
            "536:\tlearn: 0.0001034\ttotal: 21.9s\tremaining: 18.9s\n",
            "537:\tlearn: 0.0001034\ttotal: 21.9s\tremaining: 18.8s\n",
            "538:\tlearn: 0.0001033\ttotal: 21.9s\tremaining: 18.8s\n",
            "539:\tlearn: 0.0001033\ttotal: 22s\tremaining: 18.7s\n",
            "540:\tlearn: 0.0001032\ttotal: 22s\tremaining: 18.7s\n",
            "541:\tlearn: 0.0001032\ttotal: 22s\tremaining: 18.6s\n",
            "542:\tlearn: 0.0001032\ttotal: 22.1s\tremaining: 18.6s\n",
            "543:\tlearn: 0.0001032\ttotal: 22.1s\tremaining: 18.5s\n",
            "544:\tlearn: 0.0001032\ttotal: 22.1s\tremaining: 18.5s\n",
            "545:\tlearn: 0.0001032\ttotal: 22.2s\tremaining: 18.4s\n",
            "546:\tlearn: 0.0001031\ttotal: 22.2s\tremaining: 18.4s\n",
            "547:\tlearn: 0.0001031\ttotal: 22.2s\tremaining: 18.3s\n",
            "548:\tlearn: 0.0001029\ttotal: 22.3s\tremaining: 18.3s\n",
            "549:\tlearn: 0.0001017\ttotal: 22.3s\tremaining: 18.3s\n",
            "550:\tlearn: 0.0001017\ttotal: 22.4s\tremaining: 18.2s\n",
            "551:\tlearn: 0.0001017\ttotal: 22.4s\tremaining: 18.2s\n",
            "552:\tlearn: 0.0001009\ttotal: 22.4s\tremaining: 18.1s\n",
            "553:\tlearn: 0.0001006\ttotal: 22.5s\tremaining: 18.1s\n",
            "554:\tlearn: 0.0001006\ttotal: 22.5s\tremaining: 18s\n",
            "555:\tlearn: 0.0000992\ttotal: 22.5s\tremaining: 18s\n",
            "556:\tlearn: 0.0000992\ttotal: 22.6s\tremaining: 18s\n",
            "557:\tlearn: 0.0000992\ttotal: 22.6s\tremaining: 17.9s\n",
            "558:\tlearn: 0.0000992\ttotal: 22.6s\tremaining: 17.9s\n",
            "559:\tlearn: 0.0000992\ttotal: 22.7s\tremaining: 17.8s\n",
            "560:\tlearn: 0.0000991\ttotal: 22.7s\tremaining: 17.8s\n",
            "561:\tlearn: 0.0000990\ttotal: 22.8s\tremaining: 17.7s\n",
            "562:\tlearn: 0.0000990\ttotal: 22.8s\tremaining: 17.7s\n",
            "563:\tlearn: 0.0000987\ttotal: 22.8s\tremaining: 17.7s\n",
            "564:\tlearn: 0.0000987\ttotal: 22.9s\tremaining: 17.6s\n",
            "565:\tlearn: 0.0000984\ttotal: 22.9s\tremaining: 17.6s\n",
            "566:\tlearn: 0.0000984\ttotal: 22.9s\tremaining: 17.5s\n",
            "567:\tlearn: 0.0000984\ttotal: 23s\tremaining: 17.5s\n",
            "568:\tlearn: 0.0000984\ttotal: 23s\tremaining: 17.4s\n",
            "569:\tlearn: 0.0000984\ttotal: 23.1s\tremaining: 17.4s\n",
            "570:\tlearn: 0.0000984\ttotal: 23.2s\tremaining: 17.4s\n",
            "571:\tlearn: 0.0000984\ttotal: 23.3s\tremaining: 17.4s\n",
            "572:\tlearn: 0.0000984\ttotal: 23.4s\tremaining: 17.4s\n",
            "573:\tlearn: 0.0000984\ttotal: 23.4s\tremaining: 17.4s\n",
            "574:\tlearn: 0.0000984\ttotal: 23.5s\tremaining: 17.3s\n",
            "575:\tlearn: 0.0000970\ttotal: 23.5s\tremaining: 17.3s\n",
            "576:\tlearn: 0.0000969\ttotal: 23.6s\tremaining: 17.3s\n",
            "577:\tlearn: 0.0000969\ttotal: 23.7s\tremaining: 17.3s\n",
            "578:\tlearn: 0.0000969\ttotal: 23.7s\tremaining: 17.2s\n",
            "579:\tlearn: 0.0000967\ttotal: 23.7s\tremaining: 17.2s\n",
            "580:\tlearn: 0.0000954\ttotal: 23.8s\tremaining: 17.2s\n",
            "581:\tlearn: 0.0000954\ttotal: 23.9s\tremaining: 17.1s\n",
            "582:\tlearn: 0.0000947\ttotal: 23.9s\tremaining: 17.1s\n",
            "583:\tlearn: 0.0000947\ttotal: 24s\tremaining: 17.1s\n",
            "584:\tlearn: 0.0000947\ttotal: 24s\tremaining: 17s\n",
            "585:\tlearn: 0.0000947\ttotal: 24.1s\tremaining: 17s\n",
            "586:\tlearn: 0.0000947\ttotal: 24.1s\tremaining: 17s\n",
            "587:\tlearn: 0.0000934\ttotal: 24.2s\tremaining: 16.9s\n",
            "588:\tlearn: 0.0000934\ttotal: 24.2s\tremaining: 16.9s\n",
            "589:\tlearn: 0.0000934\ttotal: 24.3s\tremaining: 16.9s\n",
            "590:\tlearn: 0.0000933\ttotal: 24.4s\tremaining: 16.9s\n",
            "591:\tlearn: 0.0000932\ttotal: 24.4s\tremaining: 16.8s\n",
            "592:\tlearn: 0.0000932\ttotal: 24.5s\tremaining: 16.8s\n",
            "593:\tlearn: 0.0000931\ttotal: 24.5s\tremaining: 16.8s\n",
            "594:\tlearn: 0.0000931\ttotal: 24.6s\tremaining: 16.7s\n",
            "595:\tlearn: 0.0000931\ttotal: 24.6s\tremaining: 16.7s\n",
            "596:\tlearn: 0.0000931\ttotal: 24.7s\tremaining: 16.7s\n",
            "597:\tlearn: 0.0000931\ttotal: 24.7s\tremaining: 16.6s\n",
            "598:\tlearn: 0.0000931\ttotal: 24.8s\tremaining: 16.6s\n",
            "599:\tlearn: 0.0000931\ttotal: 24.9s\tremaining: 16.6s\n",
            "600:\tlearn: 0.0000930\ttotal: 24.9s\tremaining: 16.6s\n",
            "601:\tlearn: 0.0000930\ttotal: 25s\tremaining: 16.5s\n",
            "602:\tlearn: 0.0000930\ttotal: 25s\tremaining: 16.5s\n",
            "603:\tlearn: 0.0000930\ttotal: 25.1s\tremaining: 16.4s\n",
            "604:\tlearn: 0.0000927\ttotal: 25.1s\tremaining: 16.4s\n",
            "605:\tlearn: 0.0000917\ttotal: 25.1s\tremaining: 16.3s\n",
            "606:\tlearn: 0.0000911\ttotal: 25.2s\tremaining: 16.3s\n",
            "607:\tlearn: 0.0000911\ttotal: 25.2s\tremaining: 16.3s\n",
            "608:\tlearn: 0.0000911\ttotal: 25.3s\tremaining: 16.2s\n",
            "609:\tlearn: 0.0000911\ttotal: 25.3s\tremaining: 16.2s\n",
            "610:\tlearn: 0.0000911\ttotal: 25.4s\tremaining: 16.2s\n",
            "611:\tlearn: 0.0000911\ttotal: 25.5s\tremaining: 16.2s\n",
            "612:\tlearn: 0.0000910\ttotal: 25.5s\tremaining: 16.1s\n",
            "613:\tlearn: 0.0000910\ttotal: 25.6s\tremaining: 16.1s\n",
            "614:\tlearn: 0.0000910\ttotal: 25.6s\tremaining: 16.1s\n",
            "615:\tlearn: 0.0000910\ttotal: 25.7s\tremaining: 16s\n",
            "616:\tlearn: 0.0000908\ttotal: 25.7s\tremaining: 16s\n",
            "617:\tlearn: 0.0000908\ttotal: 25.8s\tremaining: 15.9s\n",
            "618:\tlearn: 0.0000907\ttotal: 25.8s\tremaining: 15.9s\n",
            "619:\tlearn: 0.0000907\ttotal: 25.9s\tremaining: 15.8s\n",
            "620:\tlearn: 0.0000907\ttotal: 25.9s\tremaining: 15.8s\n",
            "621:\tlearn: 0.0000907\ttotal: 25.9s\tremaining: 15.8s\n",
            "622:\tlearn: 0.0000906\ttotal: 26s\tremaining: 15.7s\n",
            "623:\tlearn: 0.0000906\ttotal: 26s\tremaining: 15.7s\n",
            "624:\tlearn: 0.0000901\ttotal: 26.1s\tremaining: 15.6s\n",
            "625:\tlearn: 0.0000900\ttotal: 26.1s\tremaining: 15.6s\n",
            "626:\tlearn: 0.0000900\ttotal: 26.1s\tremaining: 15.5s\n",
            "627:\tlearn: 0.0000900\ttotal: 26.2s\tremaining: 15.5s\n",
            "628:\tlearn: 0.0000900\ttotal: 26.2s\tremaining: 15.5s\n",
            "629:\tlearn: 0.0000894\ttotal: 26.3s\tremaining: 15.5s\n",
            "630:\tlearn: 0.0000893\ttotal: 26.4s\tremaining: 15.4s\n",
            "631:\tlearn: 0.0000893\ttotal: 26.5s\tremaining: 15.4s\n",
            "632:\tlearn: 0.0000893\ttotal: 26.5s\tremaining: 15.4s\n",
            "633:\tlearn: 0.0000884\ttotal: 26.6s\tremaining: 15.3s\n",
            "634:\tlearn: 0.0000884\ttotal: 26.6s\tremaining: 15.3s\n",
            "635:\tlearn: 0.0000884\ttotal: 26.6s\tremaining: 15.2s\n",
            "636:\tlearn: 0.0000884\ttotal: 26.8s\tremaining: 15.3s\n",
            "637:\tlearn: 0.0000884\ttotal: 26.9s\tremaining: 15.3s\n",
            "638:\tlearn: 0.0000883\ttotal: 27s\tremaining: 15.2s\n",
            "639:\tlearn: 0.0000883\ttotal: 27.3s\tremaining: 15.3s\n",
            "640:\tlearn: 0.0000883\ttotal: 27.5s\tremaining: 15.4s\n",
            "641:\tlearn: 0.0000883\ttotal: 27.7s\tremaining: 15.5s\n",
            "642:\tlearn: 0.0000883\ttotal: 28s\tremaining: 15.5s\n",
            "643:\tlearn: 0.0000883\ttotal: 28.3s\tremaining: 15.6s\n",
            "644:\tlearn: 0.0000883\ttotal: 28.4s\tremaining: 15.6s\n",
            "645:\tlearn: 0.0000883\ttotal: 28.5s\tremaining: 15.6s\n",
            "646:\tlearn: 0.0000883\ttotal: 28.7s\tremaining: 15.6s\n",
            "647:\tlearn: 0.0000881\ttotal: 28.8s\tremaining: 15.6s\n",
            "648:\tlearn: 0.0000881\ttotal: 28.9s\tremaining: 15.6s\n",
            "649:\tlearn: 0.0000880\ttotal: 29.1s\tremaining: 15.7s\n",
            "650:\tlearn: 0.0000870\ttotal: 29.2s\tremaining: 15.7s\n",
            "651:\tlearn: 0.0000868\ttotal: 29.3s\tremaining: 15.7s\n",
            "652:\tlearn: 0.0000867\ttotal: 29.4s\tremaining: 15.6s\n",
            "653:\tlearn: 0.0000858\ttotal: 29.8s\tremaining: 15.7s\n",
            "654:\tlearn: 0.0000858\ttotal: 29.8s\tremaining: 15.7s\n",
            "655:\tlearn: 0.0000858\ttotal: 29.9s\tremaining: 15.7s\n",
            "656:\tlearn: 0.0000858\ttotal: 30.2s\tremaining: 15.7s\n",
            "657:\tlearn: 0.0000858\ttotal: 30.3s\tremaining: 15.8s\n",
            "658:\tlearn: 0.0000858\ttotal: 30.5s\tremaining: 15.8s\n",
            "659:\tlearn: 0.0000852\ttotal: 30.5s\tremaining: 15.7s\n",
            "660:\tlearn: 0.0000852\ttotal: 30.6s\tremaining: 15.7s\n",
            "661:\tlearn: 0.0000852\ttotal: 30.6s\tremaining: 15.6s\n",
            "662:\tlearn: 0.0000852\ttotal: 30.7s\tremaining: 15.6s\n",
            "663:\tlearn: 0.0000852\ttotal: 30.7s\tremaining: 15.6s\n",
            "664:\tlearn: 0.0000850\ttotal: 30.8s\tremaining: 15.5s\n",
            "665:\tlearn: 0.0000850\ttotal: 30.8s\tremaining: 15.5s\n",
            "666:\tlearn: 0.0000849\ttotal: 30.9s\tremaining: 15.4s\n",
            "667:\tlearn: 0.0000849\ttotal: 30.9s\tremaining: 15.4s\n",
            "668:\tlearn: 0.0000847\ttotal: 30.9s\tremaining: 15.3s\n",
            "669:\tlearn: 0.0000847\ttotal: 31s\tremaining: 15.3s\n",
            "670:\tlearn: 0.0000847\ttotal: 31s\tremaining: 15.2s\n",
            "671:\tlearn: 0.0000847\ttotal: 31s\tremaining: 15.2s\n",
            "672:\tlearn: 0.0000842\ttotal: 31.1s\tremaining: 15.1s\n",
            "673:\tlearn: 0.0000842\ttotal: 31.1s\tremaining: 15.1s\n",
            "674:\tlearn: 0.0000833\ttotal: 31.2s\tremaining: 15s\n",
            "675:\tlearn: 0.0000833\ttotal: 31.2s\tremaining: 15s\n",
            "676:\tlearn: 0.0000833\ttotal: 31.2s\tremaining: 14.9s\n",
            "677:\tlearn: 0.0000833\ttotal: 31.3s\tremaining: 14.9s\n",
            "678:\tlearn: 0.0000833\ttotal: 31.3s\tremaining: 14.8s\n",
            "679:\tlearn: 0.0000833\ttotal: 31.4s\tremaining: 14.8s\n",
            "680:\tlearn: 0.0000833\ttotal: 31.4s\tremaining: 14.7s\n",
            "681:\tlearn: 0.0000833\ttotal: 31.4s\tremaining: 14.7s\n",
            "682:\tlearn: 0.0000832\ttotal: 31.5s\tremaining: 14.6s\n",
            "683:\tlearn: 0.0000832\ttotal: 31.5s\tremaining: 14.5s\n",
            "684:\tlearn: 0.0000830\ttotal: 31.5s\tremaining: 14.5s\n",
            "685:\tlearn: 0.0000830\ttotal: 31.6s\tremaining: 14.4s\n",
            "686:\tlearn: 0.0000830\ttotal: 31.6s\tremaining: 14.4s\n",
            "687:\tlearn: 0.0000830\ttotal: 31.6s\tremaining: 14.4s\n",
            "688:\tlearn: 0.0000828\ttotal: 31.7s\tremaining: 14.3s\n",
            "689:\tlearn: 0.0000820\ttotal: 31.7s\tremaining: 14.3s\n",
            "690:\tlearn: 0.0000820\ttotal: 31.8s\tremaining: 14.2s\n",
            "691:\tlearn: 0.0000820\ttotal: 31.8s\tremaining: 14.2s\n",
            "692:\tlearn: 0.0000810\ttotal: 31.9s\tremaining: 14.1s\n",
            "693:\tlearn: 0.0000810\ttotal: 31.9s\tremaining: 14.1s\n",
            "694:\tlearn: 0.0000810\ttotal: 31.9s\tremaining: 14s\n",
            "695:\tlearn: 0.0000809\ttotal: 32s\tremaining: 14s\n",
            "696:\tlearn: 0.0000809\ttotal: 32s\tremaining: 13.9s\n",
            "697:\tlearn: 0.0000809\ttotal: 32s\tremaining: 13.9s\n",
            "698:\tlearn: 0.0000809\ttotal: 32.1s\tremaining: 13.8s\n",
            "699:\tlearn: 0.0000809\ttotal: 32.1s\tremaining: 13.8s\n",
            "700:\tlearn: 0.0000809\ttotal: 32.1s\tremaining: 13.7s\n",
            "701:\tlearn: 0.0000809\ttotal: 32.2s\tremaining: 13.7s\n",
            "702:\tlearn: 0.0000809\ttotal: 32.2s\tremaining: 13.6s\n",
            "703:\tlearn: 0.0000809\ttotal: 32.3s\tremaining: 13.6s\n",
            "704:\tlearn: 0.0000809\ttotal: 32.3s\tremaining: 13.5s\n",
            "705:\tlearn: 0.0000809\ttotal: 32.4s\tremaining: 13.5s\n",
            "706:\tlearn: 0.0000800\ttotal: 32.4s\tremaining: 13.4s\n",
            "707:\tlearn: 0.0000799\ttotal: 32.5s\tremaining: 13.4s\n",
            "708:\tlearn: 0.0000798\ttotal: 32.5s\tremaining: 13.3s\n",
            "709:\tlearn: 0.0000798\ttotal: 32.6s\tremaining: 13.3s\n",
            "710:\tlearn: 0.0000797\ttotal: 32.6s\tremaining: 13.3s\n",
            "711:\tlearn: 0.0000796\ttotal: 32.6s\tremaining: 13.2s\n",
            "712:\tlearn: 0.0000796\ttotal: 32.7s\tremaining: 13.2s\n",
            "713:\tlearn: 0.0000794\ttotal: 32.7s\tremaining: 13.1s\n",
            "714:\tlearn: 0.0000794\ttotal: 32.7s\tremaining: 13.1s\n",
            "715:\tlearn: 0.0000793\ttotal: 32.8s\tremaining: 13s\n",
            "716:\tlearn: 0.0000793\ttotal: 32.8s\tremaining: 13s\n",
            "717:\tlearn: 0.0000793\ttotal: 32.8s\tremaining: 12.9s\n",
            "718:\tlearn: 0.0000788\ttotal: 32.9s\tremaining: 12.9s\n",
            "719:\tlearn: 0.0000788\ttotal: 32.9s\tremaining: 12.8s\n",
            "720:\tlearn: 0.0000788\ttotal: 33s\tremaining: 12.8s\n",
            "721:\tlearn: 0.0000788\ttotal: 33s\tremaining: 12.7s\n",
            "722:\tlearn: 0.0000788\ttotal: 33s\tremaining: 12.7s\n",
            "723:\tlearn: 0.0000783\ttotal: 33.1s\tremaining: 12.6s\n",
            "724:\tlearn: 0.0000783\ttotal: 33.1s\tremaining: 12.6s\n",
            "725:\tlearn: 0.0000783\ttotal: 33.1s\tremaining: 12.5s\n",
            "726:\tlearn: 0.0000783\ttotal: 33.2s\tremaining: 12.5s\n",
            "727:\tlearn: 0.0000782\ttotal: 33.2s\tremaining: 12.4s\n",
            "728:\tlearn: 0.0000782\ttotal: 33.3s\tremaining: 12.4s\n",
            "729:\tlearn: 0.0000782\ttotal: 33.3s\tremaining: 12.3s\n",
            "730:\tlearn: 0.0000781\ttotal: 33.3s\tremaining: 12.3s\n",
            "731:\tlearn: 0.0000781\ttotal: 33.4s\tremaining: 12.2s\n",
            "732:\tlearn: 0.0000779\ttotal: 33.4s\tremaining: 12.2s\n",
            "733:\tlearn: 0.0000779\ttotal: 33.4s\tremaining: 12.1s\n",
            "734:\tlearn: 0.0000772\ttotal: 33.5s\tremaining: 12.1s\n",
            "735:\tlearn: 0.0000772\ttotal: 33.5s\tremaining: 12s\n",
            "736:\tlearn: 0.0000770\ttotal: 33.6s\tremaining: 12s\n",
            "737:\tlearn: 0.0000770\ttotal: 33.6s\tremaining: 11.9s\n",
            "738:\tlearn: 0.0000770\ttotal: 33.6s\tremaining: 11.9s\n",
            "739:\tlearn: 0.0000770\ttotal: 33.7s\tremaining: 11.8s\n",
            "740:\tlearn: 0.0000770\ttotal: 33.7s\tremaining: 11.8s\n",
            "741:\tlearn: 0.0000770\ttotal: 33.8s\tremaining: 11.7s\n",
            "742:\tlearn: 0.0000769\ttotal: 33.8s\tremaining: 11.7s\n",
            "743:\tlearn: 0.0000769\ttotal: 33.8s\tremaining: 11.6s\n",
            "744:\tlearn: 0.0000769\ttotal: 33.9s\tremaining: 11.6s\n",
            "745:\tlearn: 0.0000769\ttotal: 33.9s\tremaining: 11.5s\n",
            "746:\tlearn: 0.0000769\ttotal: 34s\tremaining: 11.5s\n",
            "747:\tlearn: 0.0000769\ttotal: 34s\tremaining: 11.5s\n",
            "748:\tlearn: 0.0000769\ttotal: 34.1s\tremaining: 11.4s\n",
            "749:\tlearn: 0.0000769\ttotal: 34.1s\tremaining: 11.4s\n",
            "750:\tlearn: 0.0000769\ttotal: 34.1s\tremaining: 11.3s\n",
            "751:\tlearn: 0.0000760\ttotal: 34.2s\tremaining: 11.3s\n",
            "752:\tlearn: 0.0000759\ttotal: 34.2s\tremaining: 11.2s\n",
            "753:\tlearn: 0.0000759\ttotal: 34.3s\tremaining: 11.2s\n",
            "754:\tlearn: 0.0000759\ttotal: 34.3s\tremaining: 11.1s\n",
            "755:\tlearn: 0.0000758\ttotal: 34.3s\tremaining: 11.1s\n",
            "756:\tlearn: 0.0000758\ttotal: 34.4s\tremaining: 11s\n",
            "757:\tlearn: 0.0000758\ttotal: 34.4s\tremaining: 11s\n",
            "758:\tlearn: 0.0000758\ttotal: 34.4s\tremaining: 10.9s\n",
            "759:\tlearn: 0.0000758\ttotal: 34.5s\tremaining: 10.9s\n",
            "760:\tlearn: 0.0000758\ttotal: 34.5s\tremaining: 10.8s\n",
            "761:\tlearn: 0.0000758\ttotal: 34.6s\tremaining: 10.8s\n",
            "762:\tlearn: 0.0000750\ttotal: 34.6s\tremaining: 10.7s\n",
            "763:\tlearn: 0.0000750\ttotal: 34.6s\tremaining: 10.7s\n",
            "764:\tlearn: 0.0000750\ttotal: 34.7s\tremaining: 10.6s\n",
            "765:\tlearn: 0.0000750\ttotal: 34.7s\tremaining: 10.6s\n",
            "766:\tlearn: 0.0000750\ttotal: 34.7s\tremaining: 10.6s\n",
            "767:\tlearn: 0.0000750\ttotal: 34.8s\tremaining: 10.5s\n",
            "768:\tlearn: 0.0000750\ttotal: 34.8s\tremaining: 10.5s\n",
            "769:\tlearn: 0.0000750\ttotal: 34.9s\tremaining: 10.4s\n",
            "770:\tlearn: 0.0000741\ttotal: 34.9s\tremaining: 10.4s\n",
            "771:\tlearn: 0.0000741\ttotal: 34.9s\tremaining: 10.3s\n",
            "772:\tlearn: 0.0000741\ttotal: 35s\tremaining: 10.3s\n",
            "773:\tlearn: 0.0000741\ttotal: 35s\tremaining: 10.2s\n",
            "774:\tlearn: 0.0000741\ttotal: 35.1s\tremaining: 10.2s\n",
            "775:\tlearn: 0.0000739\ttotal: 35.1s\tremaining: 10.1s\n",
            "776:\tlearn: 0.0000739\ttotal: 35.1s\tremaining: 10.1s\n",
            "777:\tlearn: 0.0000739\ttotal: 35.2s\tremaining: 10s\n",
            "778:\tlearn: 0.0000739\ttotal: 35.2s\tremaining: 9.99s\n",
            "779:\tlearn: 0.0000739\ttotal: 35.3s\tremaining: 9.94s\n",
            "780:\tlearn: 0.0000738\ttotal: 35.3s\tremaining: 9.9s\n",
            "781:\tlearn: 0.0000738\ttotal: 35.3s\tremaining: 9.85s\n",
            "782:\tlearn: 0.0000738\ttotal: 35.4s\tremaining: 9.8s\n",
            "783:\tlearn: 0.0000738\ttotal: 35.4s\tremaining: 9.76s\n",
            "784:\tlearn: 0.0000738\ttotal: 35.4s\tremaining: 9.71s\n",
            "785:\tlearn: 0.0000738\ttotal: 35.5s\tremaining: 9.66s\n",
            "786:\tlearn: 0.0000738\ttotal: 35.5s\tremaining: 9.61s\n",
            "787:\tlearn: 0.0000738\ttotal: 35.5s\tremaining: 9.56s\n",
            "788:\tlearn: 0.0000738\ttotal: 35.6s\tremaining: 9.52s\n",
            "789:\tlearn: 0.0000734\ttotal: 35.6s\tremaining: 9.46s\n",
            "790:\tlearn: 0.0000734\ttotal: 35.7s\tremaining: 9.42s\n",
            "791:\tlearn: 0.0000734\ttotal: 35.7s\tremaining: 9.37s\n",
            "792:\tlearn: 0.0000734\ttotal: 35.7s\tremaining: 9.32s\n",
            "793:\tlearn: 0.0000732\ttotal: 35.8s\tremaining: 9.28s\n",
            "794:\tlearn: 0.0000732\ttotal: 35.8s\tremaining: 9.23s\n",
            "795:\tlearn: 0.0000732\ttotal: 35.8s\tremaining: 9.18s\n",
            "796:\tlearn: 0.0000732\ttotal: 35.9s\tremaining: 9.13s\n",
            "797:\tlearn: 0.0000732\ttotal: 35.9s\tremaining: 9.09s\n",
            "798:\tlearn: 0.0000732\ttotal: 35.9s\tremaining: 9.04s\n",
            "799:\tlearn: 0.0000732\ttotal: 36s\tremaining: 8.99s\n",
            "800:\tlearn: 0.0000732\ttotal: 36s\tremaining: 8.94s\n",
            "801:\tlearn: 0.0000732\ttotal: 36s\tremaining: 8.9s\n",
            "802:\tlearn: 0.0000732\ttotal: 36.1s\tremaining: 8.85s\n",
            "803:\tlearn: 0.0000732\ttotal: 36.1s\tremaining: 8.8s\n",
            "804:\tlearn: 0.0000732\ttotal: 36.2s\tremaining: 8.76s\n",
            "805:\tlearn: 0.0000732\ttotal: 36.2s\tremaining: 8.71s\n",
            "806:\tlearn: 0.0000732\ttotal: 36.2s\tremaining: 8.66s\n",
            "807:\tlearn: 0.0000732\ttotal: 36.3s\tremaining: 8.62s\n",
            "808:\tlearn: 0.0000732\ttotal: 36.3s\tremaining: 8.57s\n",
            "809:\tlearn: 0.0000731\ttotal: 36.4s\tremaining: 8.53s\n",
            "810:\tlearn: 0.0000731\ttotal: 36.4s\tremaining: 8.48s\n",
            "811:\tlearn: 0.0000731\ttotal: 36.4s\tremaining: 8.44s\n",
            "812:\tlearn: 0.0000731\ttotal: 36.5s\tremaining: 8.39s\n",
            "813:\tlearn: 0.0000731\ttotal: 36.5s\tremaining: 8.34s\n",
            "814:\tlearn: 0.0000730\ttotal: 36.6s\tremaining: 8.3s\n",
            "815:\tlearn: 0.0000730\ttotal: 36.6s\tremaining: 8.25s\n",
            "816:\tlearn: 0.0000730\ttotal: 36.6s\tremaining: 8.2s\n",
            "817:\tlearn: 0.0000730\ttotal: 36.7s\tremaining: 8.16s\n",
            "818:\tlearn: 0.0000730\ttotal: 36.7s\tremaining: 8.12s\n",
            "819:\tlearn: 0.0000729\ttotal: 36.8s\tremaining: 8.07s\n",
            "820:\tlearn: 0.0000729\ttotal: 36.8s\tremaining: 8.03s\n",
            "821:\tlearn: 0.0000729\ttotal: 36.9s\tremaining: 7.98s\n",
            "822:\tlearn: 0.0000729\ttotal: 36.9s\tremaining: 7.93s\n",
            "823:\tlearn: 0.0000729\ttotal: 36.9s\tremaining: 7.89s\n",
            "824:\tlearn: 0.0000729\ttotal: 37s\tremaining: 7.84s\n",
            "825:\tlearn: 0.0000729\ttotal: 37s\tremaining: 7.8s\n",
            "826:\tlearn: 0.0000729\ttotal: 37s\tremaining: 7.75s\n",
            "827:\tlearn: 0.0000729\ttotal: 37.1s\tremaining: 7.7s\n",
            "828:\tlearn: 0.0000729\ttotal: 37.1s\tremaining: 7.65s\n",
            "829:\tlearn: 0.0000729\ttotal: 37.1s\tremaining: 7.61s\n",
            "830:\tlearn: 0.0000723\ttotal: 37.2s\tremaining: 7.56s\n",
            "831:\tlearn: 0.0000723\ttotal: 37.2s\tremaining: 7.51s\n",
            "832:\tlearn: 0.0000723\ttotal: 37.2s\tremaining: 7.47s\n",
            "833:\tlearn: 0.0000723\ttotal: 37.3s\tremaining: 7.42s\n",
            "834:\tlearn: 0.0000722\ttotal: 37.3s\tremaining: 7.37s\n",
            "835:\tlearn: 0.0000722\ttotal: 37.4s\tremaining: 7.33s\n",
            "836:\tlearn: 0.0000722\ttotal: 37.4s\tremaining: 7.28s\n",
            "837:\tlearn: 0.0000722\ttotal: 37.4s\tremaining: 7.23s\n",
            "838:\tlearn: 0.0000722\ttotal: 37.5s\tremaining: 7.19s\n",
            "839:\tlearn: 0.0000722\ttotal: 37.5s\tremaining: 7.14s\n",
            "840:\tlearn: 0.0000722\ttotal: 37.5s\tremaining: 7.09s\n",
            "841:\tlearn: 0.0000722\ttotal: 37.6s\tremaining: 7.05s\n",
            "842:\tlearn: 0.0000722\ttotal: 37.6s\tremaining: 7s\n",
            "843:\tlearn: 0.0000721\ttotal: 37.6s\tremaining: 6.95s\n",
            "844:\tlearn: 0.0000721\ttotal: 37.7s\tremaining: 6.91s\n",
            "845:\tlearn: 0.0000721\ttotal: 37.7s\tremaining: 6.86s\n",
            "846:\tlearn: 0.0000721\ttotal: 37.7s\tremaining: 6.81s\n",
            "847:\tlearn: 0.0000721\ttotal: 37.8s\tremaining: 6.77s\n",
            "848:\tlearn: 0.0000720\ttotal: 37.8s\tremaining: 6.72s\n",
            "849:\tlearn: 0.0000720\ttotal: 37.8s\tremaining: 6.67s\n",
            "850:\tlearn: 0.0000720\ttotal: 37.9s\tremaining: 6.63s\n",
            "851:\tlearn: 0.0000720\ttotal: 37.9s\tremaining: 6.59s\n",
            "852:\tlearn: 0.0000714\ttotal: 38s\tremaining: 6.54s\n",
            "853:\tlearn: 0.0000714\ttotal: 38s\tremaining: 6.49s\n",
            "854:\tlearn: 0.0000712\ttotal: 38s\tremaining: 6.45s\n",
            "855:\tlearn: 0.0000712\ttotal: 38.1s\tremaining: 6.4s\n",
            "856:\tlearn: 0.0000712\ttotal: 38.1s\tremaining: 6.36s\n",
            "857:\tlearn: 0.0000711\ttotal: 38.1s\tremaining: 6.31s\n",
            "858:\tlearn: 0.0000711\ttotal: 38.2s\tremaining: 6.26s\n",
            "859:\tlearn: 0.0000704\ttotal: 38.2s\tremaining: 6.22s\n",
            "860:\tlearn: 0.0000700\ttotal: 38.2s\tremaining: 6.17s\n",
            "861:\tlearn: 0.0000700\ttotal: 38.3s\tremaining: 6.13s\n",
            "862:\tlearn: 0.0000700\ttotal: 38.4s\tremaining: 6.09s\n",
            "863:\tlearn: 0.0000693\ttotal: 38.4s\tremaining: 6.04s\n",
            "864:\tlearn: 0.0000691\ttotal: 38.4s\tremaining: 6s\n",
            "865:\tlearn: 0.0000691\ttotal: 38.5s\tremaining: 5.95s\n",
            "866:\tlearn: 0.0000690\ttotal: 38.5s\tremaining: 5.9s\n",
            "867:\tlearn: 0.0000686\ttotal: 38.5s\tremaining: 5.86s\n",
            "868:\tlearn: 0.0000686\ttotal: 38.6s\tremaining: 5.81s\n",
            "869:\tlearn: 0.0000686\ttotal: 38.6s\tremaining: 5.77s\n",
            "870:\tlearn: 0.0000686\ttotal: 38.6s\tremaining: 5.72s\n",
            "871:\tlearn: 0.0000686\ttotal: 38.6s\tremaining: 5.67s\n",
            "872:\tlearn: 0.0000686\ttotal: 38.7s\tremaining: 5.63s\n",
            "873:\tlearn: 0.0000686\ttotal: 38.7s\tremaining: 5.58s\n",
            "874:\tlearn: 0.0000686\ttotal: 38.8s\tremaining: 5.54s\n",
            "875:\tlearn: 0.0000686\ttotal: 38.8s\tremaining: 5.49s\n",
            "876:\tlearn: 0.0000686\ttotal: 38.8s\tremaining: 5.44s\n",
            "877:\tlearn: 0.0000686\ttotal: 38.9s\tremaining: 5.4s\n",
            "878:\tlearn: 0.0000685\ttotal: 38.9s\tremaining: 5.35s\n",
            "879:\tlearn: 0.0000685\ttotal: 38.9s\tremaining: 5.31s\n",
            "880:\tlearn: 0.0000685\ttotal: 39s\tremaining: 5.26s\n",
            "881:\tlearn: 0.0000685\ttotal: 39s\tremaining: 5.22s\n",
            "882:\tlearn: 0.0000685\ttotal: 39.1s\tremaining: 5.17s\n",
            "883:\tlearn: 0.0000685\ttotal: 39.1s\tremaining: 5.13s\n",
            "884:\tlearn: 0.0000685\ttotal: 39.1s\tremaining: 5.08s\n",
            "885:\tlearn: 0.0000680\ttotal: 39.2s\tremaining: 5.04s\n",
            "886:\tlearn: 0.0000680\ttotal: 39.2s\tremaining: 4.99s\n",
            "887:\tlearn: 0.0000672\ttotal: 39.2s\tremaining: 4.95s\n",
            "888:\tlearn: 0.0000672\ttotal: 39.3s\tremaining: 4.9s\n",
            "889:\tlearn: 0.0000669\ttotal: 39.3s\tremaining: 4.86s\n",
            "890:\tlearn: 0.0000669\ttotal: 39.3s\tremaining: 4.81s\n",
            "891:\tlearn: 0.0000669\ttotal: 39.4s\tremaining: 4.77s\n",
            "892:\tlearn: 0.0000669\ttotal: 39.4s\tremaining: 4.72s\n",
            "893:\tlearn: 0.0000669\ttotal: 39.5s\tremaining: 4.68s\n",
            "894:\tlearn: 0.0000669\ttotal: 39.5s\tremaining: 4.63s\n",
            "895:\tlearn: 0.0000669\ttotal: 39.5s\tremaining: 4.59s\n",
            "896:\tlearn: 0.0000669\ttotal: 39.6s\tremaining: 4.54s\n",
            "897:\tlearn: 0.0000667\ttotal: 39.6s\tremaining: 4.5s\n",
            "898:\tlearn: 0.0000667\ttotal: 39.7s\tremaining: 4.46s\n",
            "899:\tlearn: 0.0000667\ttotal: 39.7s\tremaining: 4.41s\n",
            "900:\tlearn: 0.0000667\ttotal: 39.7s\tremaining: 4.37s\n",
            "901:\tlearn: 0.0000667\ttotal: 39.8s\tremaining: 4.32s\n",
            "902:\tlearn: 0.0000666\ttotal: 39.8s\tremaining: 4.28s\n",
            "903:\tlearn: 0.0000666\ttotal: 39.8s\tremaining: 4.23s\n",
            "904:\tlearn: 0.0000666\ttotal: 39.9s\tremaining: 4.18s\n",
            "905:\tlearn: 0.0000666\ttotal: 39.9s\tremaining: 4.14s\n",
            "906:\tlearn: 0.0000666\ttotal: 39.9s\tremaining: 4.1s\n",
            "907:\tlearn: 0.0000665\ttotal: 40s\tremaining: 4.05s\n",
            "908:\tlearn: 0.0000665\ttotal: 40s\tremaining: 4.01s\n",
            "909:\tlearn: 0.0000665\ttotal: 40.1s\tremaining: 3.96s\n",
            "910:\tlearn: 0.0000665\ttotal: 40.1s\tremaining: 3.92s\n",
            "911:\tlearn: 0.0000659\ttotal: 40.1s\tremaining: 3.87s\n",
            "912:\tlearn: 0.0000659\ttotal: 40.2s\tremaining: 3.83s\n",
            "913:\tlearn: 0.0000659\ttotal: 40.2s\tremaining: 3.78s\n",
            "914:\tlearn: 0.0000657\ttotal: 40.3s\tremaining: 3.74s\n",
            "915:\tlearn: 0.0000657\ttotal: 40.3s\tremaining: 3.69s\n",
            "916:\tlearn: 0.0000657\ttotal: 40.3s\tremaining: 3.65s\n",
            "917:\tlearn: 0.0000657\ttotal: 40.4s\tremaining: 3.61s\n",
            "918:\tlearn: 0.0000657\ttotal: 40.4s\tremaining: 3.56s\n",
            "919:\tlearn: 0.0000657\ttotal: 40.4s\tremaining: 3.52s\n",
            "920:\tlearn: 0.0000657\ttotal: 40.5s\tremaining: 3.47s\n",
            "921:\tlearn: 0.0000657\ttotal: 40.5s\tremaining: 3.43s\n",
            "922:\tlearn: 0.0000657\ttotal: 40.6s\tremaining: 3.38s\n",
            "923:\tlearn: 0.0000657\ttotal: 40.6s\tremaining: 3.34s\n",
            "924:\tlearn: 0.0000657\ttotal: 40.6s\tremaining: 3.29s\n",
            "925:\tlearn: 0.0000656\ttotal: 40.7s\tremaining: 3.25s\n",
            "926:\tlearn: 0.0000656\ttotal: 40.7s\tremaining: 3.21s\n",
            "927:\tlearn: 0.0000656\ttotal: 40.8s\tremaining: 3.16s\n",
            "928:\tlearn: 0.0000656\ttotal: 40.8s\tremaining: 3.12s\n",
            "929:\tlearn: 0.0000656\ttotal: 40.8s\tremaining: 3.07s\n",
            "930:\tlearn: 0.0000656\ttotal: 40.9s\tremaining: 3.03s\n",
            "931:\tlearn: 0.0000656\ttotal: 40.9s\tremaining: 2.99s\n",
            "932:\tlearn: 0.0000656\ttotal: 41s\tremaining: 2.94s\n",
            "933:\tlearn: 0.0000656\ttotal: 41s\tremaining: 2.9s\n",
            "934:\tlearn: 0.0000656\ttotal: 41.1s\tremaining: 2.85s\n",
            "935:\tlearn: 0.0000656\ttotal: 41.1s\tremaining: 2.81s\n",
            "936:\tlearn: 0.0000656\ttotal: 41.1s\tremaining: 2.77s\n",
            "937:\tlearn: 0.0000653\ttotal: 41.2s\tremaining: 2.72s\n",
            "938:\tlearn: 0.0000653\ttotal: 41.2s\tremaining: 2.68s\n",
            "939:\tlearn: 0.0000653\ttotal: 41.3s\tremaining: 2.63s\n",
            "940:\tlearn: 0.0000653\ttotal: 41.3s\tremaining: 2.59s\n",
            "941:\tlearn: 0.0000653\ttotal: 41.4s\tremaining: 2.55s\n",
            "942:\tlearn: 0.0000653\ttotal: 41.4s\tremaining: 2.5s\n",
            "943:\tlearn: 0.0000653\ttotal: 41.4s\tremaining: 2.46s\n",
            "944:\tlearn: 0.0000646\ttotal: 41.5s\tremaining: 2.41s\n",
            "945:\tlearn: 0.0000646\ttotal: 41.5s\tremaining: 2.37s\n",
            "946:\tlearn: 0.0000646\ttotal: 41.5s\tremaining: 2.33s\n",
            "947:\tlearn: 0.0000646\ttotal: 41.6s\tremaining: 2.28s\n",
            "948:\tlearn: 0.0000643\ttotal: 41.6s\tremaining: 2.24s\n",
            "949:\tlearn: 0.0000643\ttotal: 41.7s\tremaining: 2.19s\n",
            "950:\tlearn: 0.0000643\ttotal: 41.7s\tremaining: 2.15s\n",
            "951:\tlearn: 0.0000643\ttotal: 41.7s\tremaining: 2.1s\n",
            "952:\tlearn: 0.0000640\ttotal: 41.8s\tremaining: 2.06s\n",
            "953:\tlearn: 0.0000639\ttotal: 41.8s\tremaining: 2.02s\n",
            "954:\tlearn: 0.0000639\ttotal: 41.9s\tremaining: 1.97s\n",
            "955:\tlearn: 0.0000639\ttotal: 41.9s\tremaining: 1.93s\n",
            "956:\tlearn: 0.0000639\ttotal: 41.9s\tremaining: 1.88s\n",
            "957:\tlearn: 0.0000633\ttotal: 42s\tremaining: 1.84s\n",
            "958:\tlearn: 0.0000633\ttotal: 42s\tremaining: 1.79s\n",
            "959:\tlearn: 0.0000633\ttotal: 42s\tremaining: 1.75s\n",
            "960:\tlearn: 0.0000633\ttotal: 42.1s\tremaining: 1.71s\n",
            "961:\tlearn: 0.0000633\ttotal: 42.1s\tremaining: 1.66s\n",
            "962:\tlearn: 0.0000633\ttotal: 42.1s\tremaining: 1.62s\n",
            "963:\tlearn: 0.0000633\ttotal: 42.3s\tremaining: 1.58s\n",
            "964:\tlearn: 0.0000633\ttotal: 42.4s\tremaining: 1.54s\n",
            "965:\tlearn: 0.0000633\ttotal: 42.4s\tremaining: 1.49s\n",
            "966:\tlearn: 0.0000626\ttotal: 42.5s\tremaining: 1.45s\n",
            "967:\tlearn: 0.0000626\ttotal: 42.5s\tremaining: 1.4s\n",
            "968:\tlearn: 0.0000625\ttotal: 42.5s\tremaining: 1.36s\n",
            "969:\tlearn: 0.0000625\ttotal: 42.6s\tremaining: 1.32s\n",
            "970:\tlearn: 0.0000625\ttotal: 42.6s\tremaining: 1.27s\n",
            "971:\tlearn: 0.0000624\ttotal: 42.6s\tremaining: 1.23s\n",
            "972:\tlearn: 0.0000624\ttotal: 42.7s\tremaining: 1.18s\n",
            "973:\tlearn: 0.0000623\ttotal: 42.7s\tremaining: 1.14s\n",
            "974:\tlearn: 0.0000622\ttotal: 42.7s\tremaining: 1.1s\n",
            "975:\tlearn: 0.0000622\ttotal: 42.8s\tremaining: 1.05s\n",
            "976:\tlearn: 0.0000622\ttotal: 42.8s\tremaining: 1.01s\n",
            "977:\tlearn: 0.0000622\ttotal: 42.8s\tremaining: 964ms\n",
            "978:\tlearn: 0.0000622\ttotal: 42.9s\tremaining: 920ms\n",
            "979:\tlearn: 0.0000622\ttotal: 42.9s\tremaining: 876ms\n",
            "980:\tlearn: 0.0000622\ttotal: 42.9s\tremaining: 832ms\n",
            "981:\tlearn: 0.0000622\ttotal: 43s\tremaining: 788ms\n",
            "982:\tlearn: 0.0000622\ttotal: 43s\tremaining: 744ms\n",
            "983:\tlearn: 0.0000617\ttotal: 43.1s\tremaining: 700ms\n",
            "984:\tlearn: 0.0000617\ttotal: 43.1s\tremaining: 656ms\n",
            "985:\tlearn: 0.0000617\ttotal: 43.1s\tremaining: 613ms\n",
            "986:\tlearn: 0.0000617\ttotal: 43.2s\tremaining: 569ms\n",
            "987:\tlearn: 0.0000616\ttotal: 43.2s\tremaining: 525ms\n",
            "988:\tlearn: 0.0000616\ttotal: 43.2s\tremaining: 481ms\n",
            "989:\tlearn: 0.0000616\ttotal: 43.3s\tremaining: 437ms\n",
            "990:\tlearn: 0.0000616\ttotal: 43.3s\tremaining: 393ms\n",
            "991:\tlearn: 0.0000616\ttotal: 43.3s\tremaining: 349ms\n",
            "992:\tlearn: 0.0000616\ttotal: 43.4s\tremaining: 306ms\n",
            "993:\tlearn: 0.0000616\ttotal: 43.4s\tremaining: 262ms\n",
            "994:\tlearn: 0.0000616\ttotal: 43.4s\tremaining: 218ms\n",
            "995:\tlearn: 0.0000615\ttotal: 43.5s\tremaining: 175ms\n",
            "996:\tlearn: 0.0000615\ttotal: 43.5s\tremaining: 131ms\n",
            "997:\tlearn: 0.0000615\ttotal: 43.5s\tremaining: 87.3ms\n",
            "998:\tlearn: 0.0000615\ttotal: 43.6s\tremaining: 43.6ms\n",
            "999:\tlearn: 0.0000615\ttotal: 43.6s\tremaining: 0us\n"
          ]
        },
        {
          "data": {
            "text/plain": [
              "<catboost.core.CatBoostClassifier at 0x148319520>"
            ]
          },
          "execution_count": 289,
          "metadata": {},
          "output_type": "execute_result"
        }
      ],
      "source": [
        "# <USE IT!>\n",
        "clf = CatBoostClassifier()\n",
        "clf.fit(sparse_data_train, clean_data_train['average_bill'])"
      ]
    },
    {
      "cell_type": "markdown",
      "metadata": {
        "id": "SBOpZY9BGH7Q"
      },
      "source": [
        "**11. Пришлите в Контест balanced_accuracy_score на тестовой выборке, округлённый до двух знаков после запятой**. Стало ли сильно лучше от того, что мы воспользовались таким крутым классификатором?"
      ]
    },
    {
      "cell_type": "code",
      "execution_count": 290,
      "metadata": {},
      "outputs": [
        {
          "data": {
            "text/plain": [
              "1.0"
            ]
          },
          "execution_count": 290,
          "metadata": {},
          "output_type": "execute_result"
        }
      ],
      "source": [
        "bal_acc = balanced_accuracy_score(clean_data_test['average_bill'], clf.predict(sparse_data_test))\n",
        "bal_acc"
      ]
    }
  ],
  "metadata": {
    "colab": {
      "provenance": []
    },
    "kernelspec": {
      "display_name": ".venv",
      "language": "python",
      "name": "python3"
    },
    "language_info": {
      "codemirror_mode": {
        "name": "ipython",
        "version": 3
      },
      "file_extension": ".py",
      "mimetype": "text/x-python",
      "name": "python",
      "nbconvert_exporter": "python",
      "pygments_lexer": "ipython3",
      "version": "3.12.2"
    }
  },
  "nbformat": 4,
  "nbformat_minor": 0
}
